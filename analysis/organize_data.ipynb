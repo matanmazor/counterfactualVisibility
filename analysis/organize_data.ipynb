{
 "cells": [
  {
   "cell_type": "code",
   "execution_count": 1,
   "metadata": {},
   "outputs": [],
   "source": [
    "import json\n",
    "import pandas as pd\n",
    "import numpy as np\n",
    "from os import path as path\n",
    "import glob\n",
    "import imageio\n",
    "import numpy.ma as ma\n",
    "import pathlib\n"
   ]
  },
  {
   "cell_type": "code",
   "execution_count": 15,
   "metadata": {},
   "outputs": [],
   "source": [
    "A = imageio.imread('stimuli/A.png')[:,:,1]\n",
    "S = imageio.imread('stimuli/S.png')[:,:,1]\n",
    "\n",
    "targets = {'A': A, 'S':S}\n",
    "\n",
    "def get_correlation_with_S(row):\n",
    "    if str(row['presented_pixel_data'])=='nan':\n",
    "        return 0\n",
    "    else:\n",
    "        presented_pixel_data = np.array(row['presented_pixel_data'], dtype=float)\n",
    "        correlation_per_frame = np.array([ma.corrcoef(ma.masked_invalid(frame.flatten()),\n",
    "                                            ma.masked_invalid(S.flatten()))[0,1] for frame in presented_pixel_data])\n",
    "        return correlation_per_frame\n",
    "    \n",
    "def get_correlation_with_A(row):\n",
    "    if str(row['presented_pixel_data'])=='nan':\n",
    "        return 0\n",
    "    else:\n",
    "        presented_pixel_data = np.array(row['presented_pixel_data'], dtype=float)\n",
    "        correlation_per_frame = np.array([ma.corrcoef(ma.masked_invalid(frame.flatten()),\n",
    "                                            ma.masked_invalid(A.flatten()))[0,1] for frame in presented_pixel_data])\n",
    "        return correlation_per_frame\n",
    "    \n",
    "def get_correlation_with_target_letter(row):\n",
    "    if row.target=='S':\n",
    "        return get_correlation_with_S(row)\n",
    "    elif row.target=='A':\n",
    "        return(get_correlation_with_A(row))\n",
    "    \n",
    "def get_correlation_with_other_letter(row):\n",
    "    if row.target=='A':\n",
    "        return get_correlation_with_S(row)\n",
    "    elif row.target=='S':\n",
    "        return(get_correlation_with_A(row))\n",
    "    \n",
    "def get_correlations(row):\n",
    "    target = get_correlation_with_target_letter(row) \n",
    "    other = get_correlation_with_other_letter(row)   \n",
    "    \n",
    "    if target is None:\n",
    "        return [[0],[0]]\n",
    "        \n",
    "    return list(zip(list(target), list(other)))\n",
    "\n",
    "\n",
    "def get_SSE(vector1,vector2):\n",
    "    return sum((a - b)**2 for a, b in zip(vector1, vector2) if not (np.isnan(a) or np.isnan(b)))\n",
    "\n",
    "def get_SSE_with_S(row):\n",
    "    if str(row['presented_pixel_data'])=='nan':\n",
    "        return 0\n",
    "    else:\n",
    "        presented_pixel_data = np.array(row['presented_pixel_data'], dtype=float)\n",
    "        SSE_per_frame = np.array([get_SSE(frame.flatten(),S.flatten()) for frame in presented_pixel_data])\n",
    "        return SSE_per_frame\n",
    "    \n",
    "def get_SSE_with_A(row):\n",
    "    if str(row['presented_pixel_data'])=='nan':\n",
    "        return 0\n",
    "    else:\n",
    "        presented_pixel_data = np.array(row['presented_pixel_data'], dtype=float)\n",
    "        SSE_per_frame = np.array([get_SSE(frame.flatten(),A.flatten()) for frame in presented_pixel_data])\n",
    "        return SSE_per_frame\n",
    "    \n",
    "def get_SSE_with_target_letter(row):\n",
    "    if row.target=='S':\n",
    "        return get_SSE_with_S(row)\n",
    "    elif row.target=='A':\n",
    "        return(get_SSE_with_A(row))\n",
    "    \n",
    "def get_SSE_with_other_letter(row):\n",
    "    if row.target=='A':\n",
    "        return get_SSE_with_S(row)\n",
    "    elif row.target=='S':\n",
    "        return(get_SSE_with_A(row))\n",
    "    \n",
    "def get_correlations_and_SSEs(row):\n",
    "    cor_target = get_correlation_with_target_letter(row) \n",
    "    if cor_target is None:\n",
    "        return [[0],[0],[0],[0]]\n",
    "    \n",
    "    cor_other = get_correlation_with_other_letter(row)   \n",
    "    SSE_target = get_SSE_with_target_letter(row) \n",
    "    SSE_other = get_SSE_with_other_letter(row)   \n",
    "\n",
    "    return list(zip(list(cor_target), list(cor_other),\n",
    "                   list(SSE_target), list(SSE_other)))\n",
    "\n",
    "def get_correlations(row):\n",
    "    cor_target = get_correlation_with_target_letter(row) \n",
    "    if cor_target is None:\n",
    "        return [[0],[0]]\n",
    "    \n",
    "    cor_other = get_correlation_with_other_letter(row)   \n",
    "    return list(zip(list(cor_target), list(cor_other)))\n",
    "    \n",
    "    \n",
    "def get_correlation_with_mask(row):\n",
    "    if str(row['presented_pixel_data'])=='nan':\n",
    "        return 0\n",
    "    else:\n",
    "        presented_pixel_data = np.array(row['presented_pixel_data'], dtype=float)\n",
    "        target = targets[row['target']];\n",
    "        correlation_with_nans = ma.corrcoef(np.where(np.isnan(presented_pixel_data[0,:,:].flatten()),1,0),\n",
    "                                            target.flatten())[0,1]\n",
    "        return correlation_with_nans"
   ]
  },
  {
   "cell_type": "code",
   "execution_count": 30,
   "metadata": {},
   "outputs": [],
   "source": [
    "def get_num_pixels_hidden(row):\n",
    "    if str(row['presented_pixel_data'])=='nan':\n",
    "        return 0\n",
    "    else:\n",
    "        presented_pixel_data = row['presented_pixel_data']\n",
    "        first_frame = presented_pixel_data[0];\n",
    "        number_of_hidden_pixels = len([item for sublist in first_frame for item in sublist if str(item) == 'None'])\n",
    "        return number_of_hidden_pixels\n",
    "\n",
    "def to_csv_multiple_files(dirname):\n",
    "    dfs=[]\n",
    "    json_files = glob.glob(path.join(dirname,'*','*.json'))\n",
    "    for i,file in enumerate(json_files):\n",
    "                mydf = pd.read_json(file)\n",
    "                mydf['num_pixels_hidden'] = mydf.apply(get_num_pixels_hidden, axis=1)\n",
    "                mydf['correlation_with_target_letter'] = mydf.apply(get_correlation_with_target_letter, axis=1) \n",
    "                mydf['correlation_with_mask'] = mydf.apply(get_correlation_with_mask, axis=1)\n",
    "                mydf = mydf.explode('correlation_with_target_letter');\n",
    "                mydf['frame_index'] = mydf.groupby('trial_index').cumcount()\n",
    "                dfs.append(mydf.drop('presented_pixel_data',axis=1));\n",
    "    group_df = pd.concat(dfs)\n",
    "    group_df.to_csv(dirname+'/all_data.csv', index=False)\n",
    "    return(group_df)\n",
    "\n",
    "#12.03.2023: JATOS changed their export data format (the tree structure is more convolved now)\n",
    "def to_csv_multiple_files_new_format(dirname):\n",
    "    dfs=[]\n",
    "    json_files = pathlib.Path(dirname).glob('**/*.json')\n",
    "    for i,file in enumerate(json_files):\n",
    "                mydf = pd.read_json(file)\n",
    "                mydf['num_pixels_hidden'] = mydf.apply(get_num_pixels_hidden, axis=1)\n",
    "                mydf['correlation_with_target_letter'] = mydf.apply(get_correlation_with_target_letter, axis=1)   \n",
    "                mydf['correlation_with_mask'] = mydf.apply(get_correlation_with_mask, axis=1)\n",
    "                mydf = mydf.explode('correlation_with_target_letter');\n",
    "                mydf['frame_index'] = mydf.groupby('trial_index').cumcount()\n",
    "                dfs.append(mydf.drop('presented_pixel_data',axis=1));\n",
    "    group_df = pd.concat(dfs)\n",
    "    group_df.to_csv(dirname+'/all_data.csv', index=False)\n",
    "    return(group_df)\n",
    "\n",
    "def to_csv_multiple_files_new_format_with_other_letter(dirname):\n",
    "    dfs=[]\n",
    "    json_files = pathlib.Path(dirname).glob('**/*.json')\n",
    "    for i,file in enumerate(json_files):\n",
    "                mydf = pd.read_json(file)\n",
    "                mydf['num_pixels_hidden'] = mydf.apply(get_num_pixels_hidden, axis=1)\n",
    "                mydf['correlations'] = mydf.apply(get_correlations, axis=1)   \n",
    "                mydf['correlation_with_mask'] = mydf.apply(get_correlation_with_mask, axis=1)\n",
    "                mydf = mydf.explode('correlations');\n",
    "                mydf[['correlation_with_target_letter', 'correlation_with_other_letter']] = pd.DataFrame(mydf['correlations'].tolist(), index=mydf.index)\n",
    "                mydf['frame_index'] = mydf.groupby('trial_index').cumcount()\n",
    "                dfs.append(mydf.drop('presented_pixel_data',axis=1));\n",
    "    group_df = pd.concat(dfs)\n",
    "    group_df.to_csv(dirname+'/all_data.csv', index=False)\n",
    "    return(group_df)\n",
    "\n",
    "def to_csv_multiple_files_new_format_with_other_letter_and_SSE(dirname):\n",
    "    dfs=[]\n",
    "    json_files = pathlib.Path(dirname).glob('**/*.json')\n",
    "    for i,file in enumerate(json_files):\n",
    "            print(i)\n",
    "            mydf = pd.read_json(file)\n",
    "            mydf['num_pixels_hidden'] = mydf.apply(get_num_pixels_hidden, axis=1)\n",
    "            mydf['correlations'] = mydf.apply(get_correlations_and_SSEs, axis=1)   \n",
    "            mydf['correlation_with_mask'] = mydf.apply(get_correlation_with_mask, axis=1)\n",
    "            mydf = mydf.explode('correlations');\n",
    "            mydf[['correlation_with_target_letter', 'correlation_with_other_letter', \n",
    "                 'SSE_with_target_letter', 'SSE_with_other_letter']] = pd.DataFrame(mydf['correlations'].tolist(), index=mydf.index)\n",
    "            mydf['frame_index'] = mydf.groupby('trial_index').cumcount()\n",
    "            dfs.append(mydf.drop('presented_pixel_data',axis=1));\n",
    "    group_df = pd.concat(dfs)\n",
    "    group_df.to_csv(dirname+'/all_data_and_SSE.csv', index=False)\n",
    "    return(group_df)"
   ]
  },
  {
   "cell_type": "code",
   "execution_count": null,
   "metadata": {},
   "outputs": [],
   "source": [
    "group_df=to_csv_multiple_files(path.join('..','experiments','Exp1pixels','version2','data','jatos_resultfiles_batch1'))"
   ]
  },
  {
   "cell_type": "code",
   "execution_count": null,
   "metadata": {},
   "outputs": [
    {
     "name": "stderr",
     "output_type": "stream",
     "text": [
      "C:\\Users\\tanzor\\AppData\\Local\\Temp/ipykernel_37132/1340491763.py:11: UserWarning: Warning: converting a masked element to nan.\n",
      "  correlation_per_frame = np.array([ma.corrcoef(ma.masked_invalid(frame.flatten()),\n",
      "C:\\Users\\tanzor\\AppData\\Local\\Temp/ipykernel_37132/1340491763.py:20: UserWarning: Warning: converting a masked element to nan.\n",
      "  correlation_per_frame = np.array([ma.corrcoef(ma.masked_invalid(frame.flatten()),\n"
     ]
    }
   ],
   "source": [
    "group_df=to_csv_multiple_files_new_format_with_other_letter(path.join('..','experiments','Exp2rows','data','jatos_resultfiles_batch1'))"
   ]
  },
  {
   "cell_type": "code",
   "execution_count": 31,
   "metadata": {},
   "outputs": [
    {
     "name": "stdout",
     "output_type": "stream",
     "text": [
      "0\n"
     ]
    },
    {
     "name": "stderr",
     "output_type": "stream",
     "text": [
      "C:\\Users\\tanzor\\AppData\\Local\\Temp/ipykernel_37132/1340491763.py:11: UserWarning: Warning: converting a masked element to nan.\n",
      "  correlation_per_frame = np.array([ma.corrcoef(ma.masked_invalid(frame.flatten()),\n",
      "C:\\Users\\tanzor\\AppData\\Local\\Temp/ipykernel_37132/1340491763.py:20: UserWarning: Warning: converting a masked element to nan.\n",
      "  correlation_per_frame = np.array([ma.corrcoef(ma.masked_invalid(frame.flatten()),\n"
     ]
    },
    {
     "name": "stdout",
     "output_type": "stream",
     "text": [
      "1\n"
     ]
    },
    {
     "name": "stderr",
     "output_type": "stream",
     "text": [
      "C:\\Users\\tanzor\\AppData\\Local\\Temp/ipykernel_37132/1340491763.py:11: UserWarning: Warning: converting a masked element to nan.\n",
      "  correlation_per_frame = np.array([ma.corrcoef(ma.masked_invalid(frame.flatten()),\n",
      "C:\\Users\\tanzor\\AppData\\Local\\Temp/ipykernel_37132/1340491763.py:20: UserWarning: Warning: converting a masked element to nan.\n",
      "  correlation_per_frame = np.array([ma.corrcoef(ma.masked_invalid(frame.flatten()),\n"
     ]
    },
    {
     "name": "stdout",
     "output_type": "stream",
     "text": [
      "2\n"
     ]
    },
    {
     "name": "stderr",
     "output_type": "stream",
     "text": [
      "C:\\Users\\tanzor\\AppData\\Local\\Temp/ipykernel_37132/1340491763.py:20: UserWarning: Warning: converting a masked element to nan.\n",
      "  correlation_per_frame = np.array([ma.corrcoef(ma.masked_invalid(frame.flatten()),\n",
      "C:\\Users\\tanzor\\AppData\\Local\\Temp/ipykernel_37132/1340491763.py:11: UserWarning: Warning: converting a masked element to nan.\n",
      "  correlation_per_frame = np.array([ma.corrcoef(ma.masked_invalid(frame.flatten()),\n"
     ]
    },
    {
     "name": "stdout",
     "output_type": "stream",
     "text": [
      "3\n"
     ]
    },
    {
     "name": "stderr",
     "output_type": "stream",
     "text": [
      "C:\\Users\\tanzor\\AppData\\Local\\Temp/ipykernel_37132/1340491763.py:20: UserWarning: Warning: converting a masked element to nan.\n",
      "  correlation_per_frame = np.array([ma.corrcoef(ma.masked_invalid(frame.flatten()),\n",
      "C:\\Users\\tanzor\\AppData\\Local\\Temp/ipykernel_37132/1340491763.py:11: UserWarning: Warning: converting a masked element to nan.\n",
      "  correlation_per_frame = np.array([ma.corrcoef(ma.masked_invalid(frame.flatten()),\n"
     ]
    },
    {
     "name": "stdout",
     "output_type": "stream",
     "text": [
      "4\n"
     ]
    },
    {
     "name": "stderr",
     "output_type": "stream",
     "text": [
      "C:\\Users\\tanzor\\AppData\\Local\\Temp/ipykernel_37132/1340491763.py:11: UserWarning: Warning: converting a masked element to nan.\n",
      "  correlation_per_frame = np.array([ma.corrcoef(ma.masked_invalid(frame.flatten()),\n",
      "C:\\Users\\tanzor\\AppData\\Local\\Temp/ipykernel_37132/1340491763.py:20: UserWarning: Warning: converting a masked element to nan.\n",
      "  correlation_per_frame = np.array([ma.corrcoef(ma.masked_invalid(frame.flatten()),\n"
     ]
    },
    {
     "name": "stdout",
     "output_type": "stream",
     "text": [
      "5\n"
     ]
    },
    {
     "name": "stderr",
     "output_type": "stream",
     "text": [
      "C:\\Users\\tanzor\\AppData\\Local\\Temp/ipykernel_37132/1340491763.py:11: UserWarning: Warning: converting a masked element to nan.\n",
      "  correlation_per_frame = np.array([ma.corrcoef(ma.masked_invalid(frame.flatten()),\n",
      "C:\\Users\\tanzor\\AppData\\Local\\Temp/ipykernel_37132/1340491763.py:20: UserWarning: Warning: converting a masked element to nan.\n",
      "  correlation_per_frame = np.array([ma.corrcoef(ma.masked_invalid(frame.flatten()),\n"
     ]
    },
    {
     "name": "stdout",
     "output_type": "stream",
     "text": [
      "6\n"
     ]
    },
    {
     "name": "stderr",
     "output_type": "stream",
     "text": [
      "C:\\Users\\tanzor\\AppData\\Local\\Temp/ipykernel_37132/1340491763.py:11: UserWarning: Warning: converting a masked element to nan.\n",
      "  correlation_per_frame = np.array([ma.corrcoef(ma.masked_invalid(frame.flatten()),\n",
      "C:\\Users\\tanzor\\AppData\\Local\\Temp/ipykernel_37132/1340491763.py:20: UserWarning: Warning: converting a masked element to nan.\n",
      "  correlation_per_frame = np.array([ma.corrcoef(ma.masked_invalid(frame.flatten()),\n"
     ]
    },
    {
     "name": "stdout",
     "output_type": "stream",
     "text": [
      "7\n"
     ]
    },
    {
     "name": "stderr",
     "output_type": "stream",
     "text": [
      "C:\\Users\\tanzor\\AppData\\Local\\Temp/ipykernel_37132/1340491763.py:20: UserWarning: Warning: converting a masked element to nan.\n",
      "  correlation_per_frame = np.array([ma.corrcoef(ma.masked_invalid(frame.flatten()),\n",
      "C:\\Users\\tanzor\\AppData\\Local\\Temp/ipykernel_37132/1340491763.py:11: UserWarning: Warning: converting a masked element to nan.\n",
      "  correlation_per_frame = np.array([ma.corrcoef(ma.masked_invalid(frame.flatten()),\n"
     ]
    },
    {
     "name": "stdout",
     "output_type": "stream",
     "text": [
      "8\n"
     ]
    },
    {
     "name": "stderr",
     "output_type": "stream",
     "text": [
      "C:\\Users\\tanzor\\AppData\\Local\\Temp/ipykernel_37132/1340491763.py:11: UserWarning: Warning: converting a masked element to nan.\n",
      "  correlation_per_frame = np.array([ma.corrcoef(ma.masked_invalid(frame.flatten()),\n",
      "C:\\Users\\tanzor\\AppData\\Local\\Temp/ipykernel_37132/1340491763.py:20: UserWarning: Warning: converting a masked element to nan.\n",
      "  correlation_per_frame = np.array([ma.corrcoef(ma.masked_invalid(frame.flatten()),\n"
     ]
    },
    {
     "name": "stdout",
     "output_type": "stream",
     "text": [
      "9\n"
     ]
    },
    {
     "name": "stderr",
     "output_type": "stream",
     "text": [
      "C:\\Users\\tanzor\\AppData\\Local\\Temp/ipykernel_37132/1340491763.py:20: UserWarning: Warning: converting a masked element to nan.\n",
      "  correlation_per_frame = np.array([ma.corrcoef(ma.masked_invalid(frame.flatten()),\n",
      "C:\\Users\\tanzor\\AppData\\Local\\Temp/ipykernel_37132/1340491763.py:11: UserWarning: Warning: converting a masked element to nan.\n",
      "  correlation_per_frame = np.array([ma.corrcoef(ma.masked_invalid(frame.flatten()),\n"
     ]
    },
    {
     "name": "stdout",
     "output_type": "stream",
     "text": [
      "10\n"
     ]
    },
    {
     "name": "stderr",
     "output_type": "stream",
     "text": [
      "C:\\Users\\tanzor\\AppData\\Local\\Temp/ipykernel_37132/1340491763.py:20: UserWarning: Warning: converting a masked element to nan.\n",
      "  correlation_per_frame = np.array([ma.corrcoef(ma.masked_invalid(frame.flatten()),\n",
      "C:\\Users\\tanzor\\AppData\\Local\\Temp/ipykernel_37132/1340491763.py:11: UserWarning: Warning: converting a masked element to nan.\n",
      "  correlation_per_frame = np.array([ma.corrcoef(ma.masked_invalid(frame.flatten()),\n"
     ]
    },
    {
     "name": "stdout",
     "output_type": "stream",
     "text": [
      "11\n"
     ]
    },
    {
     "name": "stderr",
     "output_type": "stream",
     "text": [
      "C:\\Users\\tanzor\\AppData\\Local\\Temp/ipykernel_37132/1340491763.py:11: UserWarning: Warning: converting a masked element to nan.\n",
      "  correlation_per_frame = np.array([ma.corrcoef(ma.masked_invalid(frame.flatten()),\n",
      "C:\\Users\\tanzor\\AppData\\Local\\Temp/ipykernel_37132/1340491763.py:20: UserWarning: Warning: converting a masked element to nan.\n",
      "  correlation_per_frame = np.array([ma.corrcoef(ma.masked_invalid(frame.flatten()),\n"
     ]
    },
    {
     "name": "stdout",
     "output_type": "stream",
     "text": [
      "12\n"
     ]
    },
    {
     "name": "stderr",
     "output_type": "stream",
     "text": [
      "C:\\Users\\tanzor\\AppData\\Local\\Temp/ipykernel_37132/1340491763.py:11: UserWarning: Warning: converting a masked element to nan.\n",
      "  correlation_per_frame = np.array([ma.corrcoef(ma.masked_invalid(frame.flatten()),\n",
      "C:\\Users\\tanzor\\AppData\\Local\\Temp/ipykernel_37132/1340491763.py:20: UserWarning: Warning: converting a masked element to nan.\n",
      "  correlation_per_frame = np.array([ma.corrcoef(ma.masked_invalid(frame.flatten()),\n"
     ]
    },
    {
     "name": "stdout",
     "output_type": "stream",
     "text": [
      "13\n"
     ]
    },
    {
     "name": "stderr",
     "output_type": "stream",
     "text": [
      "C:\\Users\\tanzor\\AppData\\Local\\Temp/ipykernel_37132/1340491763.py:11: UserWarning: Warning: converting a masked element to nan.\n",
      "  correlation_per_frame = np.array([ma.corrcoef(ma.masked_invalid(frame.flatten()),\n",
      "C:\\Users\\tanzor\\AppData\\Local\\Temp/ipykernel_37132/1340491763.py:20: UserWarning: Warning: converting a masked element to nan.\n",
      "  correlation_per_frame = np.array([ma.corrcoef(ma.masked_invalid(frame.flatten()),\n"
     ]
    },
    {
     "name": "stdout",
     "output_type": "stream",
     "text": [
      "14\n"
     ]
    },
    {
     "name": "stderr",
     "output_type": "stream",
     "text": [
      "C:\\Users\\tanzor\\AppData\\Local\\Temp/ipykernel_37132/1340491763.py:11: UserWarning: Warning: converting a masked element to nan.\n",
      "  correlation_per_frame = np.array([ma.corrcoef(ma.masked_invalid(frame.flatten()),\n",
      "C:\\Users\\tanzor\\AppData\\Local\\Temp/ipykernel_37132/1340491763.py:20: UserWarning: Warning: converting a masked element to nan.\n",
      "  correlation_per_frame = np.array([ma.corrcoef(ma.masked_invalid(frame.flatten()),\n"
     ]
    },
    {
     "name": "stdout",
     "output_type": "stream",
     "text": [
      "15\n"
     ]
    },
    {
     "name": "stderr",
     "output_type": "stream",
     "text": [
      "C:\\Users\\tanzor\\AppData\\Local\\Temp/ipykernel_37132/1340491763.py:11: UserWarning: Warning: converting a masked element to nan.\n",
      "  correlation_per_frame = np.array([ma.corrcoef(ma.masked_invalid(frame.flatten()),\n",
      "C:\\Users\\tanzor\\AppData\\Local\\Temp/ipykernel_37132/1340491763.py:20: UserWarning: Warning: converting a masked element to nan.\n",
      "  correlation_per_frame = np.array([ma.corrcoef(ma.masked_invalid(frame.flatten()),\n"
     ]
    },
    {
     "name": "stdout",
     "output_type": "stream",
     "text": [
      "16\n"
     ]
    },
    {
     "name": "stderr",
     "output_type": "stream",
     "text": [
      "C:\\Users\\tanzor\\AppData\\Local\\Temp/ipykernel_37132/1340491763.py:20: UserWarning: Warning: converting a masked element to nan.\n",
      "  correlation_per_frame = np.array([ma.corrcoef(ma.masked_invalid(frame.flatten()),\n",
      "C:\\Users\\tanzor\\AppData\\Local\\Temp/ipykernel_37132/1340491763.py:11: UserWarning: Warning: converting a masked element to nan.\n",
      "  correlation_per_frame = np.array([ma.corrcoef(ma.masked_invalid(frame.flatten()),\n"
     ]
    },
    {
     "name": "stdout",
     "output_type": "stream",
     "text": [
      "17\n"
     ]
    },
    {
     "name": "stderr",
     "output_type": "stream",
     "text": [
      "C:\\Users\\tanzor\\AppData\\Local\\Temp/ipykernel_37132/1340491763.py:11: UserWarning: Warning: converting a masked element to nan.\n",
      "  correlation_per_frame = np.array([ma.corrcoef(ma.masked_invalid(frame.flatten()),\n",
      "C:\\Users\\tanzor\\AppData\\Local\\Temp/ipykernel_37132/1340491763.py:20: UserWarning: Warning: converting a masked element to nan.\n",
      "  correlation_per_frame = np.array([ma.corrcoef(ma.masked_invalid(frame.flatten()),\n"
     ]
    },
    {
     "name": "stdout",
     "output_type": "stream",
     "text": [
      "18\n"
     ]
    },
    {
     "name": "stderr",
     "output_type": "stream",
     "text": [
      "C:\\Users\\tanzor\\AppData\\Local\\Temp/ipykernel_37132/1340491763.py:11: UserWarning: Warning: converting a masked element to nan.\n",
      "  correlation_per_frame = np.array([ma.corrcoef(ma.masked_invalid(frame.flatten()),\n",
      "C:\\Users\\tanzor\\AppData\\Local\\Temp/ipykernel_37132/1340491763.py:20: UserWarning: Warning: converting a masked element to nan.\n",
      "  correlation_per_frame = np.array([ma.corrcoef(ma.masked_invalid(frame.flatten()),\n"
     ]
    },
    {
     "name": "stdout",
     "output_type": "stream",
     "text": [
      "19\n"
     ]
    },
    {
     "name": "stderr",
     "output_type": "stream",
     "text": [
      "C:\\Users\\tanzor\\AppData\\Local\\Temp/ipykernel_37132/1340491763.py:20: UserWarning: Warning: converting a masked element to nan.\n",
      "  correlation_per_frame = np.array([ma.corrcoef(ma.masked_invalid(frame.flatten()),\n",
      "C:\\Users\\tanzor\\AppData\\Local\\Temp/ipykernel_37132/1340491763.py:11: UserWarning: Warning: converting a masked element to nan.\n",
      "  correlation_per_frame = np.array([ma.corrcoef(ma.masked_invalid(frame.flatten()),\n"
     ]
    },
    {
     "name": "stdout",
     "output_type": "stream",
     "text": [
      "20\n"
     ]
    },
    {
     "name": "stderr",
     "output_type": "stream",
     "text": [
      "C:\\Users\\tanzor\\AppData\\Local\\Temp/ipykernel_37132/1340491763.py:11: UserWarning: Warning: converting a masked element to nan.\n",
      "  correlation_per_frame = np.array([ma.corrcoef(ma.masked_invalid(frame.flatten()),\n",
      "C:\\Users\\tanzor\\AppData\\Local\\Temp/ipykernel_37132/1340491763.py:20: UserWarning: Warning: converting a masked element to nan.\n",
      "  correlation_per_frame = np.array([ma.corrcoef(ma.masked_invalid(frame.flatten()),\n"
     ]
    },
    {
     "name": "stdout",
     "output_type": "stream",
     "text": [
      "21\n"
     ]
    },
    {
     "name": "stderr",
     "output_type": "stream",
     "text": [
      "C:\\Users\\tanzor\\AppData\\Local\\Temp/ipykernel_37132/1340491763.py:11: UserWarning: Warning: converting a masked element to nan.\n",
      "  correlation_per_frame = np.array([ma.corrcoef(ma.masked_invalid(frame.flatten()),\n",
      "C:\\Users\\tanzor\\AppData\\Local\\Temp/ipykernel_37132/1340491763.py:20: UserWarning: Warning: converting a masked element to nan.\n",
      "  correlation_per_frame = np.array([ma.corrcoef(ma.masked_invalid(frame.flatten()),\n"
     ]
    },
    {
     "name": "stdout",
     "output_type": "stream",
     "text": [
      "22\n"
     ]
    },
    {
     "name": "stderr",
     "output_type": "stream",
     "text": [
      "C:\\Users\\tanzor\\AppData\\Local\\Temp/ipykernel_37132/1340491763.py:20: UserWarning: Warning: converting a masked element to nan.\n",
      "  correlation_per_frame = np.array([ma.corrcoef(ma.masked_invalid(frame.flatten()),\n",
      "C:\\Users\\tanzor\\AppData\\Local\\Temp/ipykernel_37132/1340491763.py:11: UserWarning: Warning: converting a masked element to nan.\n",
      "  correlation_per_frame = np.array([ma.corrcoef(ma.masked_invalid(frame.flatten()),\n"
     ]
    },
    {
     "name": "stdout",
     "output_type": "stream",
     "text": [
      "23\n"
     ]
    },
    {
     "name": "stderr",
     "output_type": "stream",
     "text": [
      "C:\\Users\\tanzor\\AppData\\Local\\Temp/ipykernel_37132/1340491763.py:11: UserWarning: Warning: converting a masked element to nan.\n",
      "  correlation_per_frame = np.array([ma.corrcoef(ma.masked_invalid(frame.flatten()),\n",
      "C:\\Users\\tanzor\\AppData\\Local\\Temp/ipykernel_37132/1340491763.py:20: UserWarning: Warning: converting a masked element to nan.\n",
      "  correlation_per_frame = np.array([ma.corrcoef(ma.masked_invalid(frame.flatten()),\n"
     ]
    },
    {
     "name": "stdout",
     "output_type": "stream",
     "text": [
      "24\n"
     ]
    },
    {
     "name": "stderr",
     "output_type": "stream",
     "text": [
      "C:\\Users\\tanzor\\AppData\\Local\\Temp/ipykernel_37132/1340491763.py:11: UserWarning: Warning: converting a masked element to nan.\n",
      "  correlation_per_frame = np.array([ma.corrcoef(ma.masked_invalid(frame.flatten()),\n",
      "C:\\Users\\tanzor\\AppData\\Local\\Temp/ipykernel_37132/1340491763.py:20: UserWarning: Warning: converting a masked element to nan.\n",
      "  correlation_per_frame = np.array([ma.corrcoef(ma.masked_invalid(frame.flatten()),\n"
     ]
    },
    {
     "name": "stdout",
     "output_type": "stream",
     "text": [
      "25\n"
     ]
    },
    {
     "name": "stderr",
     "output_type": "stream",
     "text": [
      "C:\\Users\\tanzor\\AppData\\Local\\Temp/ipykernel_37132/1340491763.py:20: UserWarning: Warning: converting a masked element to nan.\n",
      "  correlation_per_frame = np.array([ma.corrcoef(ma.masked_invalid(frame.flatten()),\n",
      "C:\\Users\\tanzor\\AppData\\Local\\Temp/ipykernel_37132/1340491763.py:11: UserWarning: Warning: converting a masked element to nan.\n",
      "  correlation_per_frame = np.array([ma.corrcoef(ma.masked_invalid(frame.flatten()),\n"
     ]
    },
    {
     "name": "stdout",
     "output_type": "stream",
     "text": [
      "26\n"
     ]
    },
    {
     "name": "stderr",
     "output_type": "stream",
     "text": [
      "C:\\Users\\tanzor\\AppData\\Local\\Temp/ipykernel_37132/1340491763.py:20: UserWarning: Warning: converting a masked element to nan.\n",
      "  correlation_per_frame = np.array([ma.corrcoef(ma.masked_invalid(frame.flatten()),\n",
      "C:\\Users\\tanzor\\AppData\\Local\\Temp/ipykernel_37132/1340491763.py:11: UserWarning: Warning: converting a masked element to nan.\n",
      "  correlation_per_frame = np.array([ma.corrcoef(ma.masked_invalid(frame.flatten()),\n"
     ]
    },
    {
     "name": "stdout",
     "output_type": "stream",
     "text": [
      "27\n"
     ]
    },
    {
     "name": "stderr",
     "output_type": "stream",
     "text": [
      "C:\\Users\\tanzor\\AppData\\Local\\Temp/ipykernel_37132/1340491763.py:11: UserWarning: Warning: converting a masked element to nan.\n",
      "  correlation_per_frame = np.array([ma.corrcoef(ma.masked_invalid(frame.flatten()),\n",
      "C:\\Users\\tanzor\\AppData\\Local\\Temp/ipykernel_37132/1340491763.py:20: UserWarning: Warning: converting a masked element to nan.\n",
      "  correlation_per_frame = np.array([ma.corrcoef(ma.masked_invalid(frame.flatten()),\n"
     ]
    },
    {
     "name": "stdout",
     "output_type": "stream",
     "text": [
      "28\n"
     ]
    },
    {
     "name": "stderr",
     "output_type": "stream",
     "text": [
      "C:\\Users\\tanzor\\AppData\\Local\\Temp/ipykernel_37132/1340491763.py:11: UserWarning: Warning: converting a masked element to nan.\n",
      "  correlation_per_frame = np.array([ma.corrcoef(ma.masked_invalid(frame.flatten()),\n",
      "C:\\Users\\tanzor\\AppData\\Local\\Temp/ipykernel_37132/1340491763.py:20: UserWarning: Warning: converting a masked element to nan.\n",
      "  correlation_per_frame = np.array([ma.corrcoef(ma.masked_invalid(frame.flatten()),\n"
     ]
    },
    {
     "name": "stdout",
     "output_type": "stream",
     "text": [
      "29\n"
     ]
    },
    {
     "name": "stderr",
     "output_type": "stream",
     "text": [
      "C:\\Users\\tanzor\\AppData\\Local\\Temp/ipykernel_37132/1340491763.py:11: UserWarning: Warning: converting a masked element to nan.\n",
      "  correlation_per_frame = np.array([ma.corrcoef(ma.masked_invalid(frame.flatten()),\n",
      "C:\\Users\\tanzor\\AppData\\Local\\Temp/ipykernel_37132/1340491763.py:20: UserWarning: Warning: converting a masked element to nan.\n",
      "  correlation_per_frame = np.array([ma.corrcoef(ma.masked_invalid(frame.flatten()),\n"
     ]
    },
    {
     "name": "stdout",
     "output_type": "stream",
     "text": [
      "30\n"
     ]
    },
    {
     "name": "stderr",
     "output_type": "stream",
     "text": [
      "C:\\Users\\tanzor\\AppData\\Local\\Temp/ipykernel_37132/1340491763.py:11: UserWarning: Warning: converting a masked element to nan.\n",
      "  correlation_per_frame = np.array([ma.corrcoef(ma.masked_invalid(frame.flatten()),\n",
      "C:\\Users\\tanzor\\AppData\\Local\\Temp/ipykernel_37132/1340491763.py:20: UserWarning: Warning: converting a masked element to nan.\n",
      "  correlation_per_frame = np.array([ma.corrcoef(ma.masked_invalid(frame.flatten()),\n"
     ]
    },
    {
     "name": "stdout",
     "output_type": "stream",
     "text": [
      "31\n"
     ]
    },
    {
     "name": "stderr",
     "output_type": "stream",
     "text": [
      "C:\\Users\\tanzor\\AppData\\Local\\Temp/ipykernel_37132/1340491763.py:11: UserWarning: Warning: converting a masked element to nan.\n",
      "  correlation_per_frame = np.array([ma.corrcoef(ma.masked_invalid(frame.flatten()),\n",
      "C:\\Users\\tanzor\\AppData\\Local\\Temp/ipykernel_37132/1340491763.py:20: UserWarning: Warning: converting a masked element to nan.\n",
      "  correlation_per_frame = np.array([ma.corrcoef(ma.masked_invalid(frame.flatten()),\n"
     ]
    },
    {
     "name": "stdout",
     "output_type": "stream",
     "text": [
      "32\n"
     ]
    },
    {
     "name": "stderr",
     "output_type": "stream",
     "text": [
      "C:\\Users\\tanzor\\AppData\\Local\\Temp/ipykernel_37132/1340491763.py:20: UserWarning: Warning: converting a masked element to nan.\n",
      "  correlation_per_frame = np.array([ma.corrcoef(ma.masked_invalid(frame.flatten()),\n",
      "C:\\Users\\tanzor\\AppData\\Local\\Temp/ipykernel_37132/1340491763.py:11: UserWarning: Warning: converting a masked element to nan.\n",
      "  correlation_per_frame = np.array([ma.corrcoef(ma.masked_invalid(frame.flatten()),\n"
     ]
    },
    {
     "name": "stdout",
     "output_type": "stream",
     "text": [
      "33\n"
     ]
    },
    {
     "name": "stderr",
     "output_type": "stream",
     "text": [
      "C:\\Users\\tanzor\\AppData\\Local\\Temp/ipykernel_37132/1340491763.py:11: UserWarning: Warning: converting a masked element to nan.\n",
      "  correlation_per_frame = np.array([ma.corrcoef(ma.masked_invalid(frame.flatten()),\n",
      "C:\\Users\\tanzor\\AppData\\Local\\Temp/ipykernel_37132/1340491763.py:20: UserWarning: Warning: converting a masked element to nan.\n",
      "  correlation_per_frame = np.array([ma.corrcoef(ma.masked_invalid(frame.flatten()),\n"
     ]
    },
    {
     "name": "stdout",
     "output_type": "stream",
     "text": [
      "34\n"
     ]
    },
    {
     "name": "stderr",
     "output_type": "stream",
     "text": [
      "C:\\Users\\tanzor\\AppData\\Local\\Temp/ipykernel_37132/1340491763.py:11: UserWarning: Warning: converting a masked element to nan.\n",
      "  correlation_per_frame = np.array([ma.corrcoef(ma.masked_invalid(frame.flatten()),\n",
      "C:\\Users\\tanzor\\AppData\\Local\\Temp/ipykernel_37132/1340491763.py:20: UserWarning: Warning: converting a masked element to nan.\n",
      "  correlation_per_frame = np.array([ma.corrcoef(ma.masked_invalid(frame.flatten()),\n"
     ]
    },
    {
     "name": "stdout",
     "output_type": "stream",
     "text": [
      "35\n"
     ]
    },
    {
     "name": "stderr",
     "output_type": "stream",
     "text": [
      "C:\\Users\\tanzor\\AppData\\Local\\Temp/ipykernel_37132/1340491763.py:11: UserWarning: Warning: converting a masked element to nan.\n",
      "  correlation_per_frame = np.array([ma.corrcoef(ma.masked_invalid(frame.flatten()),\n",
      "C:\\Users\\tanzor\\AppData\\Local\\Temp/ipykernel_37132/1340491763.py:20: UserWarning: Warning: converting a masked element to nan.\n",
      "  correlation_per_frame = np.array([ma.corrcoef(ma.masked_invalid(frame.flatten()),\n"
     ]
    },
    {
     "name": "stdout",
     "output_type": "stream",
     "text": [
      "36\n"
     ]
    },
    {
     "name": "stderr",
     "output_type": "stream",
     "text": [
      "C:\\Users\\tanzor\\AppData\\Local\\Temp/ipykernel_37132/1340491763.py:11: UserWarning: Warning: converting a masked element to nan.\n",
      "  correlation_per_frame = np.array([ma.corrcoef(ma.masked_invalid(frame.flatten()),\n",
      "C:\\Users\\tanzor\\AppData\\Local\\Temp/ipykernel_37132/1340491763.py:20: UserWarning: Warning: converting a masked element to nan.\n",
      "  correlation_per_frame = np.array([ma.corrcoef(ma.masked_invalid(frame.flatten()),\n"
     ]
    },
    {
     "name": "stdout",
     "output_type": "stream",
     "text": [
      "37\n"
     ]
    },
    {
     "name": "stderr",
     "output_type": "stream",
     "text": [
      "C:\\Users\\tanzor\\AppData\\Local\\Temp/ipykernel_37132/1340491763.py:11: UserWarning: Warning: converting a masked element to nan.\n",
      "  correlation_per_frame = np.array([ma.corrcoef(ma.masked_invalid(frame.flatten()),\n",
      "C:\\Users\\tanzor\\AppData\\Local\\Temp/ipykernel_37132/1340491763.py:20: UserWarning: Warning: converting a masked element to nan.\n",
      "  correlation_per_frame = np.array([ma.corrcoef(ma.masked_invalid(frame.flatten()),\n"
     ]
    },
    {
     "name": "stdout",
     "output_type": "stream",
     "text": [
      "38\n"
     ]
    },
    {
     "name": "stderr",
     "output_type": "stream",
     "text": [
      "C:\\Users\\tanzor\\AppData\\Local\\Temp/ipykernel_37132/1340491763.py:20: UserWarning: Warning: converting a masked element to nan.\n",
      "  correlation_per_frame = np.array([ma.corrcoef(ma.masked_invalid(frame.flatten()),\n",
      "C:\\Users\\tanzor\\AppData\\Local\\Temp/ipykernel_37132/1340491763.py:11: UserWarning: Warning: converting a masked element to nan.\n",
      "  correlation_per_frame = np.array([ma.corrcoef(ma.masked_invalid(frame.flatten()),\n"
     ]
    },
    {
     "name": "stdout",
     "output_type": "stream",
     "text": [
      "39\n"
     ]
    },
    {
     "name": "stderr",
     "output_type": "stream",
     "text": [
      "C:\\Users\\tanzor\\AppData\\Local\\Temp/ipykernel_37132/1340491763.py:20: UserWarning: Warning: converting a masked element to nan.\n",
      "  correlation_per_frame = np.array([ma.corrcoef(ma.masked_invalid(frame.flatten()),\n",
      "C:\\Users\\tanzor\\AppData\\Local\\Temp/ipykernel_37132/1340491763.py:11: UserWarning: Warning: converting a masked element to nan.\n",
      "  correlation_per_frame = np.array([ma.corrcoef(ma.masked_invalid(frame.flatten()),\n"
     ]
    },
    {
     "name": "stdout",
     "output_type": "stream",
     "text": [
      "40\n"
     ]
    },
    {
     "name": "stderr",
     "output_type": "stream",
     "text": [
      "C:\\Users\\tanzor\\AppData\\Local\\Temp/ipykernel_37132/1340491763.py:11: UserWarning: Warning: converting a masked element to nan.\n",
      "  correlation_per_frame = np.array([ma.corrcoef(ma.masked_invalid(frame.flatten()),\n",
      "C:\\Users\\tanzor\\AppData\\Local\\Temp/ipykernel_37132/1340491763.py:20: UserWarning: Warning: converting a masked element to nan.\n",
      "  correlation_per_frame = np.array([ma.corrcoef(ma.masked_invalid(frame.flatten()),\n"
     ]
    },
    {
     "name": "stdout",
     "output_type": "stream",
     "text": [
      "41\n"
     ]
    },
    {
     "name": "stderr",
     "output_type": "stream",
     "text": [
      "C:\\Users\\tanzor\\AppData\\Local\\Temp/ipykernel_37132/1340491763.py:11: UserWarning: Warning: converting a masked element to nan.\n",
      "  correlation_per_frame = np.array([ma.corrcoef(ma.masked_invalid(frame.flatten()),\n",
      "C:\\Users\\tanzor\\AppData\\Local\\Temp/ipykernel_37132/1340491763.py:20: UserWarning: Warning: converting a masked element to nan.\n",
      "  correlation_per_frame = np.array([ma.corrcoef(ma.masked_invalid(frame.flatten()),\n"
     ]
    },
    {
     "name": "stdout",
     "output_type": "stream",
     "text": [
      "42\n"
     ]
    },
    {
     "name": "stderr",
     "output_type": "stream",
     "text": [
      "C:\\Users\\tanzor\\AppData\\Local\\Temp/ipykernel_37132/1340491763.py:20: UserWarning: Warning: converting a masked element to nan.\n",
      "  correlation_per_frame = np.array([ma.corrcoef(ma.masked_invalid(frame.flatten()),\n",
      "C:\\Users\\tanzor\\AppData\\Local\\Temp/ipykernel_37132/1340491763.py:11: UserWarning: Warning: converting a masked element to nan.\n",
      "  correlation_per_frame = np.array([ma.corrcoef(ma.masked_invalid(frame.flatten()),\n"
     ]
    },
    {
     "name": "stdout",
     "output_type": "stream",
     "text": [
      "43\n"
     ]
    },
    {
     "name": "stderr",
     "output_type": "stream",
     "text": [
      "C:\\Users\\tanzor\\AppData\\Local\\Temp/ipykernel_37132/1340491763.py:11: UserWarning: Warning: converting a masked element to nan.\n",
      "  correlation_per_frame = np.array([ma.corrcoef(ma.masked_invalid(frame.flatten()),\n",
      "C:\\Users\\tanzor\\AppData\\Local\\Temp/ipykernel_37132/1340491763.py:20: UserWarning: Warning: converting a masked element to nan.\n",
      "  correlation_per_frame = np.array([ma.corrcoef(ma.masked_invalid(frame.flatten()),\n"
     ]
    },
    {
     "name": "stdout",
     "output_type": "stream",
     "text": [
      "44\n"
     ]
    },
    {
     "name": "stderr",
     "output_type": "stream",
     "text": [
      "C:\\Users\\tanzor\\AppData\\Local\\Temp/ipykernel_37132/1340491763.py:20: UserWarning: Warning: converting a masked element to nan.\n",
      "  correlation_per_frame = np.array([ma.corrcoef(ma.masked_invalid(frame.flatten()),\n",
      "C:\\Users\\tanzor\\AppData\\Local\\Temp/ipykernel_37132/1340491763.py:11: UserWarning: Warning: converting a masked element to nan.\n",
      "  correlation_per_frame = np.array([ma.corrcoef(ma.masked_invalid(frame.flatten()),\n"
     ]
    },
    {
     "name": "stdout",
     "output_type": "stream",
     "text": [
      "45\n"
     ]
    },
    {
     "name": "stderr",
     "output_type": "stream",
     "text": [
      "C:\\Users\\tanzor\\AppData\\Local\\Temp/ipykernel_37132/1340491763.py:11: UserWarning: Warning: converting a masked element to nan.\n",
      "  correlation_per_frame = np.array([ma.corrcoef(ma.masked_invalid(frame.flatten()),\n",
      "C:\\Users\\tanzor\\AppData\\Local\\Temp/ipykernel_37132/1340491763.py:20: UserWarning: Warning: converting a masked element to nan.\n",
      "  correlation_per_frame = np.array([ma.corrcoef(ma.masked_invalid(frame.flatten()),\n"
     ]
    },
    {
     "name": "stdout",
     "output_type": "stream",
     "text": [
      "46\n"
     ]
    },
    {
     "name": "stderr",
     "output_type": "stream",
     "text": [
      "C:\\Users\\tanzor\\AppData\\Local\\Temp/ipykernel_37132/1340491763.py:11: UserWarning: Warning: converting a masked element to nan.\n",
      "  correlation_per_frame = np.array([ma.corrcoef(ma.masked_invalid(frame.flatten()),\n",
      "C:\\Users\\tanzor\\AppData\\Local\\Temp/ipykernel_37132/1340491763.py:20: UserWarning: Warning: converting a masked element to nan.\n",
      "  correlation_per_frame = np.array([ma.corrcoef(ma.masked_invalid(frame.flatten()),\n"
     ]
    },
    {
     "name": "stdout",
     "output_type": "stream",
     "text": [
      "47\n"
     ]
    },
    {
     "name": "stderr",
     "output_type": "stream",
     "text": [
      "C:\\Users\\tanzor\\AppData\\Local\\Temp/ipykernel_37132/1340491763.py:20: UserWarning: Warning: converting a masked element to nan.\n",
      "  correlation_per_frame = np.array([ma.corrcoef(ma.masked_invalid(frame.flatten()),\n",
      "C:\\Users\\tanzor\\AppData\\Local\\Temp/ipykernel_37132/1340491763.py:11: UserWarning: Warning: converting a masked element to nan.\n",
      "  correlation_per_frame = np.array([ma.corrcoef(ma.masked_invalid(frame.flatten()),\n"
     ]
    },
    {
     "name": "stdout",
     "output_type": "stream",
     "text": [
      "48\n"
     ]
    },
    {
     "name": "stderr",
     "output_type": "stream",
     "text": [
      "C:\\Users\\tanzor\\AppData\\Local\\Temp/ipykernel_37132/1340491763.py:20: UserWarning: Warning: converting a masked element to nan.\n",
      "  correlation_per_frame = np.array([ma.corrcoef(ma.masked_invalid(frame.flatten()),\n",
      "C:\\Users\\tanzor\\AppData\\Local\\Temp/ipykernel_37132/1340491763.py:11: UserWarning: Warning: converting a masked element to nan.\n",
      "  correlation_per_frame = np.array([ma.corrcoef(ma.masked_invalid(frame.flatten()),\n"
     ]
    },
    {
     "name": "stdout",
     "output_type": "stream",
     "text": [
      "49\n"
     ]
    },
    {
     "name": "stderr",
     "output_type": "stream",
     "text": [
      "C:\\Users\\tanzor\\AppData\\Local\\Temp/ipykernel_37132/1340491763.py:11: UserWarning: Warning: converting a masked element to nan.\n",
      "  correlation_per_frame = np.array([ma.corrcoef(ma.masked_invalid(frame.flatten()),\n",
      "C:\\Users\\tanzor\\AppData\\Local\\Temp/ipykernel_37132/1340491763.py:20: UserWarning: Warning: converting a masked element to nan.\n",
      "  correlation_per_frame = np.array([ma.corrcoef(ma.masked_invalid(frame.flatten()),\n"
     ]
    },
    {
     "name": "stdout",
     "output_type": "stream",
     "text": [
      "50\n"
     ]
    },
    {
     "name": "stderr",
     "output_type": "stream",
     "text": [
      "C:\\Users\\tanzor\\AppData\\Local\\Temp/ipykernel_37132/1340491763.py:20: UserWarning: Warning: converting a masked element to nan.\n",
      "  correlation_per_frame = np.array([ma.corrcoef(ma.masked_invalid(frame.flatten()),\n",
      "C:\\Users\\tanzor\\AppData\\Local\\Temp/ipykernel_37132/1340491763.py:11: UserWarning: Warning: converting a masked element to nan.\n",
      "  correlation_per_frame = np.array([ma.corrcoef(ma.masked_invalid(frame.flatten()),\n"
     ]
    },
    {
     "name": "stdout",
     "output_type": "stream",
     "text": [
      "51\n"
     ]
    },
    {
     "name": "stderr",
     "output_type": "stream",
     "text": [
      "C:\\Users\\tanzor\\AppData\\Local\\Temp/ipykernel_37132/1340491763.py:11: UserWarning: Warning: converting a masked element to nan.\n",
      "  correlation_per_frame = np.array([ma.corrcoef(ma.masked_invalid(frame.flatten()),\n",
      "C:\\Users\\tanzor\\AppData\\Local\\Temp/ipykernel_37132/1340491763.py:20: UserWarning: Warning: converting a masked element to nan.\n",
      "  correlation_per_frame = np.array([ma.corrcoef(ma.masked_invalid(frame.flatten()),\n"
     ]
    },
    {
     "name": "stdout",
     "output_type": "stream",
     "text": [
      "52\n"
     ]
    },
    {
     "name": "stderr",
     "output_type": "stream",
     "text": [
      "C:\\Users\\tanzor\\AppData\\Local\\Temp/ipykernel_37132/1340491763.py:20: UserWarning: Warning: converting a masked element to nan.\n",
      "  correlation_per_frame = np.array([ma.corrcoef(ma.masked_invalid(frame.flatten()),\n",
      "C:\\Users\\tanzor\\AppData\\Local\\Temp/ipykernel_37132/1340491763.py:11: UserWarning: Warning: converting a masked element to nan.\n",
      "  correlation_per_frame = np.array([ma.corrcoef(ma.masked_invalid(frame.flatten()),\n"
     ]
    },
    {
     "name": "stdout",
     "output_type": "stream",
     "text": [
      "53\n"
     ]
    },
    {
     "name": "stderr",
     "output_type": "stream",
     "text": [
      "C:\\Users\\tanzor\\AppData\\Local\\Temp/ipykernel_37132/1340491763.py:20: UserWarning: Warning: converting a masked element to nan.\n",
      "  correlation_per_frame = np.array([ma.corrcoef(ma.masked_invalid(frame.flatten()),\n",
      "C:\\Users\\tanzor\\AppData\\Local\\Temp/ipykernel_37132/1340491763.py:11: UserWarning: Warning: converting a masked element to nan.\n",
      "  correlation_per_frame = np.array([ma.corrcoef(ma.masked_invalid(frame.flatten()),\n"
     ]
    },
    {
     "name": "stdout",
     "output_type": "stream",
     "text": [
      "54\n"
     ]
    },
    {
     "name": "stderr",
     "output_type": "stream",
     "text": [
      "C:\\Users\\tanzor\\AppData\\Local\\Temp/ipykernel_37132/1340491763.py:11: UserWarning: Warning: converting a masked element to nan.\n",
      "  correlation_per_frame = np.array([ma.corrcoef(ma.masked_invalid(frame.flatten()),\n",
      "C:\\Users\\tanzor\\AppData\\Local\\Temp/ipykernel_37132/1340491763.py:20: UserWarning: Warning: converting a masked element to nan.\n",
      "  correlation_per_frame = np.array([ma.corrcoef(ma.masked_invalid(frame.flatten()),\n"
     ]
    },
    {
     "name": "stdout",
     "output_type": "stream",
     "text": [
      "55\n"
     ]
    },
    {
     "name": "stderr",
     "output_type": "stream",
     "text": [
      "C:\\Users\\tanzor\\AppData\\Local\\Temp/ipykernel_37132/1340491763.py:20: UserWarning: Warning: converting a masked element to nan.\n",
      "  correlation_per_frame = np.array([ma.corrcoef(ma.masked_invalid(frame.flatten()),\n",
      "C:\\Users\\tanzor\\AppData\\Local\\Temp/ipykernel_37132/1340491763.py:11: UserWarning: Warning: converting a masked element to nan.\n",
      "  correlation_per_frame = np.array([ma.corrcoef(ma.masked_invalid(frame.flatten()),\n"
     ]
    },
    {
     "name": "stdout",
     "output_type": "stream",
     "text": [
      "56\n"
     ]
    },
    {
     "name": "stderr",
     "output_type": "stream",
     "text": [
      "C:\\Users\\tanzor\\AppData\\Local\\Temp/ipykernel_37132/1340491763.py:20: UserWarning: Warning: converting a masked element to nan.\n",
      "  correlation_per_frame = np.array([ma.corrcoef(ma.masked_invalid(frame.flatten()),\n",
      "C:\\Users\\tanzor\\AppData\\Local\\Temp/ipykernel_37132/1340491763.py:11: UserWarning: Warning: converting a masked element to nan.\n",
      "  correlation_per_frame = np.array([ma.corrcoef(ma.masked_invalid(frame.flatten()),\n"
     ]
    },
    {
     "name": "stdout",
     "output_type": "stream",
     "text": [
      "57\n"
     ]
    },
    {
     "name": "stderr",
     "output_type": "stream",
     "text": [
      "C:\\Users\\tanzor\\AppData\\Local\\Temp/ipykernel_37132/1340491763.py:20: UserWarning: Warning: converting a masked element to nan.\n",
      "  correlation_per_frame = np.array([ma.corrcoef(ma.masked_invalid(frame.flatten()),\n",
      "C:\\Users\\tanzor\\AppData\\Local\\Temp/ipykernel_37132/1340491763.py:11: UserWarning: Warning: converting a masked element to nan.\n",
      "  correlation_per_frame = np.array([ma.corrcoef(ma.masked_invalid(frame.flatten()),\n"
     ]
    },
    {
     "name": "stdout",
     "output_type": "stream",
     "text": [
      "58\n"
     ]
    },
    {
     "name": "stderr",
     "output_type": "stream",
     "text": [
      "C:\\Users\\tanzor\\AppData\\Local\\Temp/ipykernel_37132/1340491763.py:11: UserWarning: Warning: converting a masked element to nan.\n",
      "  correlation_per_frame = np.array([ma.corrcoef(ma.masked_invalid(frame.flatten()),\n",
      "C:\\Users\\tanzor\\AppData\\Local\\Temp/ipykernel_37132/1340491763.py:20: UserWarning: Warning: converting a masked element to nan.\n",
      "  correlation_per_frame = np.array([ma.corrcoef(ma.masked_invalid(frame.flatten()),\n"
     ]
    },
    {
     "name": "stdout",
     "output_type": "stream",
     "text": [
      "59\n"
     ]
    },
    {
     "name": "stderr",
     "output_type": "stream",
     "text": [
      "C:\\Users\\tanzor\\AppData\\Local\\Temp/ipykernel_37132/1340491763.py:20: UserWarning: Warning: converting a masked element to nan.\n",
      "  correlation_per_frame = np.array([ma.corrcoef(ma.masked_invalid(frame.flatten()),\n",
      "C:\\Users\\tanzor\\AppData\\Local\\Temp/ipykernel_37132/1340491763.py:11: UserWarning: Warning: converting a masked element to nan.\n",
      "  correlation_per_frame = np.array([ma.corrcoef(ma.masked_invalid(frame.flatten()),\n"
     ]
    },
    {
     "name": "stdout",
     "output_type": "stream",
     "text": [
      "60\n"
     ]
    },
    {
     "name": "stderr",
     "output_type": "stream",
     "text": [
      "C:\\Users\\tanzor\\AppData\\Local\\Temp/ipykernel_37132/1340491763.py:20: UserWarning: Warning: converting a masked element to nan.\n",
      "  correlation_per_frame = np.array([ma.corrcoef(ma.masked_invalid(frame.flatten()),\n",
      "C:\\Users\\tanzor\\AppData\\Local\\Temp/ipykernel_37132/1340491763.py:11: UserWarning: Warning: converting a masked element to nan.\n",
      "  correlation_per_frame = np.array([ma.corrcoef(ma.masked_invalid(frame.flatten()),\n"
     ]
    },
    {
     "name": "stdout",
     "output_type": "stream",
     "text": [
      "61\n"
     ]
    },
    {
     "name": "stderr",
     "output_type": "stream",
     "text": [
      "C:\\Users\\tanzor\\AppData\\Local\\Temp/ipykernel_37132/1340491763.py:11: UserWarning: Warning: converting a masked element to nan.\n",
      "  correlation_per_frame = np.array([ma.corrcoef(ma.masked_invalid(frame.flatten()),\n",
      "C:\\Users\\tanzor\\AppData\\Local\\Temp/ipykernel_37132/1340491763.py:20: UserWarning: Warning: converting a masked element to nan.\n",
      "  correlation_per_frame = np.array([ma.corrcoef(ma.masked_invalid(frame.flatten()),\n"
     ]
    },
    {
     "name": "stdout",
     "output_type": "stream",
     "text": [
      "62\n"
     ]
    },
    {
     "name": "stderr",
     "output_type": "stream",
     "text": [
      "C:\\Users\\tanzor\\AppData\\Local\\Temp/ipykernel_37132/1340491763.py:20: UserWarning: Warning: converting a masked element to nan.\n",
      "  correlation_per_frame = np.array([ma.corrcoef(ma.masked_invalid(frame.flatten()),\n",
      "C:\\Users\\tanzor\\AppData\\Local\\Temp/ipykernel_37132/1340491763.py:11: UserWarning: Warning: converting a masked element to nan.\n",
      "  correlation_per_frame = np.array([ma.corrcoef(ma.masked_invalid(frame.flatten()),\n"
     ]
    },
    {
     "name": "stdout",
     "output_type": "stream",
     "text": [
      "63\n"
     ]
    },
    {
     "name": "stderr",
     "output_type": "stream",
     "text": [
      "C:\\Users\\tanzor\\AppData\\Local\\Temp/ipykernel_37132/1340491763.py:11: UserWarning: Warning: converting a masked element to nan.\n",
      "  correlation_per_frame = np.array([ma.corrcoef(ma.masked_invalid(frame.flatten()),\n",
      "C:\\Users\\tanzor\\AppData\\Local\\Temp/ipykernel_37132/1340491763.py:20: UserWarning: Warning: converting a masked element to nan.\n",
      "  correlation_per_frame = np.array([ma.corrcoef(ma.masked_invalid(frame.flatten()),\n"
     ]
    },
    {
     "name": "stdout",
     "output_type": "stream",
     "text": [
      "64\n"
     ]
    },
    {
     "name": "stderr",
     "output_type": "stream",
     "text": [
      "C:\\Users\\tanzor\\AppData\\Local\\Temp/ipykernel_37132/1340491763.py:11: UserWarning: Warning: converting a masked element to nan.\n",
      "  correlation_per_frame = np.array([ma.corrcoef(ma.masked_invalid(frame.flatten()),\n",
      "C:\\Users\\tanzor\\AppData\\Local\\Temp/ipykernel_37132/1340491763.py:20: UserWarning: Warning: converting a masked element to nan.\n",
      "  correlation_per_frame = np.array([ma.corrcoef(ma.masked_invalid(frame.flatten()),\n"
     ]
    },
    {
     "name": "stdout",
     "output_type": "stream",
     "text": [
      "65\n"
     ]
    },
    {
     "name": "stderr",
     "output_type": "stream",
     "text": [
      "C:\\Users\\tanzor\\AppData\\Local\\Temp/ipykernel_37132/1340491763.py:11: UserWarning: Warning: converting a masked element to nan.\n",
      "  correlation_per_frame = np.array([ma.corrcoef(ma.masked_invalid(frame.flatten()),\n",
      "C:\\Users\\tanzor\\AppData\\Local\\Temp/ipykernel_37132/1340491763.py:20: UserWarning: Warning: converting a masked element to nan.\n",
      "  correlation_per_frame = np.array([ma.corrcoef(ma.masked_invalid(frame.flatten()),\n"
     ]
    },
    {
     "name": "stdout",
     "output_type": "stream",
     "text": [
      "66\n"
     ]
    },
    {
     "name": "stderr",
     "output_type": "stream",
     "text": [
      "C:\\Users\\tanzor\\AppData\\Local\\Temp/ipykernel_37132/1340491763.py:11: UserWarning: Warning: converting a masked element to nan.\n",
      "  correlation_per_frame = np.array([ma.corrcoef(ma.masked_invalid(frame.flatten()),\n",
      "C:\\Users\\tanzor\\AppData\\Local\\Temp/ipykernel_37132/1340491763.py:20: UserWarning: Warning: converting a masked element to nan.\n",
      "  correlation_per_frame = np.array([ma.corrcoef(ma.masked_invalid(frame.flatten()),\n"
     ]
    },
    {
     "name": "stdout",
     "output_type": "stream",
     "text": [
      "67\n"
     ]
    },
    {
     "name": "stderr",
     "output_type": "stream",
     "text": [
      "C:\\Users\\tanzor\\AppData\\Local\\Temp/ipykernel_37132/1340491763.py:20: UserWarning: Warning: converting a masked element to nan.\n",
      "  correlation_per_frame = np.array([ma.corrcoef(ma.masked_invalid(frame.flatten()),\n",
      "C:\\Users\\tanzor\\AppData\\Local\\Temp/ipykernel_37132/1340491763.py:11: UserWarning: Warning: converting a masked element to nan.\n",
      "  correlation_per_frame = np.array([ma.corrcoef(ma.masked_invalid(frame.flatten()),\n"
     ]
    },
    {
     "name": "stdout",
     "output_type": "stream",
     "text": [
      "68\n"
     ]
    },
    {
     "name": "stderr",
     "output_type": "stream",
     "text": [
      "C:\\Users\\tanzor\\AppData\\Local\\Temp/ipykernel_37132/1340491763.py:11: UserWarning: Warning: converting a masked element to nan.\n",
      "  correlation_per_frame = np.array([ma.corrcoef(ma.masked_invalid(frame.flatten()),\n",
      "C:\\Users\\tanzor\\AppData\\Local\\Temp/ipykernel_37132/1340491763.py:20: UserWarning: Warning: converting a masked element to nan.\n",
      "  correlation_per_frame = np.array([ma.corrcoef(ma.masked_invalid(frame.flatten()),\n"
     ]
    },
    {
     "name": "stdout",
     "output_type": "stream",
     "text": [
      "69\n"
     ]
    },
    {
     "name": "stderr",
     "output_type": "stream",
     "text": [
      "C:\\Users\\tanzor\\AppData\\Local\\Temp/ipykernel_37132/1340491763.py:20: UserWarning: Warning: converting a masked element to nan.\n",
      "  correlation_per_frame = np.array([ma.corrcoef(ma.masked_invalid(frame.flatten()),\n",
      "C:\\Users\\tanzor\\AppData\\Local\\Temp/ipykernel_37132/1340491763.py:11: UserWarning: Warning: converting a masked element to nan.\n",
      "  correlation_per_frame = np.array([ma.corrcoef(ma.masked_invalid(frame.flatten()),\n"
     ]
    },
    {
     "name": "stdout",
     "output_type": "stream",
     "text": [
      "70\n"
     ]
    },
    {
     "name": "stderr",
     "output_type": "stream",
     "text": [
      "C:\\Users\\tanzor\\AppData\\Local\\Temp/ipykernel_37132/1340491763.py:11: UserWarning: Warning: converting a masked element to nan.\n",
      "  correlation_per_frame = np.array([ma.corrcoef(ma.masked_invalid(frame.flatten()),\n",
      "C:\\Users\\tanzor\\AppData\\Local\\Temp/ipykernel_37132/1340491763.py:20: UserWarning: Warning: converting a masked element to nan.\n",
      "  correlation_per_frame = np.array([ma.corrcoef(ma.masked_invalid(frame.flatten()),\n"
     ]
    },
    {
     "name": "stdout",
     "output_type": "stream",
     "text": [
      "71\n"
     ]
    },
    {
     "name": "stderr",
     "output_type": "stream",
     "text": [
      "C:\\Users\\tanzor\\AppData\\Local\\Temp/ipykernel_37132/1340491763.py:11: UserWarning: Warning: converting a masked element to nan.\n",
      "  correlation_per_frame = np.array([ma.corrcoef(ma.masked_invalid(frame.flatten()),\n",
      "C:\\Users\\tanzor\\AppData\\Local\\Temp/ipykernel_37132/1340491763.py:20: UserWarning: Warning: converting a masked element to nan.\n",
      "  correlation_per_frame = np.array([ma.corrcoef(ma.masked_invalid(frame.flatten()),\n"
     ]
    },
    {
     "name": "stdout",
     "output_type": "stream",
     "text": [
      "72\n"
     ]
    },
    {
     "name": "stderr",
     "output_type": "stream",
     "text": [
      "C:\\Users\\tanzor\\AppData\\Local\\Temp/ipykernel_37132/1340491763.py:20: UserWarning: Warning: converting a masked element to nan.\n",
      "  correlation_per_frame = np.array([ma.corrcoef(ma.masked_invalid(frame.flatten()),\n",
      "C:\\Users\\tanzor\\AppData\\Local\\Temp/ipykernel_37132/1340491763.py:11: UserWarning: Warning: converting a masked element to nan.\n",
      "  correlation_per_frame = np.array([ma.corrcoef(ma.masked_invalid(frame.flatten()),\n"
     ]
    },
    {
     "name": "stdout",
     "output_type": "stream",
     "text": [
      "73\n"
     ]
    },
    {
     "name": "stderr",
     "output_type": "stream",
     "text": [
      "C:\\Users\\tanzor\\AppData\\Local\\Temp/ipykernel_37132/1340491763.py:20: UserWarning: Warning: converting a masked element to nan.\n",
      "  correlation_per_frame = np.array([ma.corrcoef(ma.masked_invalid(frame.flatten()),\n",
      "C:\\Users\\tanzor\\AppData\\Local\\Temp/ipykernel_37132/1340491763.py:11: UserWarning: Warning: converting a masked element to nan.\n",
      "  correlation_per_frame = np.array([ma.corrcoef(ma.masked_invalid(frame.flatten()),\n"
     ]
    },
    {
     "name": "stdout",
     "output_type": "stream",
     "text": [
      "74\n"
     ]
    },
    {
     "name": "stderr",
     "output_type": "stream",
     "text": [
      "C:\\Users\\tanzor\\AppData\\Local\\Temp/ipykernel_37132/1340491763.py:20: UserWarning: Warning: converting a masked element to nan.\n",
      "  correlation_per_frame = np.array([ma.corrcoef(ma.masked_invalid(frame.flatten()),\n",
      "C:\\Users\\tanzor\\AppData\\Local\\Temp/ipykernel_37132/1340491763.py:11: UserWarning: Warning: converting a masked element to nan.\n",
      "  correlation_per_frame = np.array([ma.corrcoef(ma.masked_invalid(frame.flatten()),\n"
     ]
    },
    {
     "name": "stdout",
     "output_type": "stream",
     "text": [
      "75\n"
     ]
    },
    {
     "name": "stderr",
     "output_type": "stream",
     "text": [
      "C:\\Users\\tanzor\\AppData\\Local\\Temp/ipykernel_37132/1340491763.py:11: UserWarning: Warning: converting a masked element to nan.\n",
      "  correlation_per_frame = np.array([ma.corrcoef(ma.masked_invalid(frame.flatten()),\n",
      "C:\\Users\\tanzor\\AppData\\Local\\Temp/ipykernel_37132/1340491763.py:20: UserWarning: Warning: converting a masked element to nan.\n",
      "  correlation_per_frame = np.array([ma.corrcoef(ma.masked_invalid(frame.flatten()),\n"
     ]
    },
    {
     "name": "stdout",
     "output_type": "stream",
     "text": [
      "76\n"
     ]
    },
    {
     "name": "stderr",
     "output_type": "stream",
     "text": [
      "C:\\Users\\tanzor\\AppData\\Local\\Temp/ipykernel_37132/1340491763.py:11: UserWarning: Warning: converting a masked element to nan.\n",
      "  correlation_per_frame = np.array([ma.corrcoef(ma.masked_invalid(frame.flatten()),\n",
      "C:\\Users\\tanzor\\AppData\\Local\\Temp/ipykernel_37132/1340491763.py:20: UserWarning: Warning: converting a masked element to nan.\n",
      "  correlation_per_frame = np.array([ma.corrcoef(ma.masked_invalid(frame.flatten()),\n"
     ]
    },
    {
     "name": "stdout",
     "output_type": "stream",
     "text": [
      "77\n"
     ]
    },
    {
     "name": "stderr",
     "output_type": "stream",
     "text": [
      "C:\\Users\\tanzor\\AppData\\Local\\Temp/ipykernel_37132/1340491763.py:11: UserWarning: Warning: converting a masked element to nan.\n",
      "  correlation_per_frame = np.array([ma.corrcoef(ma.masked_invalid(frame.flatten()),\n",
      "C:\\Users\\tanzor\\AppData\\Local\\Temp/ipykernel_37132/1340491763.py:20: UserWarning: Warning: converting a masked element to nan.\n",
      "  correlation_per_frame = np.array([ma.corrcoef(ma.masked_invalid(frame.flatten()),\n"
     ]
    },
    {
     "name": "stdout",
     "output_type": "stream",
     "text": [
      "78\n"
     ]
    },
    {
     "name": "stderr",
     "output_type": "stream",
     "text": [
      "C:\\Users\\tanzor\\AppData\\Local\\Temp/ipykernel_37132/1340491763.py:11: UserWarning: Warning: converting a masked element to nan.\n",
      "  correlation_per_frame = np.array([ma.corrcoef(ma.masked_invalid(frame.flatten()),\n",
      "C:\\Users\\tanzor\\AppData\\Local\\Temp/ipykernel_37132/1340491763.py:20: UserWarning: Warning: converting a masked element to nan.\n",
      "  correlation_per_frame = np.array([ma.corrcoef(ma.masked_invalid(frame.flatten()),\n"
     ]
    },
    {
     "name": "stdout",
     "output_type": "stream",
     "text": [
      "79\n"
     ]
    },
    {
     "name": "stderr",
     "output_type": "stream",
     "text": [
      "C:\\Users\\tanzor\\AppData\\Local\\Temp/ipykernel_37132/1340491763.py:20: UserWarning: Warning: converting a masked element to nan.\n",
      "  correlation_per_frame = np.array([ma.corrcoef(ma.masked_invalid(frame.flatten()),\n",
      "C:\\Users\\tanzor\\AppData\\Local\\Temp/ipykernel_37132/1340491763.py:11: UserWarning: Warning: converting a masked element to nan.\n",
      "  correlation_per_frame = np.array([ma.corrcoef(ma.masked_invalid(frame.flatten()),\n"
     ]
    },
    {
     "name": "stdout",
     "output_type": "stream",
     "text": [
      "80\n"
     ]
    },
    {
     "name": "stderr",
     "output_type": "stream",
     "text": [
      "C:\\Users\\tanzor\\AppData\\Local\\Temp/ipykernel_37132/1340491763.py:11: UserWarning: Warning: converting a masked element to nan.\n",
      "  correlation_per_frame = np.array([ma.corrcoef(ma.masked_invalid(frame.flatten()),\n",
      "C:\\Users\\tanzor\\AppData\\Local\\Temp/ipykernel_37132/1340491763.py:20: UserWarning: Warning: converting a masked element to nan.\n",
      "  correlation_per_frame = np.array([ma.corrcoef(ma.masked_invalid(frame.flatten()),\n"
     ]
    },
    {
     "name": "stdout",
     "output_type": "stream",
     "text": [
      "81\n"
     ]
    },
    {
     "name": "stderr",
     "output_type": "stream",
     "text": [
      "C:\\Users\\tanzor\\AppData\\Local\\Temp/ipykernel_37132/1340491763.py:11: UserWarning: Warning: converting a masked element to nan.\n",
      "  correlation_per_frame = np.array([ma.corrcoef(ma.masked_invalid(frame.flatten()),\n",
      "C:\\Users\\tanzor\\AppData\\Local\\Temp/ipykernel_37132/1340491763.py:20: UserWarning: Warning: converting a masked element to nan.\n",
      "  correlation_per_frame = np.array([ma.corrcoef(ma.masked_invalid(frame.flatten()),\n"
     ]
    },
    {
     "name": "stdout",
     "output_type": "stream",
     "text": [
      "82\n"
     ]
    },
    {
     "name": "stderr",
     "output_type": "stream",
     "text": [
      "C:\\Users\\tanzor\\AppData\\Local\\Temp/ipykernel_37132/1340491763.py:11: UserWarning: Warning: converting a masked element to nan.\n",
      "  correlation_per_frame = np.array([ma.corrcoef(ma.masked_invalid(frame.flatten()),\n",
      "C:\\Users\\tanzor\\AppData\\Local\\Temp/ipykernel_37132/1340491763.py:20: UserWarning: Warning: converting a masked element to nan.\n",
      "  correlation_per_frame = np.array([ma.corrcoef(ma.masked_invalid(frame.flatten()),\n"
     ]
    },
    {
     "name": "stdout",
     "output_type": "stream",
     "text": [
      "83\n"
     ]
    },
    {
     "name": "stderr",
     "output_type": "stream",
     "text": [
      "C:\\Users\\tanzor\\AppData\\Local\\Temp/ipykernel_37132/1340491763.py:11: UserWarning: Warning: converting a masked element to nan.\n",
      "  correlation_per_frame = np.array([ma.corrcoef(ma.masked_invalid(frame.flatten()),\n",
      "C:\\Users\\tanzor\\AppData\\Local\\Temp/ipykernel_37132/1340491763.py:20: UserWarning: Warning: converting a masked element to nan.\n",
      "  correlation_per_frame = np.array([ma.corrcoef(ma.masked_invalid(frame.flatten()),\n"
     ]
    },
    {
     "name": "stdout",
     "output_type": "stream",
     "text": [
      "84\n"
     ]
    },
    {
     "name": "stderr",
     "output_type": "stream",
     "text": [
      "C:\\Users\\tanzor\\AppData\\Local\\Temp/ipykernel_37132/1340491763.py:20: UserWarning: Warning: converting a masked element to nan.\n",
      "  correlation_per_frame = np.array([ma.corrcoef(ma.masked_invalid(frame.flatten()),\n",
      "C:\\Users\\tanzor\\AppData\\Local\\Temp/ipykernel_37132/1340491763.py:11: UserWarning: Warning: converting a masked element to nan.\n",
      "  correlation_per_frame = np.array([ma.corrcoef(ma.masked_invalid(frame.flatten()),\n"
     ]
    },
    {
     "name": "stdout",
     "output_type": "stream",
     "text": [
      "85\n"
     ]
    },
    {
     "name": "stderr",
     "output_type": "stream",
     "text": [
      "C:\\Users\\tanzor\\AppData\\Local\\Temp/ipykernel_37132/1340491763.py:20: UserWarning: Warning: converting a masked element to nan.\n",
      "  correlation_per_frame = np.array([ma.corrcoef(ma.masked_invalid(frame.flatten()),\n",
      "C:\\Users\\tanzor\\AppData\\Local\\Temp/ipykernel_37132/1340491763.py:11: UserWarning: Warning: converting a masked element to nan.\n",
      "  correlation_per_frame = np.array([ma.corrcoef(ma.masked_invalid(frame.flatten()),\n"
     ]
    },
    {
     "name": "stdout",
     "output_type": "stream",
     "text": [
      "86\n"
     ]
    },
    {
     "name": "stderr",
     "output_type": "stream",
     "text": [
      "C:\\Users\\tanzor\\AppData\\Local\\Temp/ipykernel_37132/1340491763.py:11: UserWarning: Warning: converting a masked element to nan.\n",
      "  correlation_per_frame = np.array([ma.corrcoef(ma.masked_invalid(frame.flatten()),\n",
      "C:\\Users\\tanzor\\AppData\\Local\\Temp/ipykernel_37132/1340491763.py:20: UserWarning: Warning: converting a masked element to nan.\n",
      "  correlation_per_frame = np.array([ma.corrcoef(ma.masked_invalid(frame.flatten()),\n"
     ]
    },
    {
     "name": "stdout",
     "output_type": "stream",
     "text": [
      "87\n"
     ]
    },
    {
     "name": "stderr",
     "output_type": "stream",
     "text": [
      "C:\\Users\\tanzor\\AppData\\Local\\Temp/ipykernel_37132/1340491763.py:11: UserWarning: Warning: converting a masked element to nan.\n",
      "  correlation_per_frame = np.array([ma.corrcoef(ma.masked_invalid(frame.flatten()),\n",
      "C:\\Users\\tanzor\\AppData\\Local\\Temp/ipykernel_37132/1340491763.py:20: UserWarning: Warning: converting a masked element to nan.\n",
      "  correlation_per_frame = np.array([ma.corrcoef(ma.masked_invalid(frame.flatten()),\n"
     ]
    },
    {
     "name": "stdout",
     "output_type": "stream",
     "text": [
      "88\n"
     ]
    },
    {
     "name": "stderr",
     "output_type": "stream",
     "text": [
      "C:\\Users\\tanzor\\AppData\\Local\\Temp/ipykernel_37132/1340491763.py:20: UserWarning: Warning: converting a masked element to nan.\n",
      "  correlation_per_frame = np.array([ma.corrcoef(ma.masked_invalid(frame.flatten()),\n",
      "C:\\Users\\tanzor\\AppData\\Local\\Temp/ipykernel_37132/1340491763.py:11: UserWarning: Warning: converting a masked element to nan.\n",
      "  correlation_per_frame = np.array([ma.corrcoef(ma.masked_invalid(frame.flatten()),\n"
     ]
    },
    {
     "name": "stdout",
     "output_type": "stream",
     "text": [
      "89\n"
     ]
    },
    {
     "name": "stderr",
     "output_type": "stream",
     "text": [
      "C:\\Users\\tanzor\\AppData\\Local\\Temp/ipykernel_37132/1340491763.py:20: UserWarning: Warning: converting a masked element to nan.\n",
      "  correlation_per_frame = np.array([ma.corrcoef(ma.masked_invalid(frame.flatten()),\n",
      "C:\\Users\\tanzor\\AppData\\Local\\Temp/ipykernel_37132/1340491763.py:11: UserWarning: Warning: converting a masked element to nan.\n",
      "  correlation_per_frame = np.array([ma.corrcoef(ma.masked_invalid(frame.flatten()),\n"
     ]
    },
    {
     "name": "stdout",
     "output_type": "stream",
     "text": [
      "90\n"
     ]
    },
    {
     "name": "stderr",
     "output_type": "stream",
     "text": [
      "C:\\Users\\tanzor\\AppData\\Local\\Temp/ipykernel_37132/1340491763.py:11: UserWarning: Warning: converting a masked element to nan.\n",
      "  correlation_per_frame = np.array([ma.corrcoef(ma.masked_invalid(frame.flatten()),\n",
      "C:\\Users\\tanzor\\AppData\\Local\\Temp/ipykernel_37132/1340491763.py:20: UserWarning: Warning: converting a masked element to nan.\n",
      "  correlation_per_frame = np.array([ma.corrcoef(ma.masked_invalid(frame.flatten()),\n"
     ]
    },
    {
     "name": "stdout",
     "output_type": "stream",
     "text": [
      "91\n"
     ]
    },
    {
     "name": "stderr",
     "output_type": "stream",
     "text": [
      "C:\\Users\\tanzor\\AppData\\Local\\Temp/ipykernel_37132/1340491763.py:11: UserWarning: Warning: converting a masked element to nan.\n",
      "  correlation_per_frame = np.array([ma.corrcoef(ma.masked_invalid(frame.flatten()),\n",
      "C:\\Users\\tanzor\\AppData\\Local\\Temp/ipykernel_37132/1340491763.py:20: UserWarning: Warning: converting a masked element to nan.\n",
      "  correlation_per_frame = np.array([ma.corrcoef(ma.masked_invalid(frame.flatten()),\n"
     ]
    },
    {
     "name": "stdout",
     "output_type": "stream",
     "text": [
      "92\n"
     ]
    },
    {
     "name": "stderr",
     "output_type": "stream",
     "text": [
      "C:\\Users\\tanzor\\AppData\\Local\\Temp/ipykernel_37132/1340491763.py:20: UserWarning: Warning: converting a masked element to nan.\n",
      "  correlation_per_frame = np.array([ma.corrcoef(ma.masked_invalid(frame.flatten()),\n",
      "C:\\Users\\tanzor\\AppData\\Local\\Temp/ipykernel_37132/1340491763.py:11: UserWarning: Warning: converting a masked element to nan.\n",
      "  correlation_per_frame = np.array([ma.corrcoef(ma.masked_invalid(frame.flatten()),\n"
     ]
    },
    {
     "name": "stdout",
     "output_type": "stream",
     "text": [
      "93\n"
     ]
    },
    {
     "name": "stderr",
     "output_type": "stream",
     "text": [
      "C:\\Users\\tanzor\\AppData\\Local\\Temp/ipykernel_37132/1340491763.py:11: UserWarning: Warning: converting a masked element to nan.\n",
      "  correlation_per_frame = np.array([ma.corrcoef(ma.masked_invalid(frame.flatten()),\n",
      "C:\\Users\\tanzor\\AppData\\Local\\Temp/ipykernel_37132/1340491763.py:20: UserWarning: Warning: converting a masked element to nan.\n",
      "  correlation_per_frame = np.array([ma.corrcoef(ma.masked_invalid(frame.flatten()),\n"
     ]
    },
    {
     "name": "stdout",
     "output_type": "stream",
     "text": [
      "94\n"
     ]
    },
    {
     "name": "stderr",
     "output_type": "stream",
     "text": [
      "C:\\Users\\tanzor\\AppData\\Local\\Temp/ipykernel_37132/1340491763.py:20: UserWarning: Warning: converting a masked element to nan.\n",
      "  correlation_per_frame = np.array([ma.corrcoef(ma.masked_invalid(frame.flatten()),\n",
      "C:\\Users\\tanzor\\AppData\\Local\\Temp/ipykernel_37132/1340491763.py:11: UserWarning: Warning: converting a masked element to nan.\n",
      "  correlation_per_frame = np.array([ma.corrcoef(ma.masked_invalid(frame.flatten()),\n"
     ]
    },
    {
     "name": "stdout",
     "output_type": "stream",
     "text": [
      "95\n"
     ]
    },
    {
     "name": "stderr",
     "output_type": "stream",
     "text": [
      "C:\\Users\\tanzor\\AppData\\Local\\Temp/ipykernel_37132/1340491763.py:20: UserWarning: Warning: converting a masked element to nan.\n",
      "  correlation_per_frame = np.array([ma.corrcoef(ma.masked_invalid(frame.flatten()),\n",
      "C:\\Users\\tanzor\\AppData\\Local\\Temp/ipykernel_37132/1340491763.py:11: UserWarning: Warning: converting a masked element to nan.\n",
      "  correlation_per_frame = np.array([ma.corrcoef(ma.masked_invalid(frame.flatten()),\n"
     ]
    },
    {
     "name": "stdout",
     "output_type": "stream",
     "text": [
      "96\n"
     ]
    },
    {
     "name": "stderr",
     "output_type": "stream",
     "text": [
      "C:\\Users\\tanzor\\AppData\\Local\\Temp/ipykernel_37132/1340491763.py:20: UserWarning: Warning: converting a masked element to nan.\n",
      "  correlation_per_frame = np.array([ma.corrcoef(ma.masked_invalid(frame.flatten()),\n",
      "C:\\Users\\tanzor\\AppData\\Local\\Temp/ipykernel_37132/1340491763.py:11: UserWarning: Warning: converting a masked element to nan.\n",
      "  correlation_per_frame = np.array([ma.corrcoef(ma.masked_invalid(frame.flatten()),\n"
     ]
    },
    {
     "name": "stdout",
     "output_type": "stream",
     "text": [
      "97\n"
     ]
    },
    {
     "name": "stderr",
     "output_type": "stream",
     "text": [
      "C:\\Users\\tanzor\\AppData\\Local\\Temp/ipykernel_37132/1340491763.py:20: UserWarning: Warning: converting a masked element to nan.\n",
      "  correlation_per_frame = np.array([ma.corrcoef(ma.masked_invalid(frame.flatten()),\n",
      "C:\\Users\\tanzor\\AppData\\Local\\Temp/ipykernel_37132/1340491763.py:11: UserWarning: Warning: converting a masked element to nan.\n",
      "  correlation_per_frame = np.array([ma.corrcoef(ma.masked_invalid(frame.flatten()),\n"
     ]
    },
    {
     "name": "stdout",
     "output_type": "stream",
     "text": [
      "98\n"
     ]
    },
    {
     "name": "stderr",
     "output_type": "stream",
     "text": [
      "C:\\Users\\tanzor\\AppData\\Local\\Temp/ipykernel_37132/1340491763.py:20: UserWarning: Warning: converting a masked element to nan.\n",
      "  correlation_per_frame = np.array([ma.corrcoef(ma.masked_invalid(frame.flatten()),\n",
      "C:\\Users\\tanzor\\AppData\\Local\\Temp/ipykernel_37132/1340491763.py:11: UserWarning: Warning: converting a masked element to nan.\n",
      "  correlation_per_frame = np.array([ma.corrcoef(ma.masked_invalid(frame.flatten()),\n"
     ]
    },
    {
     "name": "stdout",
     "output_type": "stream",
     "text": [
      "99\n"
     ]
    },
    {
     "name": "stderr",
     "output_type": "stream",
     "text": [
      "C:\\Users\\tanzor\\AppData\\Local\\Temp/ipykernel_37132/1340491763.py:20: UserWarning: Warning: converting a masked element to nan.\n",
      "  correlation_per_frame = np.array([ma.corrcoef(ma.masked_invalid(frame.flatten()),\n",
      "C:\\Users\\tanzor\\AppData\\Local\\Temp/ipykernel_37132/1340491763.py:11: UserWarning: Warning: converting a masked element to nan.\n",
      "  correlation_per_frame = np.array([ma.corrcoef(ma.masked_invalid(frame.flatten()),\n"
     ]
    },
    {
     "name": "stdout",
     "output_type": "stream",
     "text": [
      "100\n"
     ]
    },
    {
     "name": "stderr",
     "output_type": "stream",
     "text": [
      "C:\\Users\\tanzor\\AppData\\Local\\Temp/ipykernel_37132/1340491763.py:11: UserWarning: Warning: converting a masked element to nan.\n",
      "  correlation_per_frame = np.array([ma.corrcoef(ma.masked_invalid(frame.flatten()),\n",
      "C:\\Users\\tanzor\\AppData\\Local\\Temp/ipykernel_37132/1340491763.py:20: UserWarning: Warning: converting a masked element to nan.\n",
      "  correlation_per_frame = np.array([ma.corrcoef(ma.masked_invalid(frame.flatten()),\n"
     ]
    },
    {
     "name": "stdout",
     "output_type": "stream",
     "text": [
      "101\n"
     ]
    },
    {
     "name": "stderr",
     "output_type": "stream",
     "text": [
      "C:\\Users\\tanzor\\AppData\\Local\\Temp/ipykernel_37132/1340491763.py:20: UserWarning: Warning: converting a masked element to nan.\n",
      "  correlation_per_frame = np.array([ma.corrcoef(ma.masked_invalid(frame.flatten()),\n",
      "C:\\Users\\tanzor\\AppData\\Local\\Temp/ipykernel_37132/1340491763.py:11: UserWarning: Warning: converting a masked element to nan.\n",
      "  correlation_per_frame = np.array([ma.corrcoef(ma.masked_invalid(frame.flatten()),\n"
     ]
    },
    {
     "name": "stdout",
     "output_type": "stream",
     "text": [
      "102\n"
     ]
    },
    {
     "name": "stderr",
     "output_type": "stream",
     "text": [
      "C:\\Users\\tanzor\\AppData\\Local\\Temp/ipykernel_37132/1340491763.py:20: UserWarning: Warning: converting a masked element to nan.\n",
      "  correlation_per_frame = np.array([ma.corrcoef(ma.masked_invalid(frame.flatten()),\n",
      "C:\\Users\\tanzor\\AppData\\Local\\Temp/ipykernel_37132/1340491763.py:11: UserWarning: Warning: converting a masked element to nan.\n",
      "  correlation_per_frame = np.array([ma.corrcoef(ma.masked_invalid(frame.flatten()),\n"
     ]
    },
    {
     "name": "stdout",
     "output_type": "stream",
     "text": [
      "103\n"
     ]
    },
    {
     "name": "stderr",
     "output_type": "stream",
     "text": [
      "C:\\Users\\tanzor\\AppData\\Local\\Temp/ipykernel_37132/1340491763.py:20: UserWarning: Warning: converting a masked element to nan.\n",
      "  correlation_per_frame = np.array([ma.corrcoef(ma.masked_invalid(frame.flatten()),\n",
      "C:\\Users\\tanzor\\AppData\\Local\\Temp/ipykernel_37132/1340491763.py:11: UserWarning: Warning: converting a masked element to nan.\n",
      "  correlation_per_frame = np.array([ma.corrcoef(ma.masked_invalid(frame.flatten()),\n"
     ]
    },
    {
     "name": "stdout",
     "output_type": "stream",
     "text": [
      "104\n"
     ]
    },
    {
     "name": "stderr",
     "output_type": "stream",
     "text": [
      "C:\\Users\\tanzor\\AppData\\Local\\Temp/ipykernel_37132/1340491763.py:11: UserWarning: Warning: converting a masked element to nan.\n",
      "  correlation_per_frame = np.array([ma.corrcoef(ma.masked_invalid(frame.flatten()),\n",
      "C:\\Users\\tanzor\\AppData\\Local\\Temp/ipykernel_37132/1340491763.py:20: UserWarning: Warning: converting a masked element to nan.\n",
      "  correlation_per_frame = np.array([ma.corrcoef(ma.masked_invalid(frame.flatten()),\n"
     ]
    },
    {
     "name": "stdout",
     "output_type": "stream",
     "text": [
      "105\n"
     ]
    },
    {
     "name": "stderr",
     "output_type": "stream",
     "text": [
      "C:\\Users\\tanzor\\AppData\\Local\\Temp/ipykernel_37132/1340491763.py:11: UserWarning: Warning: converting a masked element to nan.\n",
      "  correlation_per_frame = np.array([ma.corrcoef(ma.masked_invalid(frame.flatten()),\n",
      "C:\\Users\\tanzor\\AppData\\Local\\Temp/ipykernel_37132/1340491763.py:20: UserWarning: Warning: converting a masked element to nan.\n",
      "  correlation_per_frame = np.array([ma.corrcoef(ma.masked_invalid(frame.flatten()),\n"
     ]
    },
    {
     "name": "stdout",
     "output_type": "stream",
     "text": [
      "106\n"
     ]
    },
    {
     "name": "stderr",
     "output_type": "stream",
     "text": [
      "C:\\Users\\tanzor\\AppData\\Local\\Temp/ipykernel_37132/1340491763.py:11: UserWarning: Warning: converting a masked element to nan.\n",
      "  correlation_per_frame = np.array([ma.corrcoef(ma.masked_invalid(frame.flatten()),\n",
      "C:\\Users\\tanzor\\AppData\\Local\\Temp/ipykernel_37132/1340491763.py:20: UserWarning: Warning: converting a masked element to nan.\n",
      "  correlation_per_frame = np.array([ma.corrcoef(ma.masked_invalid(frame.flatten()),\n"
     ]
    },
    {
     "name": "stdout",
     "output_type": "stream",
     "text": [
      "107\n"
     ]
    },
    {
     "name": "stderr",
     "output_type": "stream",
     "text": [
      "C:\\Users\\tanzor\\AppData\\Local\\Temp/ipykernel_37132/1340491763.py:20: UserWarning: Warning: converting a masked element to nan.\n",
      "  correlation_per_frame = np.array([ma.corrcoef(ma.masked_invalid(frame.flatten()),\n",
      "C:\\Users\\tanzor\\AppData\\Local\\Temp/ipykernel_37132/1340491763.py:11: UserWarning: Warning: converting a masked element to nan.\n",
      "  correlation_per_frame = np.array([ma.corrcoef(ma.masked_invalid(frame.flatten()),\n"
     ]
    },
    {
     "name": "stdout",
     "output_type": "stream",
     "text": [
      "108\n"
     ]
    },
    {
     "name": "stderr",
     "output_type": "stream",
     "text": [
      "C:\\Users\\tanzor\\AppData\\Local\\Temp/ipykernel_37132/1340491763.py:20: UserWarning: Warning: converting a masked element to nan.\n",
      "  correlation_per_frame = np.array([ma.corrcoef(ma.masked_invalid(frame.flatten()),\n",
      "C:\\Users\\tanzor\\AppData\\Local\\Temp/ipykernel_37132/1340491763.py:11: UserWarning: Warning: converting a masked element to nan.\n",
      "  correlation_per_frame = np.array([ma.corrcoef(ma.masked_invalid(frame.flatten()),\n"
     ]
    },
    {
     "name": "stdout",
     "output_type": "stream",
     "text": [
      "109\n"
     ]
    },
    {
     "name": "stderr",
     "output_type": "stream",
     "text": [
      "C:\\Users\\tanzor\\AppData\\Local\\Temp/ipykernel_37132/1340491763.py:11: UserWarning: Warning: converting a masked element to nan.\n",
      "  correlation_per_frame = np.array([ma.corrcoef(ma.masked_invalid(frame.flatten()),\n",
      "C:\\Users\\tanzor\\AppData\\Local\\Temp/ipykernel_37132/1340491763.py:20: UserWarning: Warning: converting a masked element to nan.\n",
      "  correlation_per_frame = np.array([ma.corrcoef(ma.masked_invalid(frame.flatten()),\n"
     ]
    },
    {
     "name": "stdout",
     "output_type": "stream",
     "text": [
      "110\n"
     ]
    },
    {
     "name": "stderr",
     "output_type": "stream",
     "text": [
      "C:\\Users\\tanzor\\AppData\\Local\\Temp/ipykernel_37132/1340491763.py:11: UserWarning: Warning: converting a masked element to nan.\n",
      "  correlation_per_frame = np.array([ma.corrcoef(ma.masked_invalid(frame.flatten()),\n",
      "C:\\Users\\tanzor\\AppData\\Local\\Temp/ipykernel_37132/1340491763.py:20: UserWarning: Warning: converting a masked element to nan.\n",
      "  correlation_per_frame = np.array([ma.corrcoef(ma.masked_invalid(frame.flatten()),\n"
     ]
    },
    {
     "name": "stdout",
     "output_type": "stream",
     "text": [
      "111\n"
     ]
    },
    {
     "name": "stderr",
     "output_type": "stream",
     "text": [
      "C:\\Users\\tanzor\\AppData\\Local\\Temp/ipykernel_37132/1340491763.py:20: UserWarning: Warning: converting a masked element to nan.\n",
      "  correlation_per_frame = np.array([ma.corrcoef(ma.masked_invalid(frame.flatten()),\n",
      "C:\\Users\\tanzor\\AppData\\Local\\Temp/ipykernel_37132/1340491763.py:11: UserWarning: Warning: converting a masked element to nan.\n",
      "  correlation_per_frame = np.array([ma.corrcoef(ma.masked_invalid(frame.flatten()),\n"
     ]
    },
    {
     "name": "stdout",
     "output_type": "stream",
     "text": [
      "112\n"
     ]
    },
    {
     "name": "stderr",
     "output_type": "stream",
     "text": [
      "C:\\Users\\tanzor\\AppData\\Local\\Temp/ipykernel_37132/1340491763.py:11: UserWarning: Warning: converting a masked element to nan.\n",
      "  correlation_per_frame = np.array([ma.corrcoef(ma.masked_invalid(frame.flatten()),\n",
      "C:\\Users\\tanzor\\AppData\\Local\\Temp/ipykernel_37132/1340491763.py:20: UserWarning: Warning: converting a masked element to nan.\n",
      "  correlation_per_frame = np.array([ma.corrcoef(ma.masked_invalid(frame.flatten()),\n"
     ]
    },
    {
     "name": "stdout",
     "output_type": "stream",
     "text": [
      "113\n"
     ]
    },
    {
     "name": "stderr",
     "output_type": "stream",
     "text": [
      "C:\\Users\\tanzor\\AppData\\Local\\Temp/ipykernel_37132/1340491763.py:20: UserWarning: Warning: converting a masked element to nan.\n",
      "  correlation_per_frame = np.array([ma.corrcoef(ma.masked_invalid(frame.flatten()),\n",
      "C:\\Users\\tanzor\\AppData\\Local\\Temp/ipykernel_37132/1340491763.py:11: UserWarning: Warning: converting a masked element to nan.\n",
      "  correlation_per_frame = np.array([ma.corrcoef(ma.masked_invalid(frame.flatten()),\n"
     ]
    },
    {
     "name": "stdout",
     "output_type": "stream",
     "text": [
      "114\n"
     ]
    },
    {
     "name": "stderr",
     "output_type": "stream",
     "text": [
      "C:\\Users\\tanzor\\AppData\\Local\\Temp/ipykernel_37132/1340491763.py:11: UserWarning: Warning: converting a masked element to nan.\n",
      "  correlation_per_frame = np.array([ma.corrcoef(ma.masked_invalid(frame.flatten()),\n",
      "C:\\Users\\tanzor\\AppData\\Local\\Temp/ipykernel_37132/1340491763.py:20: UserWarning: Warning: converting a masked element to nan.\n",
      "  correlation_per_frame = np.array([ma.corrcoef(ma.masked_invalid(frame.flatten()),\n"
     ]
    },
    {
     "name": "stdout",
     "output_type": "stream",
     "text": [
      "115\n"
     ]
    },
    {
     "name": "stderr",
     "output_type": "stream",
     "text": [
      "C:\\Users\\tanzor\\AppData\\Local\\Temp/ipykernel_37132/1340491763.py:11: UserWarning: Warning: converting a masked element to nan.\n",
      "  correlation_per_frame = np.array([ma.corrcoef(ma.masked_invalid(frame.flatten()),\n",
      "C:\\Users\\tanzor\\AppData\\Local\\Temp/ipykernel_37132/1340491763.py:20: UserWarning: Warning: converting a masked element to nan.\n",
      "  correlation_per_frame = np.array([ma.corrcoef(ma.masked_invalid(frame.flatten()),\n"
     ]
    },
    {
     "name": "stdout",
     "output_type": "stream",
     "text": [
      "116\n"
     ]
    },
    {
     "name": "stderr",
     "output_type": "stream",
     "text": [
      "C:\\Users\\tanzor\\AppData\\Local\\Temp/ipykernel_37132/1340491763.py:20: UserWarning: Warning: converting a masked element to nan.\n",
      "  correlation_per_frame = np.array([ma.corrcoef(ma.masked_invalid(frame.flatten()),\n",
      "C:\\Users\\tanzor\\AppData\\Local\\Temp/ipykernel_37132/1340491763.py:11: UserWarning: Warning: converting a masked element to nan.\n",
      "  correlation_per_frame = np.array([ma.corrcoef(ma.masked_invalid(frame.flatten()),\n"
     ]
    },
    {
     "name": "stdout",
     "output_type": "stream",
     "text": [
      "117\n"
     ]
    },
    {
     "name": "stderr",
     "output_type": "stream",
     "text": [
      "C:\\Users\\tanzor\\AppData\\Local\\Temp/ipykernel_37132/1340491763.py:11: UserWarning: Warning: converting a masked element to nan.\n",
      "  correlation_per_frame = np.array([ma.corrcoef(ma.masked_invalid(frame.flatten()),\n",
      "C:\\Users\\tanzor\\AppData\\Local\\Temp/ipykernel_37132/1340491763.py:20: UserWarning: Warning: converting a masked element to nan.\n",
      "  correlation_per_frame = np.array([ma.corrcoef(ma.masked_invalid(frame.flatten()),\n"
     ]
    },
    {
     "name": "stdout",
     "output_type": "stream",
     "text": [
      "118\n"
     ]
    },
    {
     "name": "stderr",
     "output_type": "stream",
     "text": [
      "C:\\Users\\tanzor\\AppData\\Local\\Temp/ipykernel_37132/1340491763.py:20: UserWarning: Warning: converting a masked element to nan.\n",
      "  correlation_per_frame = np.array([ma.corrcoef(ma.masked_invalid(frame.flatten()),\n",
      "C:\\Users\\tanzor\\AppData\\Local\\Temp/ipykernel_37132/1340491763.py:11: UserWarning: Warning: converting a masked element to nan.\n",
      "  correlation_per_frame = np.array([ma.corrcoef(ma.masked_invalid(frame.flatten()),\n"
     ]
    },
    {
     "name": "stdout",
     "output_type": "stream",
     "text": [
      "119\n"
     ]
    },
    {
     "name": "stderr",
     "output_type": "stream",
     "text": [
      "C:\\Users\\tanzor\\AppData\\Local\\Temp/ipykernel_37132/1340491763.py:11: UserWarning: Warning: converting a masked element to nan.\n",
      "  correlation_per_frame = np.array([ma.corrcoef(ma.masked_invalid(frame.flatten()),\n",
      "C:\\Users\\tanzor\\AppData\\Local\\Temp/ipykernel_37132/1340491763.py:20: UserWarning: Warning: converting a masked element to nan.\n",
      "  correlation_per_frame = np.array([ma.corrcoef(ma.masked_invalid(frame.flatten()),\n"
     ]
    },
    {
     "name": "stdout",
     "output_type": "stream",
     "text": [
      "120\n"
     ]
    },
    {
     "name": "stderr",
     "output_type": "stream",
     "text": [
      "C:\\Users\\tanzor\\AppData\\Local\\Temp/ipykernel_37132/1340491763.py:20: UserWarning: Warning: converting a masked element to nan.\n",
      "  correlation_per_frame = np.array([ma.corrcoef(ma.masked_invalid(frame.flatten()),\n",
      "C:\\Users\\tanzor\\AppData\\Local\\Temp/ipykernel_37132/1340491763.py:11: UserWarning: Warning: converting a masked element to nan.\n",
      "  correlation_per_frame = np.array([ma.corrcoef(ma.masked_invalid(frame.flatten()),\n"
     ]
    },
    {
     "name": "stdout",
     "output_type": "stream",
     "text": [
      "121\n"
     ]
    },
    {
     "name": "stderr",
     "output_type": "stream",
     "text": [
      "C:\\Users\\tanzor\\AppData\\Local\\Temp/ipykernel_37132/1340491763.py:11: UserWarning: Warning: converting a masked element to nan.\n",
      "  correlation_per_frame = np.array([ma.corrcoef(ma.masked_invalid(frame.flatten()),\n",
      "C:\\Users\\tanzor\\AppData\\Local\\Temp/ipykernel_37132/1340491763.py:20: UserWarning: Warning: converting a masked element to nan.\n",
      "  correlation_per_frame = np.array([ma.corrcoef(ma.masked_invalid(frame.flatten()),\n"
     ]
    },
    {
     "name": "stdout",
     "output_type": "stream",
     "text": [
      "122\n"
     ]
    },
    {
     "name": "stderr",
     "output_type": "stream",
     "text": [
      "C:\\Users\\tanzor\\AppData\\Local\\Temp/ipykernel_37132/1340491763.py:11: UserWarning: Warning: converting a masked element to nan.\n",
      "  correlation_per_frame = np.array([ma.corrcoef(ma.masked_invalid(frame.flatten()),\n",
      "C:\\Users\\tanzor\\AppData\\Local\\Temp/ipykernel_37132/1340491763.py:20: UserWarning: Warning: converting a masked element to nan.\n",
      "  correlation_per_frame = np.array([ma.corrcoef(ma.masked_invalid(frame.flatten()),\n"
     ]
    },
    {
     "name": "stdout",
     "output_type": "stream",
     "text": [
      "123\n"
     ]
    },
    {
     "name": "stderr",
     "output_type": "stream",
     "text": [
      "C:\\Users\\tanzor\\AppData\\Local\\Temp/ipykernel_37132/1340491763.py:11: UserWarning: Warning: converting a masked element to nan.\n",
      "  correlation_per_frame = np.array([ma.corrcoef(ma.masked_invalid(frame.flatten()),\n",
      "C:\\Users\\tanzor\\AppData\\Local\\Temp/ipykernel_37132/1340491763.py:20: UserWarning: Warning: converting a masked element to nan.\n",
      "  correlation_per_frame = np.array([ma.corrcoef(ma.masked_invalid(frame.flatten()),\n"
     ]
    },
    {
     "name": "stdout",
     "output_type": "stream",
     "text": [
      "124\n"
     ]
    },
    {
     "name": "stderr",
     "output_type": "stream",
     "text": [
      "C:\\Users\\tanzor\\AppData\\Local\\Temp/ipykernel_37132/1340491763.py:11: UserWarning: Warning: converting a masked element to nan.\n",
      "  correlation_per_frame = np.array([ma.corrcoef(ma.masked_invalid(frame.flatten()),\n",
      "C:\\Users\\tanzor\\AppData\\Local\\Temp/ipykernel_37132/1340491763.py:20: UserWarning: Warning: converting a masked element to nan.\n",
      "  correlation_per_frame = np.array([ma.corrcoef(ma.masked_invalid(frame.flatten()),\n"
     ]
    },
    {
     "name": "stdout",
     "output_type": "stream",
     "text": [
      "125\n"
     ]
    },
    {
     "name": "stderr",
     "output_type": "stream",
     "text": [
      "C:\\Users\\tanzor\\AppData\\Local\\Temp/ipykernel_37132/1340491763.py:11: UserWarning: Warning: converting a masked element to nan.\n",
      "  correlation_per_frame = np.array([ma.corrcoef(ma.masked_invalid(frame.flatten()),\n",
      "C:\\Users\\tanzor\\AppData\\Local\\Temp/ipykernel_37132/1340491763.py:20: UserWarning: Warning: converting a masked element to nan.\n",
      "  correlation_per_frame = np.array([ma.corrcoef(ma.masked_invalid(frame.flatten()),\n"
     ]
    },
    {
     "name": "stdout",
     "output_type": "stream",
     "text": [
      "126\n"
     ]
    },
    {
     "name": "stderr",
     "output_type": "stream",
     "text": [
      "C:\\Users\\tanzor\\AppData\\Local\\Temp/ipykernel_37132/1340491763.py:20: UserWarning: Warning: converting a masked element to nan.\n",
      "  correlation_per_frame = np.array([ma.corrcoef(ma.masked_invalid(frame.flatten()),\n",
      "C:\\Users\\tanzor\\AppData\\Local\\Temp/ipykernel_37132/1340491763.py:11: UserWarning: Warning: converting a masked element to nan.\n",
      "  correlation_per_frame = np.array([ma.corrcoef(ma.masked_invalid(frame.flatten()),\n"
     ]
    },
    {
     "name": "stdout",
     "output_type": "stream",
     "text": [
      "127\n"
     ]
    },
    {
     "name": "stderr",
     "output_type": "stream",
     "text": [
      "C:\\Users\\tanzor\\AppData\\Local\\Temp/ipykernel_37132/1340491763.py:20: UserWarning: Warning: converting a masked element to nan.\n",
      "  correlation_per_frame = np.array([ma.corrcoef(ma.masked_invalid(frame.flatten()),\n",
      "C:\\Users\\tanzor\\AppData\\Local\\Temp/ipykernel_37132/1340491763.py:11: UserWarning: Warning: converting a masked element to nan.\n",
      "  correlation_per_frame = np.array([ma.corrcoef(ma.masked_invalid(frame.flatten()),\n"
     ]
    },
    {
     "name": "stdout",
     "output_type": "stream",
     "text": [
      "128\n"
     ]
    },
    {
     "name": "stderr",
     "output_type": "stream",
     "text": [
      "C:\\Users\\tanzor\\AppData\\Local\\Temp/ipykernel_37132/1340491763.py:20: UserWarning: Warning: converting a masked element to nan.\n",
      "  correlation_per_frame = np.array([ma.corrcoef(ma.masked_invalid(frame.flatten()),\n",
      "C:\\Users\\tanzor\\AppData\\Local\\Temp/ipykernel_37132/1340491763.py:11: UserWarning: Warning: converting a masked element to nan.\n",
      "  correlation_per_frame = np.array([ma.corrcoef(ma.masked_invalid(frame.flatten()),\n"
     ]
    },
    {
     "name": "stdout",
     "output_type": "stream",
     "text": [
      "129\n"
     ]
    },
    {
     "name": "stderr",
     "output_type": "stream",
     "text": [
      "C:\\Users\\tanzor\\AppData\\Local\\Temp/ipykernel_37132/1340491763.py:20: UserWarning: Warning: converting a masked element to nan.\n",
      "  correlation_per_frame = np.array([ma.corrcoef(ma.masked_invalid(frame.flatten()),\n",
      "C:\\Users\\tanzor\\AppData\\Local\\Temp/ipykernel_37132/1340491763.py:11: UserWarning: Warning: converting a masked element to nan.\n",
      "  correlation_per_frame = np.array([ma.corrcoef(ma.masked_invalid(frame.flatten()),\n"
     ]
    },
    {
     "name": "stdout",
     "output_type": "stream",
     "text": [
      "130\n"
     ]
    },
    {
     "name": "stderr",
     "output_type": "stream",
     "text": [
      "C:\\Users\\tanzor\\AppData\\Local\\Temp/ipykernel_37132/1340491763.py:11: UserWarning: Warning: converting a masked element to nan.\n",
      "  correlation_per_frame = np.array([ma.corrcoef(ma.masked_invalid(frame.flatten()),\n",
      "C:\\Users\\tanzor\\AppData\\Local\\Temp/ipykernel_37132/1340491763.py:20: UserWarning: Warning: converting a masked element to nan.\n",
      "  correlation_per_frame = np.array([ma.corrcoef(ma.masked_invalid(frame.flatten()),\n"
     ]
    },
    {
     "name": "stdout",
     "output_type": "stream",
     "text": [
      "131\n"
     ]
    },
    {
     "name": "stderr",
     "output_type": "stream",
     "text": [
      "C:\\Users\\tanzor\\AppData\\Local\\Temp/ipykernel_37132/1340491763.py:11: UserWarning: Warning: converting a masked element to nan.\n",
      "  correlation_per_frame = np.array([ma.corrcoef(ma.masked_invalid(frame.flatten()),\n",
      "C:\\Users\\tanzor\\AppData\\Local\\Temp/ipykernel_37132/1340491763.py:20: UserWarning: Warning: converting a masked element to nan.\n",
      "  correlation_per_frame = np.array([ma.corrcoef(ma.masked_invalid(frame.flatten()),\n"
     ]
    },
    {
     "name": "stdout",
     "output_type": "stream",
     "text": [
      "132\n"
     ]
    },
    {
     "name": "stderr",
     "output_type": "stream",
     "text": [
      "C:\\Users\\tanzor\\AppData\\Local\\Temp/ipykernel_37132/1340491763.py:20: UserWarning: Warning: converting a masked element to nan.\n",
      "  correlation_per_frame = np.array([ma.corrcoef(ma.masked_invalid(frame.flatten()),\n",
      "C:\\Users\\tanzor\\AppData\\Local\\Temp/ipykernel_37132/1340491763.py:11: UserWarning: Warning: converting a masked element to nan.\n",
      "  correlation_per_frame = np.array([ma.corrcoef(ma.masked_invalid(frame.flatten()),\n"
     ]
    },
    {
     "name": "stdout",
     "output_type": "stream",
     "text": [
      "133\n"
     ]
    },
    {
     "name": "stderr",
     "output_type": "stream",
     "text": [
      "C:\\Users\\tanzor\\AppData\\Local\\Temp/ipykernel_37132/1340491763.py:11: UserWarning: Warning: converting a masked element to nan.\n",
      "  correlation_per_frame = np.array([ma.corrcoef(ma.masked_invalid(frame.flatten()),\n",
      "C:\\Users\\tanzor\\AppData\\Local\\Temp/ipykernel_37132/1340491763.py:20: UserWarning: Warning: converting a masked element to nan.\n",
      "  correlation_per_frame = np.array([ma.corrcoef(ma.masked_invalid(frame.flatten()),\n"
     ]
    },
    {
     "name": "stdout",
     "output_type": "stream",
     "text": [
      "134\n"
     ]
    },
    {
     "name": "stderr",
     "output_type": "stream",
     "text": [
      "C:\\Users\\tanzor\\AppData\\Local\\Temp/ipykernel_37132/1340491763.py:11: UserWarning: Warning: converting a masked element to nan.\n",
      "  correlation_per_frame = np.array([ma.corrcoef(ma.masked_invalid(frame.flatten()),\n",
      "C:\\Users\\tanzor\\AppData\\Local\\Temp/ipykernel_37132/1340491763.py:20: UserWarning: Warning: converting a masked element to nan.\n",
      "  correlation_per_frame = np.array([ma.corrcoef(ma.masked_invalid(frame.flatten()),\n"
     ]
    },
    {
     "name": "stdout",
     "output_type": "stream",
     "text": [
      "135\n"
     ]
    },
    {
     "name": "stderr",
     "output_type": "stream",
     "text": [
      "C:\\Users\\tanzor\\AppData\\Local\\Temp/ipykernel_37132/1340491763.py:11: UserWarning: Warning: converting a masked element to nan.\n",
      "  correlation_per_frame = np.array([ma.corrcoef(ma.masked_invalid(frame.flatten()),\n",
      "C:\\Users\\tanzor\\AppData\\Local\\Temp/ipykernel_37132/1340491763.py:20: UserWarning: Warning: converting a masked element to nan.\n",
      "  correlation_per_frame = np.array([ma.corrcoef(ma.masked_invalid(frame.flatten()),\n"
     ]
    },
    {
     "name": "stdout",
     "output_type": "stream",
     "text": [
      "136\n"
     ]
    },
    {
     "name": "stderr",
     "output_type": "stream",
     "text": [
      "C:\\Users\\tanzor\\AppData\\Local\\Temp/ipykernel_37132/1340491763.py:11: UserWarning: Warning: converting a masked element to nan.\n",
      "  correlation_per_frame = np.array([ma.corrcoef(ma.masked_invalid(frame.flatten()),\n",
      "C:\\Users\\tanzor\\AppData\\Local\\Temp/ipykernel_37132/1340491763.py:20: UserWarning: Warning: converting a masked element to nan.\n",
      "  correlation_per_frame = np.array([ma.corrcoef(ma.masked_invalid(frame.flatten()),\n"
     ]
    },
    {
     "name": "stdout",
     "output_type": "stream",
     "text": [
      "137\n"
     ]
    },
    {
     "name": "stderr",
     "output_type": "stream",
     "text": [
      "C:\\Users\\tanzor\\AppData\\Local\\Temp/ipykernel_37132/1340491763.py:20: UserWarning: Warning: converting a masked element to nan.\n",
      "  correlation_per_frame = np.array([ma.corrcoef(ma.masked_invalid(frame.flatten()),\n",
      "C:\\Users\\tanzor\\AppData\\Local\\Temp/ipykernel_37132/1340491763.py:11: UserWarning: Warning: converting a masked element to nan.\n",
      "  correlation_per_frame = np.array([ma.corrcoef(ma.masked_invalid(frame.flatten()),\n"
     ]
    },
    {
     "name": "stdout",
     "output_type": "stream",
     "text": [
      "138\n"
     ]
    },
    {
     "name": "stderr",
     "output_type": "stream",
     "text": [
      "C:\\Users\\tanzor\\AppData\\Local\\Temp/ipykernel_37132/1340491763.py:20: UserWarning: Warning: converting a masked element to nan.\n",
      "  correlation_per_frame = np.array([ma.corrcoef(ma.masked_invalid(frame.flatten()),\n",
      "C:\\Users\\tanzor\\AppData\\Local\\Temp/ipykernel_37132/1340491763.py:11: UserWarning: Warning: converting a masked element to nan.\n",
      "  correlation_per_frame = np.array([ma.corrcoef(ma.masked_invalid(frame.flatten()),\n"
     ]
    },
    {
     "name": "stdout",
     "output_type": "stream",
     "text": [
      "139\n"
     ]
    },
    {
     "name": "stderr",
     "output_type": "stream",
     "text": [
      "C:\\Users\\tanzor\\AppData\\Local\\Temp/ipykernel_37132/1340491763.py:11: UserWarning: Warning: converting a masked element to nan.\n",
      "  correlation_per_frame = np.array([ma.corrcoef(ma.masked_invalid(frame.flatten()),\n",
      "C:\\Users\\tanzor\\AppData\\Local\\Temp/ipykernel_37132/1340491763.py:20: UserWarning: Warning: converting a masked element to nan.\n",
      "  correlation_per_frame = np.array([ma.corrcoef(ma.masked_invalid(frame.flatten()),\n"
     ]
    },
    {
     "name": "stdout",
     "output_type": "stream",
     "text": [
      "140\n"
     ]
    },
    {
     "name": "stderr",
     "output_type": "stream",
     "text": [
      "C:\\Users\\tanzor\\AppData\\Local\\Temp/ipykernel_37132/1340491763.py:20: UserWarning: Warning: converting a masked element to nan.\n",
      "  correlation_per_frame = np.array([ma.corrcoef(ma.masked_invalid(frame.flatten()),\n",
      "C:\\Users\\tanzor\\AppData\\Local\\Temp/ipykernel_37132/1340491763.py:11: UserWarning: Warning: converting a masked element to nan.\n",
      "  correlation_per_frame = np.array([ma.corrcoef(ma.masked_invalid(frame.flatten()),\n"
     ]
    },
    {
     "name": "stdout",
     "output_type": "stream",
     "text": [
      "141\n"
     ]
    },
    {
     "name": "stderr",
     "output_type": "stream",
     "text": [
      "C:\\Users\\tanzor\\AppData\\Local\\Temp/ipykernel_37132/1340491763.py:20: UserWarning: Warning: converting a masked element to nan.\n",
      "  correlation_per_frame = np.array([ma.corrcoef(ma.masked_invalid(frame.flatten()),\n",
      "C:\\Users\\tanzor\\AppData\\Local\\Temp/ipykernel_37132/1340491763.py:11: UserWarning: Warning: converting a masked element to nan.\n",
      "  correlation_per_frame = np.array([ma.corrcoef(ma.masked_invalid(frame.flatten()),\n"
     ]
    },
    {
     "name": "stdout",
     "output_type": "stream",
     "text": [
      "142\n"
     ]
    },
    {
     "name": "stderr",
     "output_type": "stream",
     "text": [
      "C:\\Users\\tanzor\\AppData\\Local\\Temp/ipykernel_37132/1340491763.py:20: UserWarning: Warning: converting a masked element to nan.\n",
      "  correlation_per_frame = np.array([ma.corrcoef(ma.masked_invalid(frame.flatten()),\n",
      "C:\\Users\\tanzor\\AppData\\Local\\Temp/ipykernel_37132/1340491763.py:11: UserWarning: Warning: converting a masked element to nan.\n",
      "  correlation_per_frame = np.array([ma.corrcoef(ma.masked_invalid(frame.flatten()),\n"
     ]
    },
    {
     "name": "stdout",
     "output_type": "stream",
     "text": [
      "143\n"
     ]
    },
    {
     "name": "stderr",
     "output_type": "stream",
     "text": [
      "C:\\Users\\tanzor\\AppData\\Local\\Temp/ipykernel_37132/1340491763.py:11: UserWarning: Warning: converting a masked element to nan.\n",
      "  correlation_per_frame = np.array([ma.corrcoef(ma.masked_invalid(frame.flatten()),\n",
      "C:\\Users\\tanzor\\AppData\\Local\\Temp/ipykernel_37132/1340491763.py:20: UserWarning: Warning: converting a masked element to nan.\n",
      "  correlation_per_frame = np.array([ma.corrcoef(ma.masked_invalid(frame.flatten()),\n"
     ]
    },
    {
     "name": "stdout",
     "output_type": "stream",
     "text": [
      "144\n"
     ]
    },
    {
     "name": "stderr",
     "output_type": "stream",
     "text": [
      "C:\\Users\\tanzor\\AppData\\Local\\Temp/ipykernel_37132/1340491763.py:11: UserWarning: Warning: converting a masked element to nan.\n",
      "  correlation_per_frame = np.array([ma.corrcoef(ma.masked_invalid(frame.flatten()),\n",
      "C:\\Users\\tanzor\\AppData\\Local\\Temp/ipykernel_37132/1340491763.py:20: UserWarning: Warning: converting a masked element to nan.\n",
      "  correlation_per_frame = np.array([ma.corrcoef(ma.masked_invalid(frame.flatten()),\n"
     ]
    },
    {
     "name": "stdout",
     "output_type": "stream",
     "text": [
      "145\n"
     ]
    },
    {
     "name": "stderr",
     "output_type": "stream",
     "text": [
      "C:\\Users\\tanzor\\AppData\\Local\\Temp/ipykernel_37132/1340491763.py:11: UserWarning: Warning: converting a masked element to nan.\n",
      "  correlation_per_frame = np.array([ma.corrcoef(ma.masked_invalid(frame.flatten()),\n",
      "C:\\Users\\tanzor\\AppData\\Local\\Temp/ipykernel_37132/1340491763.py:20: UserWarning: Warning: converting a masked element to nan.\n",
      "  correlation_per_frame = np.array([ma.corrcoef(ma.masked_invalid(frame.flatten()),\n"
     ]
    },
    {
     "name": "stdout",
     "output_type": "stream",
     "text": [
      "146\n"
     ]
    },
    {
     "name": "stderr",
     "output_type": "stream",
     "text": [
      "C:\\Users\\tanzor\\AppData\\Local\\Temp/ipykernel_37132/1340491763.py:20: UserWarning: Warning: converting a masked element to nan.\n",
      "  correlation_per_frame = np.array([ma.corrcoef(ma.masked_invalid(frame.flatten()),\n",
      "C:\\Users\\tanzor\\AppData\\Local\\Temp/ipykernel_37132/1340491763.py:11: UserWarning: Warning: converting a masked element to nan.\n",
      "  correlation_per_frame = np.array([ma.corrcoef(ma.masked_invalid(frame.flatten()),\n"
     ]
    },
    {
     "name": "stdout",
     "output_type": "stream",
     "text": [
      "147\n"
     ]
    },
    {
     "name": "stderr",
     "output_type": "stream",
     "text": [
      "C:\\Users\\tanzor\\AppData\\Local\\Temp/ipykernel_37132/1340491763.py:20: UserWarning: Warning: converting a masked element to nan.\n",
      "  correlation_per_frame = np.array([ma.corrcoef(ma.masked_invalid(frame.flatten()),\n",
      "C:\\Users\\tanzor\\AppData\\Local\\Temp/ipykernel_37132/1340491763.py:11: UserWarning: Warning: converting a masked element to nan.\n",
      "  correlation_per_frame = np.array([ma.corrcoef(ma.masked_invalid(frame.flatten()),\n"
     ]
    },
    {
     "name": "stdout",
     "output_type": "stream",
     "text": [
      "148\n"
     ]
    },
    {
     "name": "stderr",
     "output_type": "stream",
     "text": [
      "C:\\Users\\tanzor\\AppData\\Local\\Temp/ipykernel_37132/1340491763.py:11: UserWarning: Warning: converting a masked element to nan.\n",
      "  correlation_per_frame = np.array([ma.corrcoef(ma.masked_invalid(frame.flatten()),\n",
      "C:\\Users\\tanzor\\AppData\\Local\\Temp/ipykernel_37132/1340491763.py:20: UserWarning: Warning: converting a masked element to nan.\n",
      "  correlation_per_frame = np.array([ma.corrcoef(ma.masked_invalid(frame.flatten()),\n"
     ]
    },
    {
     "name": "stdout",
     "output_type": "stream",
     "text": [
      "149\n"
     ]
    },
    {
     "name": "stderr",
     "output_type": "stream",
     "text": [
      "C:\\Users\\tanzor\\AppData\\Local\\Temp/ipykernel_37132/1340491763.py:20: UserWarning: Warning: converting a masked element to nan.\n",
      "  correlation_per_frame = np.array([ma.corrcoef(ma.masked_invalid(frame.flatten()),\n",
      "C:\\Users\\tanzor\\AppData\\Local\\Temp/ipykernel_37132/1340491763.py:11: UserWarning: Warning: converting a masked element to nan.\n",
      "  correlation_per_frame = np.array([ma.corrcoef(ma.masked_invalid(frame.flatten()),\n"
     ]
    },
    {
     "name": "stdout",
     "output_type": "stream",
     "text": [
      "150\n"
     ]
    },
    {
     "name": "stderr",
     "output_type": "stream",
     "text": [
      "C:\\Users\\tanzor\\AppData\\Local\\Temp/ipykernel_37132/1340491763.py:20: UserWarning: Warning: converting a masked element to nan.\n",
      "  correlation_per_frame = np.array([ma.corrcoef(ma.masked_invalid(frame.flatten()),\n",
      "C:\\Users\\tanzor\\AppData\\Local\\Temp/ipykernel_37132/1340491763.py:11: UserWarning: Warning: converting a masked element to nan.\n",
      "  correlation_per_frame = np.array([ma.corrcoef(ma.masked_invalid(frame.flatten()),\n"
     ]
    },
    {
     "name": "stdout",
     "output_type": "stream",
     "text": [
      "151\n"
     ]
    },
    {
     "name": "stderr",
     "output_type": "stream",
     "text": [
      "C:\\Users\\tanzor\\AppData\\Local\\Temp/ipykernel_37132/1340491763.py:20: UserWarning: Warning: converting a masked element to nan.\n",
      "  correlation_per_frame = np.array([ma.corrcoef(ma.masked_invalid(frame.flatten()),\n",
      "C:\\Users\\tanzor\\AppData\\Local\\Temp/ipykernel_37132/1340491763.py:11: UserWarning: Warning: converting a masked element to nan.\n",
      "  correlation_per_frame = np.array([ma.corrcoef(ma.masked_invalid(frame.flatten()),\n"
     ]
    },
    {
     "name": "stdout",
     "output_type": "stream",
     "text": [
      "152\n"
     ]
    },
    {
     "name": "stderr",
     "output_type": "stream",
     "text": [
      "C:\\Users\\tanzor\\AppData\\Local\\Temp/ipykernel_37132/1340491763.py:20: UserWarning: Warning: converting a masked element to nan.\n",
      "  correlation_per_frame = np.array([ma.corrcoef(ma.masked_invalid(frame.flatten()),\n",
      "C:\\Users\\tanzor\\AppData\\Local\\Temp/ipykernel_37132/1340491763.py:11: UserWarning: Warning: converting a masked element to nan.\n",
      "  correlation_per_frame = np.array([ma.corrcoef(ma.masked_invalid(frame.flatten()),\n"
     ]
    },
    {
     "name": "stdout",
     "output_type": "stream",
     "text": [
      "153\n"
     ]
    },
    {
     "name": "stderr",
     "output_type": "stream",
     "text": [
      "C:\\Users\\tanzor\\AppData\\Local\\Temp/ipykernel_37132/1340491763.py:20: UserWarning: Warning: converting a masked element to nan.\n",
      "  correlation_per_frame = np.array([ma.corrcoef(ma.masked_invalid(frame.flatten()),\n",
      "C:\\Users\\tanzor\\AppData\\Local\\Temp/ipykernel_37132/1340491763.py:11: UserWarning: Warning: converting a masked element to nan.\n",
      "  correlation_per_frame = np.array([ma.corrcoef(ma.masked_invalid(frame.flatten()),\n"
     ]
    },
    {
     "name": "stdout",
     "output_type": "stream",
     "text": [
      "154\n"
     ]
    },
    {
     "name": "stderr",
     "output_type": "stream",
     "text": [
      "C:\\Users\\tanzor\\AppData\\Local\\Temp/ipykernel_37132/1340491763.py:11: UserWarning: Warning: converting a masked element to nan.\n",
      "  correlation_per_frame = np.array([ma.corrcoef(ma.masked_invalid(frame.flatten()),\n",
      "C:\\Users\\tanzor\\AppData\\Local\\Temp/ipykernel_37132/1340491763.py:20: UserWarning: Warning: converting a masked element to nan.\n",
      "  correlation_per_frame = np.array([ma.corrcoef(ma.masked_invalid(frame.flatten()),\n"
     ]
    },
    {
     "name": "stdout",
     "output_type": "stream",
     "text": [
      "155\n"
     ]
    },
    {
     "name": "stderr",
     "output_type": "stream",
     "text": [
      "C:\\Users\\tanzor\\AppData\\Local\\Temp/ipykernel_37132/1340491763.py:11: UserWarning: Warning: converting a masked element to nan.\n",
      "  correlation_per_frame = np.array([ma.corrcoef(ma.masked_invalid(frame.flatten()),\n",
      "C:\\Users\\tanzor\\AppData\\Local\\Temp/ipykernel_37132/1340491763.py:20: UserWarning: Warning: converting a masked element to nan.\n",
      "  correlation_per_frame = np.array([ma.corrcoef(ma.masked_invalid(frame.flatten()),\n"
     ]
    },
    {
     "name": "stdout",
     "output_type": "stream",
     "text": [
      "156\n"
     ]
    },
    {
     "name": "stderr",
     "output_type": "stream",
     "text": [
      "C:\\Users\\tanzor\\AppData\\Local\\Temp/ipykernel_37132/1340491763.py:20: UserWarning: Warning: converting a masked element to nan.\n",
      "  correlation_per_frame = np.array([ma.corrcoef(ma.masked_invalid(frame.flatten()),\n",
      "C:\\Users\\tanzor\\AppData\\Local\\Temp/ipykernel_37132/1340491763.py:11: UserWarning: Warning: converting a masked element to nan.\n",
      "  correlation_per_frame = np.array([ma.corrcoef(ma.masked_invalid(frame.flatten()),\n"
     ]
    },
    {
     "name": "stdout",
     "output_type": "stream",
     "text": [
      "157\n"
     ]
    },
    {
     "name": "stderr",
     "output_type": "stream",
     "text": [
      "C:\\Users\\tanzor\\AppData\\Local\\Temp/ipykernel_37132/1340491763.py:11: UserWarning: Warning: converting a masked element to nan.\n",
      "  correlation_per_frame = np.array([ma.corrcoef(ma.masked_invalid(frame.flatten()),\n",
      "C:\\Users\\tanzor\\AppData\\Local\\Temp/ipykernel_37132/1340491763.py:20: UserWarning: Warning: converting a masked element to nan.\n",
      "  correlation_per_frame = np.array([ma.corrcoef(ma.masked_invalid(frame.flatten()),\n"
     ]
    },
    {
     "name": "stdout",
     "output_type": "stream",
     "text": [
      "158\n"
     ]
    },
    {
     "name": "stderr",
     "output_type": "stream",
     "text": [
      "C:\\Users\\tanzor\\AppData\\Local\\Temp/ipykernel_37132/1340491763.py:20: UserWarning: Warning: converting a masked element to nan.\n",
      "  correlation_per_frame = np.array([ma.corrcoef(ma.masked_invalid(frame.flatten()),\n",
      "C:\\Users\\tanzor\\AppData\\Local\\Temp/ipykernel_37132/1340491763.py:11: UserWarning: Warning: converting a masked element to nan.\n",
      "  correlation_per_frame = np.array([ma.corrcoef(ma.masked_invalid(frame.flatten()),\n"
     ]
    },
    {
     "name": "stdout",
     "output_type": "stream",
     "text": [
      "159\n"
     ]
    },
    {
     "name": "stderr",
     "output_type": "stream",
     "text": [
      "C:\\Users\\tanzor\\AppData\\Local\\Temp/ipykernel_37132/1340491763.py:20: UserWarning: Warning: converting a masked element to nan.\n",
      "  correlation_per_frame = np.array([ma.corrcoef(ma.masked_invalid(frame.flatten()),\n",
      "C:\\Users\\tanzor\\AppData\\Local\\Temp/ipykernel_37132/1340491763.py:11: UserWarning: Warning: converting a masked element to nan.\n",
      "  correlation_per_frame = np.array([ma.corrcoef(ma.masked_invalid(frame.flatten()),\n"
     ]
    },
    {
     "name": "stdout",
     "output_type": "stream",
     "text": [
      "160\n"
     ]
    },
    {
     "name": "stderr",
     "output_type": "stream",
     "text": [
      "C:\\Users\\tanzor\\AppData\\Local\\Temp/ipykernel_37132/1340491763.py:20: UserWarning: Warning: converting a masked element to nan.\n",
      "  correlation_per_frame = np.array([ma.corrcoef(ma.masked_invalid(frame.flatten()),\n",
      "C:\\Users\\tanzor\\AppData\\Local\\Temp/ipykernel_37132/1340491763.py:11: UserWarning: Warning: converting a masked element to nan.\n",
      "  correlation_per_frame = np.array([ma.corrcoef(ma.masked_invalid(frame.flatten()),\n"
     ]
    },
    {
     "name": "stdout",
     "output_type": "stream",
     "text": [
      "161\n"
     ]
    },
    {
     "name": "stderr",
     "output_type": "stream",
     "text": [
      "C:\\Users\\tanzor\\AppData\\Local\\Temp/ipykernel_37132/1340491763.py:20: UserWarning: Warning: converting a masked element to nan.\n",
      "  correlation_per_frame = np.array([ma.corrcoef(ma.masked_invalid(frame.flatten()),\n",
      "C:\\Users\\tanzor\\AppData\\Local\\Temp/ipykernel_37132/1340491763.py:11: UserWarning: Warning: converting a masked element to nan.\n",
      "  correlation_per_frame = np.array([ma.corrcoef(ma.masked_invalid(frame.flatten()),\n"
     ]
    },
    {
     "name": "stdout",
     "output_type": "stream",
     "text": [
      "162\n"
     ]
    },
    {
     "name": "stderr",
     "output_type": "stream",
     "text": [
      "C:\\Users\\tanzor\\AppData\\Local\\Temp/ipykernel_37132/1340491763.py:20: UserWarning: Warning: converting a masked element to nan.\n",
      "  correlation_per_frame = np.array([ma.corrcoef(ma.masked_invalid(frame.flatten()),\n",
      "C:\\Users\\tanzor\\AppData\\Local\\Temp/ipykernel_37132/1340491763.py:11: UserWarning: Warning: converting a masked element to nan.\n",
      "  correlation_per_frame = np.array([ma.corrcoef(ma.masked_invalid(frame.flatten()),\n"
     ]
    },
    {
     "name": "stdout",
     "output_type": "stream",
     "text": [
      "163\n"
     ]
    },
    {
     "name": "stderr",
     "output_type": "stream",
     "text": [
      "C:\\Users\\tanzor\\AppData\\Local\\Temp/ipykernel_37132/1340491763.py:20: UserWarning: Warning: converting a masked element to nan.\n",
      "  correlation_per_frame = np.array([ma.corrcoef(ma.masked_invalid(frame.flatten()),\n",
      "C:\\Users\\tanzor\\AppData\\Local\\Temp/ipykernel_37132/1340491763.py:11: UserWarning: Warning: converting a masked element to nan.\n",
      "  correlation_per_frame = np.array([ma.corrcoef(ma.masked_invalid(frame.flatten()),\n"
     ]
    },
    {
     "name": "stdout",
     "output_type": "stream",
     "text": [
      "164\n"
     ]
    },
    {
     "name": "stderr",
     "output_type": "stream",
     "text": [
      "C:\\Users\\tanzor\\AppData\\Local\\Temp/ipykernel_37132/1340491763.py:11: UserWarning: Warning: converting a masked element to nan.\n",
      "  correlation_per_frame = np.array([ma.corrcoef(ma.masked_invalid(frame.flatten()),\n",
      "C:\\Users\\tanzor\\AppData\\Local\\Temp/ipykernel_37132/1340491763.py:20: UserWarning: Warning: converting a masked element to nan.\n",
      "  correlation_per_frame = np.array([ma.corrcoef(ma.masked_invalid(frame.flatten()),\n"
     ]
    },
    {
     "name": "stdout",
     "output_type": "stream",
     "text": [
      "165\n"
     ]
    },
    {
     "name": "stderr",
     "output_type": "stream",
     "text": [
      "C:\\Users\\tanzor\\AppData\\Local\\Temp/ipykernel_37132/1340491763.py:20: UserWarning: Warning: converting a masked element to nan.\n",
      "  correlation_per_frame = np.array([ma.corrcoef(ma.masked_invalid(frame.flatten()),\n",
      "C:\\Users\\tanzor\\AppData\\Local\\Temp/ipykernel_37132/1340491763.py:11: UserWarning: Warning: converting a masked element to nan.\n",
      "  correlation_per_frame = np.array([ma.corrcoef(ma.masked_invalid(frame.flatten()),\n"
     ]
    },
    {
     "name": "stdout",
     "output_type": "stream",
     "text": [
      "166\n"
     ]
    },
    {
     "name": "stderr",
     "output_type": "stream",
     "text": [
      "C:\\Users\\tanzor\\AppData\\Local\\Temp/ipykernel_37132/1340491763.py:11: UserWarning: Warning: converting a masked element to nan.\n",
      "  correlation_per_frame = np.array([ma.corrcoef(ma.masked_invalid(frame.flatten()),\n",
      "C:\\Users\\tanzor\\AppData\\Local\\Temp/ipykernel_37132/1340491763.py:20: UserWarning: Warning: converting a masked element to nan.\n",
      "  correlation_per_frame = np.array([ma.corrcoef(ma.masked_invalid(frame.flatten()),\n"
     ]
    },
    {
     "name": "stdout",
     "output_type": "stream",
     "text": [
      "167\n"
     ]
    },
    {
     "name": "stderr",
     "output_type": "stream",
     "text": [
      "C:\\Users\\tanzor\\AppData\\Local\\Temp/ipykernel_37132/1340491763.py:20: UserWarning: Warning: converting a masked element to nan.\n",
      "  correlation_per_frame = np.array([ma.corrcoef(ma.masked_invalid(frame.flatten()),\n",
      "C:\\Users\\tanzor\\AppData\\Local\\Temp/ipykernel_37132/1340491763.py:11: UserWarning: Warning: converting a masked element to nan.\n",
      "  correlation_per_frame = np.array([ma.corrcoef(ma.masked_invalid(frame.flatten()),\n"
     ]
    },
    {
     "name": "stdout",
     "output_type": "stream",
     "text": [
      "168\n"
     ]
    },
    {
     "name": "stderr",
     "output_type": "stream",
     "text": [
      "C:\\Users\\tanzor\\AppData\\Local\\Temp/ipykernel_37132/1340491763.py:20: UserWarning: Warning: converting a masked element to nan.\n",
      "  correlation_per_frame = np.array([ma.corrcoef(ma.masked_invalid(frame.flatten()),\n",
      "C:\\Users\\tanzor\\AppData\\Local\\Temp/ipykernel_37132/1340491763.py:11: UserWarning: Warning: converting a masked element to nan.\n",
      "  correlation_per_frame = np.array([ma.corrcoef(ma.masked_invalid(frame.flatten()),\n"
     ]
    },
    {
     "name": "stdout",
     "output_type": "stream",
     "text": [
      "169\n"
     ]
    },
    {
     "name": "stderr",
     "output_type": "stream",
     "text": [
      "C:\\Users\\tanzor\\AppData\\Local\\Temp/ipykernel_37132/1340491763.py:11: UserWarning: Warning: converting a masked element to nan.\n",
      "  correlation_per_frame = np.array([ma.corrcoef(ma.masked_invalid(frame.flatten()),\n",
      "C:\\Users\\tanzor\\AppData\\Local\\Temp/ipykernel_37132/1340491763.py:20: UserWarning: Warning: converting a masked element to nan.\n",
      "  correlation_per_frame = np.array([ma.corrcoef(ma.masked_invalid(frame.flatten()),\n"
     ]
    },
    {
     "name": "stdout",
     "output_type": "stream",
     "text": [
      "170\n"
     ]
    },
    {
     "name": "stderr",
     "output_type": "stream",
     "text": [
      "C:\\Users\\tanzor\\AppData\\Local\\Temp/ipykernel_37132/1340491763.py:11: UserWarning: Warning: converting a masked element to nan.\n",
      "  correlation_per_frame = np.array([ma.corrcoef(ma.masked_invalid(frame.flatten()),\n",
      "C:\\Users\\tanzor\\AppData\\Local\\Temp/ipykernel_37132/1340491763.py:20: UserWarning: Warning: converting a masked element to nan.\n",
      "  correlation_per_frame = np.array([ma.corrcoef(ma.masked_invalid(frame.flatten()),\n"
     ]
    },
    {
     "name": "stdout",
     "output_type": "stream",
     "text": [
      "171\n"
     ]
    },
    {
     "name": "stderr",
     "output_type": "stream",
     "text": [
      "C:\\Users\\tanzor\\AppData\\Local\\Temp/ipykernel_37132/1340491763.py:20: UserWarning: Warning: converting a masked element to nan.\n",
      "  correlation_per_frame = np.array([ma.corrcoef(ma.masked_invalid(frame.flatten()),\n",
      "C:\\Users\\tanzor\\AppData\\Local\\Temp/ipykernel_37132/1340491763.py:11: UserWarning: Warning: converting a masked element to nan.\n",
      "  correlation_per_frame = np.array([ma.corrcoef(ma.masked_invalid(frame.flatten()),\n"
     ]
    },
    {
     "name": "stdout",
     "output_type": "stream",
     "text": [
      "172\n"
     ]
    },
    {
     "name": "stderr",
     "output_type": "stream",
     "text": [
      "C:\\Users\\tanzor\\AppData\\Local\\Temp/ipykernel_37132/1340491763.py:20: UserWarning: Warning: converting a masked element to nan.\n",
      "  correlation_per_frame = np.array([ma.corrcoef(ma.masked_invalid(frame.flatten()),\n",
      "C:\\Users\\tanzor\\AppData\\Local\\Temp/ipykernel_37132/1340491763.py:11: UserWarning: Warning: converting a masked element to nan.\n",
      "  correlation_per_frame = np.array([ma.corrcoef(ma.masked_invalid(frame.flatten()),\n"
     ]
    },
    {
     "name": "stdout",
     "output_type": "stream",
     "text": [
      "173\n"
     ]
    },
    {
     "name": "stderr",
     "output_type": "stream",
     "text": [
      "C:\\Users\\tanzor\\AppData\\Local\\Temp/ipykernel_37132/1340491763.py:11: UserWarning: Warning: converting a masked element to nan.\n",
      "  correlation_per_frame = np.array([ma.corrcoef(ma.masked_invalid(frame.flatten()),\n",
      "C:\\Users\\tanzor\\AppData\\Local\\Temp/ipykernel_37132/1340491763.py:20: UserWarning: Warning: converting a masked element to nan.\n",
      "  correlation_per_frame = np.array([ma.corrcoef(ma.masked_invalid(frame.flatten()),\n"
     ]
    },
    {
     "name": "stdout",
     "output_type": "stream",
     "text": [
      "174\n"
     ]
    },
    {
     "name": "stderr",
     "output_type": "stream",
     "text": [
      "C:\\Users\\tanzor\\AppData\\Local\\Temp/ipykernel_37132/1340491763.py:20: UserWarning: Warning: converting a masked element to nan.\n",
      "  correlation_per_frame = np.array([ma.corrcoef(ma.masked_invalid(frame.flatten()),\n",
      "C:\\Users\\tanzor\\AppData\\Local\\Temp/ipykernel_37132/1340491763.py:11: UserWarning: Warning: converting a masked element to nan.\n",
      "  correlation_per_frame = np.array([ma.corrcoef(ma.masked_invalid(frame.flatten()),\n"
     ]
    },
    {
     "name": "stdout",
     "output_type": "stream",
     "text": [
      "175\n"
     ]
    },
    {
     "name": "stderr",
     "output_type": "stream",
     "text": [
      "C:\\Users\\tanzor\\AppData\\Local\\Temp/ipykernel_37132/1340491763.py:11: UserWarning: Warning: converting a masked element to nan.\n",
      "  correlation_per_frame = np.array([ma.corrcoef(ma.masked_invalid(frame.flatten()),\n",
      "C:\\Users\\tanzor\\AppData\\Local\\Temp/ipykernel_37132/1340491763.py:20: UserWarning: Warning: converting a masked element to nan.\n",
      "  correlation_per_frame = np.array([ma.corrcoef(ma.masked_invalid(frame.flatten()),\n"
     ]
    },
    {
     "name": "stdout",
     "output_type": "stream",
     "text": [
      "176\n"
     ]
    },
    {
     "name": "stderr",
     "output_type": "stream",
     "text": [
      "C:\\Users\\tanzor\\AppData\\Local\\Temp/ipykernel_37132/1340491763.py:11: UserWarning: Warning: converting a masked element to nan.\n",
      "  correlation_per_frame = np.array([ma.corrcoef(ma.masked_invalid(frame.flatten()),\n",
      "C:\\Users\\tanzor\\AppData\\Local\\Temp/ipykernel_37132/1340491763.py:20: UserWarning: Warning: converting a masked element to nan.\n",
      "  correlation_per_frame = np.array([ma.corrcoef(ma.masked_invalid(frame.flatten()),\n"
     ]
    },
    {
     "name": "stdout",
     "output_type": "stream",
     "text": [
      "177\n"
     ]
    },
    {
     "name": "stderr",
     "output_type": "stream",
     "text": [
      "C:\\Users\\tanzor\\AppData\\Local\\Temp/ipykernel_37132/1340491763.py:11: UserWarning: Warning: converting a masked element to nan.\n",
      "  correlation_per_frame = np.array([ma.corrcoef(ma.masked_invalid(frame.flatten()),\n",
      "C:\\Users\\tanzor\\AppData\\Local\\Temp/ipykernel_37132/1340491763.py:20: UserWarning: Warning: converting a masked element to nan.\n",
      "  correlation_per_frame = np.array([ma.corrcoef(ma.masked_invalid(frame.flatten()),\n"
     ]
    },
    {
     "name": "stdout",
     "output_type": "stream",
     "text": [
      "178\n"
     ]
    },
    {
     "name": "stderr",
     "output_type": "stream",
     "text": [
      "C:\\Users\\tanzor\\AppData\\Local\\Temp/ipykernel_37132/1340491763.py:20: UserWarning: Warning: converting a masked element to nan.\n",
      "  correlation_per_frame = np.array([ma.corrcoef(ma.masked_invalid(frame.flatten()),\n",
      "C:\\Users\\tanzor\\AppData\\Local\\Temp/ipykernel_37132/1340491763.py:11: UserWarning: Warning: converting a masked element to nan.\n",
      "  correlation_per_frame = np.array([ma.corrcoef(ma.masked_invalid(frame.flatten()),\n"
     ]
    },
    {
     "name": "stdout",
     "output_type": "stream",
     "text": [
      "179\n"
     ]
    },
    {
     "name": "stderr",
     "output_type": "stream",
     "text": [
      "C:\\Users\\tanzor\\AppData\\Local\\Temp/ipykernel_37132/1340491763.py:20: UserWarning: Warning: converting a masked element to nan.\n",
      "  correlation_per_frame = np.array([ma.corrcoef(ma.masked_invalid(frame.flatten()),\n",
      "C:\\Users\\tanzor\\AppData\\Local\\Temp/ipykernel_37132/1340491763.py:11: UserWarning: Warning: converting a masked element to nan.\n",
      "  correlation_per_frame = np.array([ma.corrcoef(ma.masked_invalid(frame.flatten()),\n"
     ]
    },
    {
     "name": "stdout",
     "output_type": "stream",
     "text": [
      "180\n"
     ]
    },
    {
     "name": "stderr",
     "output_type": "stream",
     "text": [
      "C:\\Users\\tanzor\\AppData\\Local\\Temp/ipykernel_37132/1340491763.py:11: UserWarning: Warning: converting a masked element to nan.\n",
      "  correlation_per_frame = np.array([ma.corrcoef(ma.masked_invalid(frame.flatten()),\n",
      "C:\\Users\\tanzor\\AppData\\Local\\Temp/ipykernel_37132/1340491763.py:20: UserWarning: Warning: converting a masked element to nan.\n",
      "  correlation_per_frame = np.array([ma.corrcoef(ma.masked_invalid(frame.flatten()),\n"
     ]
    },
    {
     "name": "stdout",
     "output_type": "stream",
     "text": [
      "181\n"
     ]
    },
    {
     "name": "stderr",
     "output_type": "stream",
     "text": [
      "C:\\Users\\tanzor\\AppData\\Local\\Temp/ipykernel_37132/1340491763.py:11: UserWarning: Warning: converting a masked element to nan.\n",
      "  correlation_per_frame = np.array([ma.corrcoef(ma.masked_invalid(frame.flatten()),\n",
      "C:\\Users\\tanzor\\AppData\\Local\\Temp/ipykernel_37132/1340491763.py:20: UserWarning: Warning: converting a masked element to nan.\n",
      "  correlation_per_frame = np.array([ma.corrcoef(ma.masked_invalid(frame.flatten()),\n"
     ]
    },
    {
     "name": "stdout",
     "output_type": "stream",
     "text": [
      "182\n"
     ]
    },
    {
     "name": "stderr",
     "output_type": "stream",
     "text": [
      "C:\\Users\\tanzor\\AppData\\Local\\Temp/ipykernel_37132/1340491763.py:20: UserWarning: Warning: converting a masked element to nan.\n",
      "  correlation_per_frame = np.array([ma.corrcoef(ma.masked_invalid(frame.flatten()),\n",
      "C:\\Users\\tanzor\\AppData\\Local\\Temp/ipykernel_37132/1340491763.py:11: UserWarning: Warning: converting a masked element to nan.\n",
      "  correlation_per_frame = np.array([ma.corrcoef(ma.masked_invalid(frame.flatten()),\n"
     ]
    },
    {
     "name": "stdout",
     "output_type": "stream",
     "text": [
      "183\n"
     ]
    },
    {
     "name": "stderr",
     "output_type": "stream",
     "text": [
      "C:\\Users\\tanzor\\AppData\\Local\\Temp/ipykernel_37132/1340491763.py:11: UserWarning: Warning: converting a masked element to nan.\n",
      "  correlation_per_frame = np.array([ma.corrcoef(ma.masked_invalid(frame.flatten()),\n",
      "C:\\Users\\tanzor\\AppData\\Local\\Temp/ipykernel_37132/1340491763.py:20: UserWarning: Warning: converting a masked element to nan.\n",
      "  correlation_per_frame = np.array([ma.corrcoef(ma.masked_invalid(frame.flatten()),\n"
     ]
    },
    {
     "name": "stdout",
     "output_type": "stream",
     "text": [
      "184\n"
     ]
    },
    {
     "name": "stderr",
     "output_type": "stream",
     "text": [
      "C:\\Users\\tanzor\\AppData\\Local\\Temp/ipykernel_37132/1340491763.py:20: UserWarning: Warning: converting a masked element to nan.\n",
      "  correlation_per_frame = np.array([ma.corrcoef(ma.masked_invalid(frame.flatten()),\n",
      "C:\\Users\\tanzor\\AppData\\Local\\Temp/ipykernel_37132/1340491763.py:11: UserWarning: Warning: converting a masked element to nan.\n",
      "  correlation_per_frame = np.array([ma.corrcoef(ma.masked_invalid(frame.flatten()),\n"
     ]
    },
    {
     "name": "stdout",
     "output_type": "stream",
     "text": [
      "185\n"
     ]
    },
    {
     "name": "stderr",
     "output_type": "stream",
     "text": [
      "C:\\Users\\tanzor\\AppData\\Local\\Temp/ipykernel_37132/1340491763.py:11: UserWarning: Warning: converting a masked element to nan.\n",
      "  correlation_per_frame = np.array([ma.corrcoef(ma.masked_invalid(frame.flatten()),\n",
      "C:\\Users\\tanzor\\AppData\\Local\\Temp/ipykernel_37132/1340491763.py:20: UserWarning: Warning: converting a masked element to nan.\n",
      "  correlation_per_frame = np.array([ma.corrcoef(ma.masked_invalid(frame.flatten()),\n"
     ]
    },
    {
     "name": "stdout",
     "output_type": "stream",
     "text": [
      "186\n"
     ]
    },
    {
     "name": "stderr",
     "output_type": "stream",
     "text": [
      "C:\\Users\\tanzor\\AppData\\Local\\Temp/ipykernel_37132/1340491763.py:20: UserWarning: Warning: converting a masked element to nan.\n",
      "  correlation_per_frame = np.array([ma.corrcoef(ma.masked_invalid(frame.flatten()),\n",
      "C:\\Users\\tanzor\\AppData\\Local\\Temp/ipykernel_37132/1340491763.py:11: UserWarning: Warning: converting a masked element to nan.\n",
      "  correlation_per_frame = np.array([ma.corrcoef(ma.masked_invalid(frame.flatten()),\n"
     ]
    },
    {
     "name": "stdout",
     "output_type": "stream",
     "text": [
      "187\n"
     ]
    },
    {
     "name": "stderr",
     "output_type": "stream",
     "text": [
      "C:\\Users\\tanzor\\AppData\\Local\\Temp/ipykernel_37132/1340491763.py:11: UserWarning: Warning: converting a masked element to nan.\n",
      "  correlation_per_frame = np.array([ma.corrcoef(ma.masked_invalid(frame.flatten()),\n",
      "C:\\Users\\tanzor\\AppData\\Local\\Temp/ipykernel_37132/1340491763.py:20: UserWarning: Warning: converting a masked element to nan.\n",
      "  correlation_per_frame = np.array([ma.corrcoef(ma.masked_invalid(frame.flatten()),\n"
     ]
    },
    {
     "name": "stdout",
     "output_type": "stream",
     "text": [
      "188\n"
     ]
    },
    {
     "name": "stderr",
     "output_type": "stream",
     "text": [
      "C:\\Users\\tanzor\\AppData\\Local\\Temp/ipykernel_37132/1340491763.py:11: UserWarning: Warning: converting a masked element to nan.\n",
      "  correlation_per_frame = np.array([ma.corrcoef(ma.masked_invalid(frame.flatten()),\n",
      "C:\\Users\\tanzor\\AppData\\Local\\Temp/ipykernel_37132/1340491763.py:20: UserWarning: Warning: converting a masked element to nan.\n",
      "  correlation_per_frame = np.array([ma.corrcoef(ma.masked_invalid(frame.flatten()),\n"
     ]
    },
    {
     "name": "stdout",
     "output_type": "stream",
     "text": [
      "189\n"
     ]
    },
    {
     "name": "stderr",
     "output_type": "stream",
     "text": [
      "C:\\Users\\tanzor\\AppData\\Local\\Temp/ipykernel_37132/1340491763.py:11: UserWarning: Warning: converting a masked element to nan.\n",
      "  correlation_per_frame = np.array([ma.corrcoef(ma.masked_invalid(frame.flatten()),\n",
      "C:\\Users\\tanzor\\AppData\\Local\\Temp/ipykernel_37132/1340491763.py:20: UserWarning: Warning: converting a masked element to nan.\n",
      "  correlation_per_frame = np.array([ma.corrcoef(ma.masked_invalid(frame.flatten()),\n"
     ]
    },
    {
     "name": "stdout",
     "output_type": "stream",
     "text": [
      "190\n"
     ]
    },
    {
     "name": "stderr",
     "output_type": "stream",
     "text": [
      "C:\\Users\\tanzor\\AppData\\Local\\Temp/ipykernel_37132/1340491763.py:11: UserWarning: Warning: converting a masked element to nan.\n",
      "  correlation_per_frame = np.array([ma.corrcoef(ma.masked_invalid(frame.flatten()),\n",
      "C:\\Users\\tanzor\\AppData\\Local\\Temp/ipykernel_37132/1340491763.py:20: UserWarning: Warning: converting a masked element to nan.\n",
      "  correlation_per_frame = np.array([ma.corrcoef(ma.masked_invalid(frame.flatten()),\n"
     ]
    },
    {
     "name": "stdout",
     "output_type": "stream",
     "text": [
      "191\n"
     ]
    },
    {
     "name": "stderr",
     "output_type": "stream",
     "text": [
      "C:\\Users\\tanzor\\AppData\\Local\\Temp/ipykernel_37132/1340491763.py:11: UserWarning: Warning: converting a masked element to nan.\n",
      "  correlation_per_frame = np.array([ma.corrcoef(ma.masked_invalid(frame.flatten()),\n",
      "C:\\Users\\tanzor\\AppData\\Local\\Temp/ipykernel_37132/1340491763.py:20: UserWarning: Warning: converting a masked element to nan.\n",
      "  correlation_per_frame = np.array([ma.corrcoef(ma.masked_invalid(frame.flatten()),\n"
     ]
    },
    {
     "name": "stdout",
     "output_type": "stream",
     "text": [
      "192\n"
     ]
    },
    {
     "name": "stderr",
     "output_type": "stream",
     "text": [
      "C:\\Users\\tanzor\\AppData\\Local\\Temp/ipykernel_37132/1340491763.py:20: UserWarning: Warning: converting a masked element to nan.\n",
      "  correlation_per_frame = np.array([ma.corrcoef(ma.masked_invalid(frame.flatten()),\n",
      "C:\\Users\\tanzor\\AppData\\Local\\Temp/ipykernel_37132/1340491763.py:11: UserWarning: Warning: converting a masked element to nan.\n",
      "  correlation_per_frame = np.array([ma.corrcoef(ma.masked_invalid(frame.flatten()),\n"
     ]
    },
    {
     "name": "stdout",
     "output_type": "stream",
     "text": [
      "193\n"
     ]
    },
    {
     "name": "stderr",
     "output_type": "stream",
     "text": [
      "C:\\Users\\tanzor\\AppData\\Local\\Temp/ipykernel_37132/1340491763.py:11: UserWarning: Warning: converting a masked element to nan.\n",
      "  correlation_per_frame = np.array([ma.corrcoef(ma.masked_invalid(frame.flatten()),\n",
      "C:\\Users\\tanzor\\AppData\\Local\\Temp/ipykernel_37132/1340491763.py:20: UserWarning: Warning: converting a masked element to nan.\n",
      "  correlation_per_frame = np.array([ma.corrcoef(ma.masked_invalid(frame.flatten()),\n"
     ]
    },
    {
     "name": "stdout",
     "output_type": "stream",
     "text": [
      "194\n"
     ]
    },
    {
     "name": "stderr",
     "output_type": "stream",
     "text": [
      "C:\\Users\\tanzor\\AppData\\Local\\Temp/ipykernel_37132/1340491763.py:11: UserWarning: Warning: converting a masked element to nan.\n",
      "  correlation_per_frame = np.array([ma.corrcoef(ma.masked_invalid(frame.flatten()),\n",
      "C:\\Users\\tanzor\\AppData\\Local\\Temp/ipykernel_37132/1340491763.py:20: UserWarning: Warning: converting a masked element to nan.\n",
      "  correlation_per_frame = np.array([ma.corrcoef(ma.masked_invalid(frame.flatten()),\n"
     ]
    },
    {
     "name": "stdout",
     "output_type": "stream",
     "text": [
      "195\n"
     ]
    },
    {
     "name": "stderr",
     "output_type": "stream",
     "text": [
      "C:\\Users\\tanzor\\AppData\\Local\\Temp/ipykernel_37132/1340491763.py:20: UserWarning: Warning: converting a masked element to nan.\n",
      "  correlation_per_frame = np.array([ma.corrcoef(ma.masked_invalid(frame.flatten()),\n",
      "C:\\Users\\tanzor\\AppData\\Local\\Temp/ipykernel_37132/1340491763.py:11: UserWarning: Warning: converting a masked element to nan.\n",
      "  correlation_per_frame = np.array([ma.corrcoef(ma.masked_invalid(frame.flatten()),\n"
     ]
    },
    {
     "name": "stdout",
     "output_type": "stream",
     "text": [
      "196\n"
     ]
    },
    {
     "name": "stderr",
     "output_type": "stream",
     "text": [
      "C:\\Users\\tanzor\\AppData\\Local\\Temp/ipykernel_37132/1340491763.py:20: UserWarning: Warning: converting a masked element to nan.\n",
      "  correlation_per_frame = np.array([ma.corrcoef(ma.masked_invalid(frame.flatten()),\n",
      "C:\\Users\\tanzor\\AppData\\Local\\Temp/ipykernel_37132/1340491763.py:11: UserWarning: Warning: converting a masked element to nan.\n",
      "  correlation_per_frame = np.array([ma.corrcoef(ma.masked_invalid(frame.flatten()),\n"
     ]
    },
    {
     "name": "stdout",
     "output_type": "stream",
     "text": [
      "197\n"
     ]
    },
    {
     "name": "stderr",
     "output_type": "stream",
     "text": [
      "C:\\Users\\tanzor\\AppData\\Local\\Temp/ipykernel_37132/1340491763.py:11: UserWarning: Warning: converting a masked element to nan.\n",
      "  correlation_per_frame = np.array([ma.corrcoef(ma.masked_invalid(frame.flatten()),\n",
      "C:\\Users\\tanzor\\AppData\\Local\\Temp/ipykernel_37132/1340491763.py:20: UserWarning: Warning: converting a masked element to nan.\n",
      "  correlation_per_frame = np.array([ma.corrcoef(ma.masked_invalid(frame.flatten()),\n"
     ]
    },
    {
     "name": "stdout",
     "output_type": "stream",
     "text": [
      "198\n"
     ]
    },
    {
     "name": "stderr",
     "output_type": "stream",
     "text": [
      "C:\\Users\\tanzor\\AppData\\Local\\Temp/ipykernel_37132/1340491763.py:11: UserWarning: Warning: converting a masked element to nan.\n",
      "  correlation_per_frame = np.array([ma.corrcoef(ma.masked_invalid(frame.flatten()),\n",
      "C:\\Users\\tanzor\\AppData\\Local\\Temp/ipykernel_37132/1340491763.py:20: UserWarning: Warning: converting a masked element to nan.\n",
      "  correlation_per_frame = np.array([ma.corrcoef(ma.masked_invalid(frame.flatten()),\n"
     ]
    },
    {
     "name": "stdout",
     "output_type": "stream",
     "text": [
      "199\n"
     ]
    },
    {
     "name": "stderr",
     "output_type": "stream",
     "text": [
      "C:\\Users\\tanzor\\AppData\\Local\\Temp/ipykernel_37132/1340491763.py:20: UserWarning: Warning: converting a masked element to nan.\n",
      "  correlation_per_frame = np.array([ma.corrcoef(ma.masked_invalid(frame.flatten()),\n",
      "C:\\Users\\tanzor\\AppData\\Local\\Temp/ipykernel_37132/1340491763.py:11: UserWarning: Warning: converting a masked element to nan.\n",
      "  correlation_per_frame = np.array([ma.corrcoef(ma.masked_invalid(frame.flatten()),\n"
     ]
    },
    {
     "name": "stdout",
     "output_type": "stream",
     "text": [
      "200\n"
     ]
    },
    {
     "name": "stderr",
     "output_type": "stream",
     "text": [
      "C:\\Users\\tanzor\\AppData\\Local\\Temp/ipykernel_37132/1340491763.py:11: UserWarning: Warning: converting a masked element to nan.\n",
      "  correlation_per_frame = np.array([ma.corrcoef(ma.masked_invalid(frame.flatten()),\n",
      "C:\\Users\\tanzor\\AppData\\Local\\Temp/ipykernel_37132/1340491763.py:20: UserWarning: Warning: converting a masked element to nan.\n",
      "  correlation_per_frame = np.array([ma.corrcoef(ma.masked_invalid(frame.flatten()),\n"
     ]
    },
    {
     "name": "stdout",
     "output_type": "stream",
     "text": [
      "201\n"
     ]
    },
    {
     "name": "stderr",
     "output_type": "stream",
     "text": [
      "C:\\Users\\tanzor\\AppData\\Local\\Temp/ipykernel_37132/1340491763.py:20: UserWarning: Warning: converting a masked element to nan.\n",
      "  correlation_per_frame = np.array([ma.corrcoef(ma.masked_invalid(frame.flatten()),\n",
      "C:\\Users\\tanzor\\AppData\\Local\\Temp/ipykernel_37132/1340491763.py:11: UserWarning: Warning: converting a masked element to nan.\n",
      "  correlation_per_frame = np.array([ma.corrcoef(ma.masked_invalid(frame.flatten()),\n"
     ]
    },
    {
     "name": "stdout",
     "output_type": "stream",
     "text": [
      "202\n"
     ]
    },
    {
     "name": "stderr",
     "output_type": "stream",
     "text": [
      "C:\\Users\\tanzor\\AppData\\Local\\Temp/ipykernel_37132/1340491763.py:11: UserWarning: Warning: converting a masked element to nan.\n",
      "  correlation_per_frame = np.array([ma.corrcoef(ma.masked_invalid(frame.flatten()),\n",
      "C:\\Users\\tanzor\\AppData\\Local\\Temp/ipykernel_37132/1340491763.py:20: UserWarning: Warning: converting a masked element to nan.\n",
      "  correlation_per_frame = np.array([ma.corrcoef(ma.masked_invalid(frame.flatten()),\n"
     ]
    },
    {
     "name": "stdout",
     "output_type": "stream",
     "text": [
      "203\n"
     ]
    },
    {
     "name": "stderr",
     "output_type": "stream",
     "text": [
      "C:\\Users\\tanzor\\AppData\\Local\\Temp/ipykernel_37132/1340491763.py:20: UserWarning: Warning: converting a masked element to nan.\n",
      "  correlation_per_frame = np.array([ma.corrcoef(ma.masked_invalid(frame.flatten()),\n",
      "C:\\Users\\tanzor\\AppData\\Local\\Temp/ipykernel_37132/1340491763.py:11: UserWarning: Warning: converting a masked element to nan.\n",
      "  correlation_per_frame = np.array([ma.corrcoef(ma.masked_invalid(frame.flatten()),\n"
     ]
    },
    {
     "name": "stdout",
     "output_type": "stream",
     "text": [
      "204\n"
     ]
    },
    {
     "name": "stderr",
     "output_type": "stream",
     "text": [
      "C:\\Users\\tanzor\\AppData\\Local\\Temp/ipykernel_37132/1340491763.py:11: UserWarning: Warning: converting a masked element to nan.\n",
      "  correlation_per_frame = np.array([ma.corrcoef(ma.masked_invalid(frame.flatten()),\n",
      "C:\\Users\\tanzor\\AppData\\Local\\Temp/ipykernel_37132/1340491763.py:20: UserWarning: Warning: converting a masked element to nan.\n",
      "  correlation_per_frame = np.array([ma.corrcoef(ma.masked_invalid(frame.flatten()),\n"
     ]
    },
    {
     "name": "stdout",
     "output_type": "stream",
     "text": [
      "205\n"
     ]
    },
    {
     "name": "stderr",
     "output_type": "stream",
     "text": [
      "C:\\Users\\tanzor\\AppData\\Local\\Temp/ipykernel_37132/1340491763.py:11: UserWarning: Warning: converting a masked element to nan.\n",
      "  correlation_per_frame = np.array([ma.corrcoef(ma.masked_invalid(frame.flatten()),\n",
      "C:\\Users\\tanzor\\AppData\\Local\\Temp/ipykernel_37132/1340491763.py:20: UserWarning: Warning: converting a masked element to nan.\n",
      "  correlation_per_frame = np.array([ma.corrcoef(ma.masked_invalid(frame.flatten()),\n"
     ]
    },
    {
     "name": "stdout",
     "output_type": "stream",
     "text": [
      "206\n"
     ]
    },
    {
     "name": "stderr",
     "output_type": "stream",
     "text": [
      "C:\\Users\\tanzor\\AppData\\Local\\Temp/ipykernel_37132/1340491763.py:11: UserWarning: Warning: converting a masked element to nan.\n",
      "  correlation_per_frame = np.array([ma.corrcoef(ma.masked_invalid(frame.flatten()),\n",
      "C:\\Users\\tanzor\\AppData\\Local\\Temp/ipykernel_37132/1340491763.py:20: UserWarning: Warning: converting a masked element to nan.\n",
      "  correlation_per_frame = np.array([ma.corrcoef(ma.masked_invalid(frame.flatten()),\n"
     ]
    },
    {
     "name": "stdout",
     "output_type": "stream",
     "text": [
      "207\n"
     ]
    },
    {
     "name": "stderr",
     "output_type": "stream",
     "text": [
      "C:\\Users\\tanzor\\AppData\\Local\\Temp/ipykernel_37132/1340491763.py:20: UserWarning: Warning: converting a masked element to nan.\n",
      "  correlation_per_frame = np.array([ma.corrcoef(ma.masked_invalid(frame.flatten()),\n",
      "C:\\Users\\tanzor\\AppData\\Local\\Temp/ipykernel_37132/1340491763.py:11: UserWarning: Warning: converting a masked element to nan.\n",
      "  correlation_per_frame = np.array([ma.corrcoef(ma.masked_invalid(frame.flatten()),\n"
     ]
    },
    {
     "name": "stdout",
     "output_type": "stream",
     "text": [
      "208\n"
     ]
    },
    {
     "name": "stderr",
     "output_type": "stream",
     "text": [
      "C:\\Users\\tanzor\\AppData\\Local\\Temp/ipykernel_37132/1340491763.py:11: UserWarning: Warning: converting a masked element to nan.\n",
      "  correlation_per_frame = np.array([ma.corrcoef(ma.masked_invalid(frame.flatten()),\n",
      "C:\\Users\\tanzor\\AppData\\Local\\Temp/ipykernel_37132/1340491763.py:20: UserWarning: Warning: converting a masked element to nan.\n",
      "  correlation_per_frame = np.array([ma.corrcoef(ma.masked_invalid(frame.flatten()),\n"
     ]
    },
    {
     "name": "stdout",
     "output_type": "stream",
     "text": [
      "209\n"
     ]
    },
    {
     "name": "stderr",
     "output_type": "stream",
     "text": [
      "C:\\Users\\tanzor\\AppData\\Local\\Temp/ipykernel_37132/1340491763.py:11: UserWarning: Warning: converting a masked element to nan.\n",
      "  correlation_per_frame = np.array([ma.corrcoef(ma.masked_invalid(frame.flatten()),\n",
      "C:\\Users\\tanzor\\AppData\\Local\\Temp/ipykernel_37132/1340491763.py:20: UserWarning: Warning: converting a masked element to nan.\n",
      "  correlation_per_frame = np.array([ma.corrcoef(ma.masked_invalid(frame.flatten()),\n"
     ]
    },
    {
     "name": "stdout",
     "output_type": "stream",
     "text": [
      "210\n"
     ]
    },
    {
     "name": "stderr",
     "output_type": "stream",
     "text": [
      "C:\\Users\\tanzor\\AppData\\Local\\Temp/ipykernel_37132/1340491763.py:11: UserWarning: Warning: converting a masked element to nan.\n",
      "  correlation_per_frame = np.array([ma.corrcoef(ma.masked_invalid(frame.flatten()),\n",
      "C:\\Users\\tanzor\\AppData\\Local\\Temp/ipykernel_37132/1340491763.py:20: UserWarning: Warning: converting a masked element to nan.\n",
      "  correlation_per_frame = np.array([ma.corrcoef(ma.masked_invalid(frame.flatten()),\n"
     ]
    },
    {
     "name": "stdout",
     "output_type": "stream",
     "text": [
      "211\n"
     ]
    },
    {
     "name": "stderr",
     "output_type": "stream",
     "text": [
      "C:\\Users\\tanzor\\AppData\\Local\\Temp/ipykernel_37132/1340491763.py:20: UserWarning: Warning: converting a masked element to nan.\n",
      "  correlation_per_frame = np.array([ma.corrcoef(ma.masked_invalid(frame.flatten()),\n",
      "C:\\Users\\tanzor\\AppData\\Local\\Temp/ipykernel_37132/1340491763.py:11: UserWarning: Warning: converting a masked element to nan.\n",
      "  correlation_per_frame = np.array([ma.corrcoef(ma.masked_invalid(frame.flatten()),\n"
     ]
    },
    {
     "name": "stdout",
     "output_type": "stream",
     "text": [
      "212\n"
     ]
    },
    {
     "name": "stderr",
     "output_type": "stream",
     "text": [
      "C:\\Users\\tanzor\\AppData\\Local\\Temp/ipykernel_37132/1340491763.py:20: UserWarning: Warning: converting a masked element to nan.\n",
      "  correlation_per_frame = np.array([ma.corrcoef(ma.masked_invalid(frame.flatten()),\n",
      "C:\\Users\\tanzor\\AppData\\Local\\Temp/ipykernel_37132/1340491763.py:11: UserWarning: Warning: converting a masked element to nan.\n",
      "  correlation_per_frame = np.array([ma.corrcoef(ma.masked_invalid(frame.flatten()),\n"
     ]
    },
    {
     "name": "stdout",
     "output_type": "stream",
     "text": [
      "213\n"
     ]
    },
    {
     "name": "stderr",
     "output_type": "stream",
     "text": [
      "C:\\Users\\tanzor\\AppData\\Local\\Temp/ipykernel_37132/1340491763.py:11: UserWarning: Warning: converting a masked element to nan.\n",
      "  correlation_per_frame = np.array([ma.corrcoef(ma.masked_invalid(frame.flatten()),\n",
      "C:\\Users\\tanzor\\AppData\\Local\\Temp/ipykernel_37132/1340491763.py:20: UserWarning: Warning: converting a masked element to nan.\n",
      "  correlation_per_frame = np.array([ma.corrcoef(ma.masked_invalid(frame.flatten()),\n"
     ]
    },
    {
     "name": "stdout",
     "output_type": "stream",
     "text": [
      "214\n"
     ]
    },
    {
     "name": "stderr",
     "output_type": "stream",
     "text": [
      "C:\\Users\\tanzor\\AppData\\Local\\Temp/ipykernel_37132/1340491763.py:20: UserWarning: Warning: converting a masked element to nan.\n",
      "  correlation_per_frame = np.array([ma.corrcoef(ma.masked_invalid(frame.flatten()),\n",
      "C:\\Users\\tanzor\\AppData\\Local\\Temp/ipykernel_37132/1340491763.py:11: UserWarning: Warning: converting a masked element to nan.\n",
      "  correlation_per_frame = np.array([ma.corrcoef(ma.masked_invalid(frame.flatten()),\n"
     ]
    },
    {
     "name": "stdout",
     "output_type": "stream",
     "text": [
      "215\n"
     ]
    },
    {
     "name": "stderr",
     "output_type": "stream",
     "text": [
      "C:\\Users\\tanzor\\AppData\\Local\\Temp/ipykernel_37132/1340491763.py:20: UserWarning: Warning: converting a masked element to nan.\n",
      "  correlation_per_frame = np.array([ma.corrcoef(ma.masked_invalid(frame.flatten()),\n",
      "C:\\Users\\tanzor\\AppData\\Local\\Temp/ipykernel_37132/1340491763.py:11: UserWarning: Warning: converting a masked element to nan.\n",
      "  correlation_per_frame = np.array([ma.corrcoef(ma.masked_invalid(frame.flatten()),\n"
     ]
    },
    {
     "name": "stdout",
     "output_type": "stream",
     "text": [
      "216\n"
     ]
    },
    {
     "name": "stderr",
     "output_type": "stream",
     "text": [
      "C:\\Users\\tanzor\\AppData\\Local\\Temp/ipykernel_37132/1340491763.py:11: UserWarning: Warning: converting a masked element to nan.\n",
      "  correlation_per_frame = np.array([ma.corrcoef(ma.masked_invalid(frame.flatten()),\n",
      "C:\\Users\\tanzor\\AppData\\Local\\Temp/ipykernel_37132/1340491763.py:20: UserWarning: Warning: converting a masked element to nan.\n",
      "  correlation_per_frame = np.array([ma.corrcoef(ma.masked_invalid(frame.flatten()),\n"
     ]
    },
    {
     "name": "stdout",
     "output_type": "stream",
     "text": [
      "217\n"
     ]
    },
    {
     "name": "stderr",
     "output_type": "stream",
     "text": [
      "C:\\Users\\tanzor\\AppData\\Local\\Temp/ipykernel_37132/1340491763.py:11: UserWarning: Warning: converting a masked element to nan.\n",
      "  correlation_per_frame = np.array([ma.corrcoef(ma.masked_invalid(frame.flatten()),\n",
      "C:\\Users\\tanzor\\AppData\\Local\\Temp/ipykernel_37132/1340491763.py:20: UserWarning: Warning: converting a masked element to nan.\n",
      "  correlation_per_frame = np.array([ma.corrcoef(ma.masked_invalid(frame.flatten()),\n"
     ]
    },
    {
     "name": "stdout",
     "output_type": "stream",
     "text": [
      "218\n"
     ]
    },
    {
     "name": "stderr",
     "output_type": "stream",
     "text": [
      "C:\\Users\\tanzor\\AppData\\Local\\Temp/ipykernel_37132/1340491763.py:20: UserWarning: Warning: converting a masked element to nan.\n",
      "  correlation_per_frame = np.array([ma.corrcoef(ma.masked_invalid(frame.flatten()),\n",
      "C:\\Users\\tanzor\\AppData\\Local\\Temp/ipykernel_37132/1340491763.py:11: UserWarning: Warning: converting a masked element to nan.\n",
      "  correlation_per_frame = np.array([ma.corrcoef(ma.masked_invalid(frame.flatten()),\n"
     ]
    },
    {
     "name": "stdout",
     "output_type": "stream",
     "text": [
      "219\n"
     ]
    },
    {
     "name": "stderr",
     "output_type": "stream",
     "text": [
      "C:\\Users\\tanzor\\AppData\\Local\\Temp/ipykernel_37132/1340491763.py:11: UserWarning: Warning: converting a masked element to nan.\n",
      "  correlation_per_frame = np.array([ma.corrcoef(ma.masked_invalid(frame.flatten()),\n",
      "C:\\Users\\tanzor\\AppData\\Local\\Temp/ipykernel_37132/1340491763.py:20: UserWarning: Warning: converting a masked element to nan.\n",
      "  correlation_per_frame = np.array([ma.corrcoef(ma.masked_invalid(frame.flatten()),\n"
     ]
    },
    {
     "name": "stdout",
     "output_type": "stream",
     "text": [
      "220\n"
     ]
    },
    {
     "name": "stderr",
     "output_type": "stream",
     "text": [
      "C:\\Users\\tanzor\\AppData\\Local\\Temp/ipykernel_37132/1340491763.py:20: UserWarning: Warning: converting a masked element to nan.\n",
      "  correlation_per_frame = np.array([ma.corrcoef(ma.masked_invalid(frame.flatten()),\n",
      "C:\\Users\\tanzor\\AppData\\Local\\Temp/ipykernel_37132/1340491763.py:11: UserWarning: Warning: converting a masked element to nan.\n",
      "  correlation_per_frame = np.array([ma.corrcoef(ma.masked_invalid(frame.flatten()),\n"
     ]
    },
    {
     "name": "stdout",
     "output_type": "stream",
     "text": [
      "221\n"
     ]
    },
    {
     "name": "stderr",
     "output_type": "stream",
     "text": [
      "C:\\Users\\tanzor\\AppData\\Local\\Temp/ipykernel_37132/1340491763.py:20: UserWarning: Warning: converting a masked element to nan.\n",
      "  correlation_per_frame = np.array([ma.corrcoef(ma.masked_invalid(frame.flatten()),\n",
      "C:\\Users\\tanzor\\AppData\\Local\\Temp/ipykernel_37132/1340491763.py:11: UserWarning: Warning: converting a masked element to nan.\n",
      "  correlation_per_frame = np.array([ma.corrcoef(ma.masked_invalid(frame.flatten()),\n"
     ]
    },
    {
     "name": "stdout",
     "output_type": "stream",
     "text": [
      "222\n"
     ]
    },
    {
     "name": "stderr",
     "output_type": "stream",
     "text": [
      "C:\\Users\\tanzor\\AppData\\Local\\Temp/ipykernel_37132/1340491763.py:20: UserWarning: Warning: converting a masked element to nan.\n",
      "  correlation_per_frame = np.array([ma.corrcoef(ma.masked_invalid(frame.flatten()),\n",
      "C:\\Users\\tanzor\\AppData\\Local\\Temp/ipykernel_37132/1340491763.py:11: UserWarning: Warning: converting a masked element to nan.\n",
      "  correlation_per_frame = np.array([ma.corrcoef(ma.masked_invalid(frame.flatten()),\n"
     ]
    },
    {
     "name": "stdout",
     "output_type": "stream",
     "text": [
      "223\n"
     ]
    },
    {
     "name": "stderr",
     "output_type": "stream",
     "text": [
      "C:\\Users\\tanzor\\AppData\\Local\\Temp/ipykernel_37132/1340491763.py:11: UserWarning: Warning: converting a masked element to nan.\n",
      "  correlation_per_frame = np.array([ma.corrcoef(ma.masked_invalid(frame.flatten()),\n",
      "C:\\Users\\tanzor\\AppData\\Local\\Temp/ipykernel_37132/1340491763.py:20: UserWarning: Warning: converting a masked element to nan.\n",
      "  correlation_per_frame = np.array([ma.corrcoef(ma.masked_invalid(frame.flatten()),\n"
     ]
    },
    {
     "name": "stdout",
     "output_type": "stream",
     "text": [
      "224\n"
     ]
    },
    {
     "name": "stderr",
     "output_type": "stream",
     "text": [
      "C:\\Users\\tanzor\\AppData\\Local\\Temp/ipykernel_37132/1340491763.py:20: UserWarning: Warning: converting a masked element to nan.\n",
      "  correlation_per_frame = np.array([ma.corrcoef(ma.masked_invalid(frame.flatten()),\n",
      "C:\\Users\\tanzor\\AppData\\Local\\Temp/ipykernel_37132/1340491763.py:11: UserWarning: Warning: converting a masked element to nan.\n",
      "  correlation_per_frame = np.array([ma.corrcoef(ma.masked_invalid(frame.flatten()),\n"
     ]
    },
    {
     "name": "stdout",
     "output_type": "stream",
     "text": [
      "225\n"
     ]
    },
    {
     "name": "stderr",
     "output_type": "stream",
     "text": [
      "C:\\Users\\tanzor\\AppData\\Local\\Temp/ipykernel_37132/1340491763.py:11: UserWarning: Warning: converting a masked element to nan.\n",
      "  correlation_per_frame = np.array([ma.corrcoef(ma.masked_invalid(frame.flatten()),\n",
      "C:\\Users\\tanzor\\AppData\\Local\\Temp/ipykernel_37132/1340491763.py:20: UserWarning: Warning: converting a masked element to nan.\n",
      "  correlation_per_frame = np.array([ma.corrcoef(ma.masked_invalid(frame.flatten()),\n"
     ]
    },
    {
     "name": "stdout",
     "output_type": "stream",
     "text": [
      "226\n"
     ]
    },
    {
     "name": "stderr",
     "output_type": "stream",
     "text": [
      "C:\\Users\\tanzor\\AppData\\Local\\Temp/ipykernel_37132/1340491763.py:20: UserWarning: Warning: converting a masked element to nan.\n",
      "  correlation_per_frame = np.array([ma.corrcoef(ma.masked_invalid(frame.flatten()),\n",
      "C:\\Users\\tanzor\\AppData\\Local\\Temp/ipykernel_37132/1340491763.py:11: UserWarning: Warning: converting a masked element to nan.\n",
      "  correlation_per_frame = np.array([ma.corrcoef(ma.masked_invalid(frame.flatten()),\n"
     ]
    },
    {
     "name": "stdout",
     "output_type": "stream",
     "text": [
      "227\n"
     ]
    },
    {
     "name": "stderr",
     "output_type": "stream",
     "text": [
      "C:\\Users\\tanzor\\AppData\\Local\\Temp/ipykernel_37132/1340491763.py:11: UserWarning: Warning: converting a masked element to nan.\n",
      "  correlation_per_frame = np.array([ma.corrcoef(ma.masked_invalid(frame.flatten()),\n",
      "C:\\Users\\tanzor\\AppData\\Local\\Temp/ipykernel_37132/1340491763.py:20: UserWarning: Warning: converting a masked element to nan.\n",
      "  correlation_per_frame = np.array([ma.corrcoef(ma.masked_invalid(frame.flatten()),\n"
     ]
    },
    {
     "name": "stdout",
     "output_type": "stream",
     "text": [
      "228\n"
     ]
    },
    {
     "name": "stderr",
     "output_type": "stream",
     "text": [
      "C:\\Users\\tanzor\\AppData\\Local\\Temp/ipykernel_37132/1340491763.py:11: UserWarning: Warning: converting a masked element to nan.\n",
      "  correlation_per_frame = np.array([ma.corrcoef(ma.masked_invalid(frame.flatten()),\n",
      "C:\\Users\\tanzor\\AppData\\Local\\Temp/ipykernel_37132/1340491763.py:20: UserWarning: Warning: converting a masked element to nan.\n",
      "  correlation_per_frame = np.array([ma.corrcoef(ma.masked_invalid(frame.flatten()),\n"
     ]
    },
    {
     "name": "stdout",
     "output_type": "stream",
     "text": [
      "229\n"
     ]
    },
    {
     "name": "stderr",
     "output_type": "stream",
     "text": [
      "C:\\Users\\tanzor\\AppData\\Local\\Temp/ipykernel_37132/1340491763.py:20: UserWarning: Warning: converting a masked element to nan.\n",
      "  correlation_per_frame = np.array([ma.corrcoef(ma.masked_invalid(frame.flatten()),\n",
      "C:\\Users\\tanzor\\AppData\\Local\\Temp/ipykernel_37132/1340491763.py:11: UserWarning: Warning: converting a masked element to nan.\n",
      "  correlation_per_frame = np.array([ma.corrcoef(ma.masked_invalid(frame.flatten()),\n"
     ]
    },
    {
     "name": "stdout",
     "output_type": "stream",
     "text": [
      "230\n"
     ]
    },
    {
     "name": "stderr",
     "output_type": "stream",
     "text": [
      "C:\\Users\\tanzor\\AppData\\Local\\Temp/ipykernel_37132/1340491763.py:20: UserWarning: Warning: converting a masked element to nan.\n",
      "  correlation_per_frame = np.array([ma.corrcoef(ma.masked_invalid(frame.flatten()),\n",
      "C:\\Users\\tanzor\\AppData\\Local\\Temp/ipykernel_37132/1340491763.py:11: UserWarning: Warning: converting a masked element to nan.\n",
      "  correlation_per_frame = np.array([ma.corrcoef(ma.masked_invalid(frame.flatten()),\n"
     ]
    },
    {
     "name": "stdout",
     "output_type": "stream",
     "text": [
      "231\n"
     ]
    },
    {
     "name": "stderr",
     "output_type": "stream",
     "text": [
      "C:\\Users\\tanzor\\AppData\\Local\\Temp/ipykernel_37132/1340491763.py:11: UserWarning: Warning: converting a masked element to nan.\n",
      "  correlation_per_frame = np.array([ma.corrcoef(ma.masked_invalid(frame.flatten()),\n",
      "C:\\Users\\tanzor\\AppData\\Local\\Temp/ipykernel_37132/1340491763.py:20: UserWarning: Warning: converting a masked element to nan.\n",
      "  correlation_per_frame = np.array([ma.corrcoef(ma.masked_invalid(frame.flatten()),\n"
     ]
    },
    {
     "name": "stdout",
     "output_type": "stream",
     "text": [
      "232\n"
     ]
    },
    {
     "name": "stderr",
     "output_type": "stream",
     "text": [
      "C:\\Users\\tanzor\\AppData\\Local\\Temp/ipykernel_37132/1340491763.py:20: UserWarning: Warning: converting a masked element to nan.\n",
      "  correlation_per_frame = np.array([ma.corrcoef(ma.masked_invalid(frame.flatten()),\n",
      "C:\\Users\\tanzor\\AppData\\Local\\Temp/ipykernel_37132/1340491763.py:11: UserWarning: Warning: converting a masked element to nan.\n",
      "  correlation_per_frame = np.array([ma.corrcoef(ma.masked_invalid(frame.flatten()),\n"
     ]
    },
    {
     "name": "stdout",
     "output_type": "stream",
     "text": [
      "233\n"
     ]
    },
    {
     "name": "stderr",
     "output_type": "stream",
     "text": [
      "C:\\Users\\tanzor\\AppData\\Local\\Temp/ipykernel_37132/1340491763.py:11: UserWarning: Warning: converting a masked element to nan.\n",
      "  correlation_per_frame = np.array([ma.corrcoef(ma.masked_invalid(frame.flatten()),\n",
      "C:\\Users\\tanzor\\AppData\\Local\\Temp/ipykernel_37132/1340491763.py:20: UserWarning: Warning: converting a masked element to nan.\n",
      "  correlation_per_frame = np.array([ma.corrcoef(ma.masked_invalid(frame.flatten()),\n"
     ]
    },
    {
     "name": "stdout",
     "output_type": "stream",
     "text": [
      "234\n"
     ]
    },
    {
     "name": "stderr",
     "output_type": "stream",
     "text": [
      "C:\\Users\\tanzor\\AppData\\Local\\Temp/ipykernel_37132/1340491763.py:11: UserWarning: Warning: converting a masked element to nan.\n",
      "  correlation_per_frame = np.array([ma.corrcoef(ma.masked_invalid(frame.flatten()),\n",
      "C:\\Users\\tanzor\\AppData\\Local\\Temp/ipykernel_37132/1340491763.py:20: UserWarning: Warning: converting a masked element to nan.\n",
      "  correlation_per_frame = np.array([ma.corrcoef(ma.masked_invalid(frame.flatten()),\n"
     ]
    },
    {
     "name": "stdout",
     "output_type": "stream",
     "text": [
      "235\n"
     ]
    },
    {
     "name": "stderr",
     "output_type": "stream",
     "text": [
      "C:\\Users\\tanzor\\AppData\\Local\\Temp/ipykernel_37132/1340491763.py:11: UserWarning: Warning: converting a masked element to nan.\n",
      "  correlation_per_frame = np.array([ma.corrcoef(ma.masked_invalid(frame.flatten()),\n",
      "C:\\Users\\tanzor\\AppData\\Local\\Temp/ipykernel_37132/1340491763.py:20: UserWarning: Warning: converting a masked element to nan.\n",
      "  correlation_per_frame = np.array([ma.corrcoef(ma.masked_invalid(frame.flatten()),\n"
     ]
    },
    {
     "name": "stdout",
     "output_type": "stream",
     "text": [
      "236\n"
     ]
    },
    {
     "name": "stderr",
     "output_type": "stream",
     "text": [
      "C:\\Users\\tanzor\\AppData\\Local\\Temp/ipykernel_37132/1340491763.py:20: UserWarning: Warning: converting a masked element to nan.\n",
      "  correlation_per_frame = np.array([ma.corrcoef(ma.masked_invalid(frame.flatten()),\n",
      "C:\\Users\\tanzor\\AppData\\Local\\Temp/ipykernel_37132/1340491763.py:11: UserWarning: Warning: converting a masked element to nan.\n",
      "  correlation_per_frame = np.array([ma.corrcoef(ma.masked_invalid(frame.flatten()),\n"
     ]
    },
    {
     "name": "stdout",
     "output_type": "stream",
     "text": [
      "237\n"
     ]
    },
    {
     "name": "stderr",
     "output_type": "stream",
     "text": [
      "C:\\Users\\tanzor\\AppData\\Local\\Temp/ipykernel_37132/1340491763.py:11: UserWarning: Warning: converting a masked element to nan.\n",
      "  correlation_per_frame = np.array([ma.corrcoef(ma.masked_invalid(frame.flatten()),\n",
      "C:\\Users\\tanzor\\AppData\\Local\\Temp/ipykernel_37132/1340491763.py:20: UserWarning: Warning: converting a masked element to nan.\n",
      "  correlation_per_frame = np.array([ma.corrcoef(ma.masked_invalid(frame.flatten()),\n"
     ]
    },
    {
     "name": "stdout",
     "output_type": "stream",
     "text": [
      "238\n"
     ]
    },
    {
     "name": "stderr",
     "output_type": "stream",
     "text": [
      "C:\\Users\\tanzor\\AppData\\Local\\Temp/ipykernel_37132/1340491763.py:11: UserWarning: Warning: converting a masked element to nan.\n",
      "  correlation_per_frame = np.array([ma.corrcoef(ma.masked_invalid(frame.flatten()),\n",
      "C:\\Users\\tanzor\\AppData\\Local\\Temp/ipykernel_37132/1340491763.py:20: UserWarning: Warning: converting a masked element to nan.\n",
      "  correlation_per_frame = np.array([ma.corrcoef(ma.masked_invalid(frame.flatten()),\n"
     ]
    },
    {
     "name": "stdout",
     "output_type": "stream",
     "text": [
      "239\n"
     ]
    },
    {
     "name": "stderr",
     "output_type": "stream",
     "text": [
      "C:\\Users\\tanzor\\AppData\\Local\\Temp/ipykernel_37132/1340491763.py:11: UserWarning: Warning: converting a masked element to nan.\n",
      "  correlation_per_frame = np.array([ma.corrcoef(ma.masked_invalid(frame.flatten()),\n",
      "C:\\Users\\tanzor\\AppData\\Local\\Temp/ipykernel_37132/1340491763.py:20: UserWarning: Warning: converting a masked element to nan.\n",
      "  correlation_per_frame = np.array([ma.corrcoef(ma.masked_invalid(frame.flatten()),\n"
     ]
    },
    {
     "name": "stdout",
     "output_type": "stream",
     "text": [
      "240\n"
     ]
    },
    {
     "name": "stderr",
     "output_type": "stream",
     "text": [
      "C:\\Users\\tanzor\\AppData\\Local\\Temp/ipykernel_37132/1340491763.py:11: UserWarning: Warning: converting a masked element to nan.\n",
      "  correlation_per_frame = np.array([ma.corrcoef(ma.masked_invalid(frame.flatten()),\n",
      "C:\\Users\\tanzor\\AppData\\Local\\Temp/ipykernel_37132/1340491763.py:20: UserWarning: Warning: converting a masked element to nan.\n",
      "  correlation_per_frame = np.array([ma.corrcoef(ma.masked_invalid(frame.flatten()),\n"
     ]
    },
    {
     "name": "stdout",
     "output_type": "stream",
     "text": [
      "241\n"
     ]
    },
    {
     "name": "stderr",
     "output_type": "stream",
     "text": [
      "C:\\Users\\tanzor\\AppData\\Local\\Temp/ipykernel_37132/1340491763.py:11: UserWarning: Warning: converting a masked element to nan.\n",
      "  correlation_per_frame = np.array([ma.corrcoef(ma.masked_invalid(frame.flatten()),\n",
      "C:\\Users\\tanzor\\AppData\\Local\\Temp/ipykernel_37132/1340491763.py:20: UserWarning: Warning: converting a masked element to nan.\n",
      "  correlation_per_frame = np.array([ma.corrcoef(ma.masked_invalid(frame.flatten()),\n"
     ]
    },
    {
     "name": "stdout",
     "output_type": "stream",
     "text": [
      "242\n"
     ]
    },
    {
     "name": "stderr",
     "output_type": "stream",
     "text": [
      "C:\\Users\\tanzor\\AppData\\Local\\Temp/ipykernel_37132/1340491763.py:20: UserWarning: Warning: converting a masked element to nan.\n",
      "  correlation_per_frame = np.array([ma.corrcoef(ma.masked_invalid(frame.flatten()),\n",
      "C:\\Users\\tanzor\\AppData\\Local\\Temp/ipykernel_37132/1340491763.py:11: UserWarning: Warning: converting a masked element to nan.\n",
      "  correlation_per_frame = np.array([ma.corrcoef(ma.masked_invalid(frame.flatten()),\n"
     ]
    },
    {
     "name": "stdout",
     "output_type": "stream",
     "text": [
      "243\n"
     ]
    },
    {
     "name": "stderr",
     "output_type": "stream",
     "text": [
      "C:\\Users\\tanzor\\AppData\\Local\\Temp/ipykernel_37132/1340491763.py:11: UserWarning: Warning: converting a masked element to nan.\n",
      "  correlation_per_frame = np.array([ma.corrcoef(ma.masked_invalid(frame.flatten()),\n",
      "C:\\Users\\tanzor\\AppData\\Local\\Temp/ipykernel_37132/1340491763.py:20: UserWarning: Warning: converting a masked element to nan.\n",
      "  correlation_per_frame = np.array([ma.corrcoef(ma.masked_invalid(frame.flatten()),\n"
     ]
    },
    {
     "name": "stdout",
     "output_type": "stream",
     "text": [
      "244\n"
     ]
    },
    {
     "name": "stderr",
     "output_type": "stream",
     "text": [
      "C:\\Users\\tanzor\\AppData\\Local\\Temp/ipykernel_37132/1340491763.py:11: UserWarning: Warning: converting a masked element to nan.\n",
      "  correlation_per_frame = np.array([ma.corrcoef(ma.masked_invalid(frame.flatten()),\n",
      "C:\\Users\\tanzor\\AppData\\Local\\Temp/ipykernel_37132/1340491763.py:20: UserWarning: Warning: converting a masked element to nan.\n",
      "  correlation_per_frame = np.array([ma.corrcoef(ma.masked_invalid(frame.flatten()),\n"
     ]
    },
    {
     "name": "stdout",
     "output_type": "stream",
     "text": [
      "245\n"
     ]
    },
    {
     "name": "stderr",
     "output_type": "stream",
     "text": [
      "C:\\Users\\tanzor\\AppData\\Local\\Temp/ipykernel_37132/1340491763.py:11: UserWarning: Warning: converting a masked element to nan.\n",
      "  correlation_per_frame = np.array([ma.corrcoef(ma.masked_invalid(frame.flatten()),\n",
      "C:\\Users\\tanzor\\AppData\\Local\\Temp/ipykernel_37132/1340491763.py:20: UserWarning: Warning: converting a masked element to nan.\n",
      "  correlation_per_frame = np.array([ma.corrcoef(ma.masked_invalid(frame.flatten()),\n"
     ]
    },
    {
     "name": "stdout",
     "output_type": "stream",
     "text": [
      "246\n"
     ]
    },
    {
     "name": "stderr",
     "output_type": "stream",
     "text": [
      "C:\\Users\\tanzor\\AppData\\Local\\Temp/ipykernel_37132/1340491763.py:11: UserWarning: Warning: converting a masked element to nan.\n",
      "  correlation_per_frame = np.array([ma.corrcoef(ma.masked_invalid(frame.flatten()),\n",
      "C:\\Users\\tanzor\\AppData\\Local\\Temp/ipykernel_37132/1340491763.py:20: UserWarning: Warning: converting a masked element to nan.\n",
      "  correlation_per_frame = np.array([ma.corrcoef(ma.masked_invalid(frame.flatten()),\n"
     ]
    },
    {
     "name": "stdout",
     "output_type": "stream",
     "text": [
      "247\n"
     ]
    },
    {
     "name": "stderr",
     "output_type": "stream",
     "text": [
      "C:\\Users\\tanzor\\AppData\\Local\\Temp/ipykernel_37132/1340491763.py:11: UserWarning: Warning: converting a masked element to nan.\n",
      "  correlation_per_frame = np.array([ma.corrcoef(ma.masked_invalid(frame.flatten()),\n",
      "C:\\Users\\tanzor\\AppData\\Local\\Temp/ipykernel_37132/1340491763.py:20: UserWarning: Warning: converting a masked element to nan.\n",
      "  correlation_per_frame = np.array([ma.corrcoef(ma.masked_invalid(frame.flatten()),\n"
     ]
    },
    {
     "name": "stdout",
     "output_type": "stream",
     "text": [
      "248\n"
     ]
    },
    {
     "name": "stderr",
     "output_type": "stream",
     "text": [
      "C:\\Users\\tanzor\\AppData\\Local\\Temp/ipykernel_37132/1340491763.py:11: UserWarning: Warning: converting a masked element to nan.\n",
      "  correlation_per_frame = np.array([ma.corrcoef(ma.masked_invalid(frame.flatten()),\n",
      "C:\\Users\\tanzor\\AppData\\Local\\Temp/ipykernel_37132/1340491763.py:20: UserWarning: Warning: converting a masked element to nan.\n",
      "  correlation_per_frame = np.array([ma.corrcoef(ma.masked_invalid(frame.flatten()),\n"
     ]
    },
    {
     "name": "stdout",
     "output_type": "stream",
     "text": [
      "249\n"
     ]
    },
    {
     "name": "stderr",
     "output_type": "stream",
     "text": [
      "C:\\Users\\tanzor\\AppData\\Local\\Temp/ipykernel_37132/1340491763.py:20: UserWarning: Warning: converting a masked element to nan.\n",
      "  correlation_per_frame = np.array([ma.corrcoef(ma.masked_invalid(frame.flatten()),\n",
      "C:\\Users\\tanzor\\AppData\\Local\\Temp/ipykernel_37132/1340491763.py:11: UserWarning: Warning: converting a masked element to nan.\n",
      "  correlation_per_frame = np.array([ma.corrcoef(ma.masked_invalid(frame.flatten()),\n"
     ]
    },
    {
     "name": "stdout",
     "output_type": "stream",
     "text": [
      "250\n"
     ]
    },
    {
     "name": "stderr",
     "output_type": "stream",
     "text": [
      "C:\\Users\\tanzor\\AppData\\Local\\Temp/ipykernel_37132/1340491763.py:20: UserWarning: Warning: converting a masked element to nan.\n",
      "  correlation_per_frame = np.array([ma.corrcoef(ma.masked_invalid(frame.flatten()),\n",
      "C:\\Users\\tanzor\\AppData\\Local\\Temp/ipykernel_37132/1340491763.py:11: UserWarning: Warning: converting a masked element to nan.\n",
      "  correlation_per_frame = np.array([ma.corrcoef(ma.masked_invalid(frame.flatten()),\n"
     ]
    },
    {
     "name": "stdout",
     "output_type": "stream",
     "text": [
      "251\n"
     ]
    },
    {
     "name": "stderr",
     "output_type": "stream",
     "text": [
      "C:\\Users\\tanzor\\AppData\\Local\\Temp/ipykernel_37132/1340491763.py:20: UserWarning: Warning: converting a masked element to nan.\n",
      "  correlation_per_frame = np.array([ma.corrcoef(ma.masked_invalid(frame.flatten()),\n",
      "C:\\Users\\tanzor\\AppData\\Local\\Temp/ipykernel_37132/1340491763.py:11: UserWarning: Warning: converting a masked element to nan.\n",
      "  correlation_per_frame = np.array([ma.corrcoef(ma.masked_invalid(frame.flatten()),\n"
     ]
    }
   ],
   "source": [
    "group_df=to_csv_multiple_files_new_format_with_other_letter_and_SSE(path.join('..','experiments','Exp2rows','data','jatos_resultfiles_batch1'))"
   ]
  },
  {
   "cell_type": "code",
   "execution_count": null,
   "metadata": {},
   "outputs": [],
   "source": [
    "group_df=to_csv_multiple_files_new_format(path.join('..','experiments','Exp2rowsLong','data','json_data'))"
   ]
  },
  {
   "cell_type": "code",
   "execution_count": null,
   "metadata": {},
   "outputs": [],
   "source": [
    "def get_correlation_with_S_3stim(row):\n",
    "    if str(row['presented_pixel_data'])=='nan':\n",
    "        return 0\n",
    "    else:\n",
    "        presented_pixel_data = np.array(row['presented_pixel_data'], dtype=float)\n",
    "        correlation_per_frame = np.array([ma.corrcoef(ma.masked_invalid(frame[1].flatten()),\n",
    "                                            ma.masked_invalid(S.flatten()))[0,1] for frame in presented_pixel_data])\n",
    "        return correlation_per_frame\n",
    "    \n",
    "def get_correlation_with_A_3stim(row):\n",
    "    if str(row['presented_pixel_data'])=='nan':\n",
    "        return 0\n",
    "    else:\n",
    "        presented_pixel_data = np.array(row['presented_pixel_data'], dtype=float)\n",
    "        correlation_per_frame = np.array([ma.corrcoef(ma.masked_invalid(frame[1].flatten()),\n",
    "                                            ma.masked_invalid(A.flatten()))[0,1] for frame in presented_pixel_data])\n",
    "        return correlation_per_frame\n",
    "    \n",
    "def get_correlation_with_target_letter_3stim(row):\n",
    "    if row.target=='S':\n",
    "        return get_correlation_with_S_3stim(row)\n",
    "    elif row.target=='A':\n",
    "        return(get_correlation_with_A_3stim(row))\n",
    "    \n",
    "    \n",
    "\n",
    "def to_csv_multiple_files_new_3stim(dirname):\n",
    "    dfs=[]\n",
    "    json_files = pathlib.Path(dirname).glob('**/*.json')\n",
    "    for i,file in enumerate(json_files):\n",
    "                mydf = pd.read_json(file)\n",
    "                mydf['correlation_with_target_letter'] = mydf.apply(get_correlation_with_target_letter_3stim, axis=1)   \n",
    "                mydf = mydf.explode('correlation_with_target_letter');\n",
    "                mydf['frame_index'] = mydf.groupby('trial_index').cumcount()\n",
    "                dfs.append(mydf.drop('presented_pixel_data',axis=1));\n",
    "    group_df = pd.concat(dfs)\n",
    "    group_df.to_csv(dirname+'/all_data.csv', index=False)\n",
    "    return(group_df)\n",
    "\n",
    "group_df=to_csv_multiple_files_new_3stim(path.join('..','experiments','Exp3reference','data','jatos_results_files_batch1'))"
   ]
  },
  {
   "cell_type": "code",
   "execution_count": null,
   "metadata": {},
   "outputs": [],
   "source": [
    "group_df"
   ]
  }
 ],
 "metadata": {
  "kernelspec": {
   "display_name": "Python 3 (ipykernel)",
   "language": "python",
   "name": "python3"
  },
  "language_info": {
   "codemirror_mode": {
    "name": "ipython",
    "version": 3
   },
   "file_extension": ".py",
   "mimetype": "text/x-python",
   "name": "python",
   "nbconvert_exporter": "python",
   "pygments_lexer": "ipython3",
   "version": "3.9.7"
  }
 },
 "nbformat": 4,
 "nbformat_minor": 2
}
