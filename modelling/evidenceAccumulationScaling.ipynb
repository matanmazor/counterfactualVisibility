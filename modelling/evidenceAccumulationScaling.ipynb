{
 "cells": [
  {
   "cell_type": "markdown",
   "id": "c4726dc9",
   "metadata": {},
   "source": [
    "We represent single frames as scalars, according to the correlation between pixel luminance and the target letter. These values are positive when a target is present, and negative when it is absent. When a target is present, but not when it is absent, correlation values are closer to zero when more of the display is occluded."
   ]
  },
  {
   "cell_type": "code",
   "execution_count": 2,
   "id": "14609adc",
   "metadata": {},
   "outputs": [],
   "source": [
    "import numpy as np\n",
    "import pandas as pd\n",
    "import matplotlib.pyplot as plt\n",
    "import seaborn as sns\n",
    "from scipy.stats import norm\n",
    "from scipy.stats import bernoulli\n",
    "import imageio\n",
    "import random\n",
    "from os import path as path\n",
    "from itertools import islice"
   ]
  },
  {
   "cell_type": "code",
   "execution_count": 3,
   "id": "b970202b",
   "metadata": {},
   "outputs": [],
   "source": [
    "# the probability of obtaining a 1, when a target is absent (0) or present (1)\n",
    "biases = {0:0.05,#target absent\n",
    "          1:0.2} # target present\n",
    "\n",
    "# the effects of occlusion on visibility are multiplicative: they scale the biases\n",
    "scalings = [1,0.85,0.7]\n",
    "\n",
    "# evidence per time frame can be either 0 or 1\n",
    "def sample_evidence(present,scaling):\n",
    "    return bernoulli(biases[present]*scaling).rvs()\n",
    "\n",
    "#extract the log likelihood ratio between target presence and absence,\n",
    "#given a sample\n",
    "def log_likelihood_ratio(sample,scaling):\n",
    "    if sample==1:\n",
    "        return np.log((biases[1]*scaling)/(biases[0]*scaling))\n",
    "    else:\n",
    "        return np.log((1-(biases[1]*scaling))/(1-(biases[0]*scaling)))\n",
    "\n",
    "# to make the code more efficient, I save the LLRs in a dictionary\n",
    "LLRs={(key,scaling):log_likelihood_ratio(key,scaling) for key,value in biases.items() for scaling in scalings}"
   ]
  },
  {
   "cell_type": "code",
   "execution_count": 4,
   "id": "1e9645a6",
   "metadata": {},
   "outputs": [
    {
     "data": {
      "text/plain": [
       "{(0, 1): -0.17185025692665915,\n",
       " (0, 0.85): -0.14290002026415757,\n",
       " (0, 0.7): -0.11519571209143245,\n",
       " (1, 1): 1.3862943611198906,\n",
       " (1, 0.85): 1.3862943611198906,\n",
       " (1, 0.7): 1.3862943611198906}"
      ]
     },
     "execution_count": 4,
     "metadata": {},
     "output_type": "execute_result"
    }
   ],
   "source": [
    "LLRs"
   ]
  },
  {
   "cell_type": "markdown",
   "id": "9a00383c",
   "metadata": {},
   "source": [
    "In this version, agents commit to a decision when the expected utility from making a decision is higher than the expected utility from continuing to the next timepoint. First, we extract the expected utility per timepoint and evidence value, if participants are committing to a decision. Since we use LLRs, this is independent of scaling and frame number."
   ]
  },
  {
   "cell_type": "code",
   "execution_count": 5,
   "id": "49e3f486",
   "metadata": {},
   "outputs": [],
   "source": [
    "# There's an option to subtract a constant from the utility with every time point, but I use temporal discounting instead\n",
    "frame_cost = 0\n",
    "\n",
    "dx = 0.01\n",
    "considered_range = list(np.arange(-4,4,dx))\n",
    "\n",
    "pcorrect_df = pd.DataFrame(columns=['LLR','posterior_present','posterior_absent',\n",
    "                                    'pcorrect','utility'])\n",
    "num_frames = 100\n",
    "\n",
    "for LLR in considered_range:\n",
    "    posterior_present = np.exp(LLR)/(1+np.exp(LLR))\n",
    "    posterior_absent = 1-posterior_present\n",
    "    pcorrect = max(posterior_present,posterior_absent)\n",
    "    utility = pcorrect\n",
    "    pcorrect_df.loc[len(pcorrect_df)] = [LLR,\n",
    "                        posterior_present,\n",
    "                        posterior_absent,\n",
    "                        pcorrect,\n",
    "                        utility]\n",
    "\n",
    "frames = []  \n",
    "\n",
    "for scaling in scalings:\n",
    "    for i in range(num_frames):\n",
    "        temp_df = pcorrect_df.copy()  # Make a copy of your DataFrame\n",
    "        temp_df['scaling'] = scaling  # Create the 'frame' column with the repetition number\n",
    "        temp_df['frame'] = i  # Create the 'frame' column with the repetition number\n",
    "        frames.append(temp_df)  # Append the modified DataFrame to the list\n",
    "\n",
    "# Concatenate all DataFrames in the list\n",
    "pcorrect_df = pd.concat(frames, ignore_index=True)"
   ]
  },
  {
   "cell_type": "code",
   "execution_count": 6,
   "id": "f36a4c21",
   "metadata": {},
   "outputs": [],
   "source": [
    "# the multiplicative effect of each time point on utility\n",
    "temporal_discounting = 0.99\n",
    "\n",
    "def compute_future_utility(row):\n",
    "    \n",
    "    ppresent = row['posterior_present']\n",
    "    pabsent = row['posterior_absent']\n",
    "    scaling = row['scaling']\n",
    "    frame = row['frame']\n",
    "    LLR = row['LLR']\n",
    "    \n",
    "    # probability of evidence values in the next frames\n",
    "    expected_LLR = np.zeros(len(considered_range))\n",
    "    \n",
    "    # what the LLR would be if we obtain a 0\n",
    "    fail_LLR = LLR + LLRs[(0,scaling)]\n",
    "    # update the probability of this LLR to be the probability of obtaining a 0.\n",
    "    index_of_closest = np.argmin(np.abs(np.array(considered_range) - fail_LLR))\n",
    "    expected_LLR[index_of_closest] = ppresent*(1-biases[1]*scaling)+pabsent*(1-biases[0]*scaling)\n",
    "\n",
    "    # what the LLR would be if we obtain a 1\n",
    "    success_LLR = LLR + LLRs[(1,scaling)]\n",
    "    # update the probability of this LLR to be the probability of obtaining a 1\n",
    "    index_of_closest = np.argmin(np.abs(np.array(considered_range) - success_LLR))\n",
    "    expected_LLR[index_of_closest] = ppresent*biases[1]*scaling+pabsent*biases[0]*scaling\n",
    "    \n",
    "    #the utility values in the next time point for all LLR values\n",
    "    next_utility_values = pcorrect_df[(pcorrect_df['frame']==frame+1) & (pcorrect_df['scaling']==scaling)]['updated_utility']\n",
    "\n",
    "    #return the mean of utility values, weighted by their probabilities.\n",
    "    return(temporal_discounting*(np.nansum(expected_LLR*next_utility_values)+(1-np.nansum(expected_LLR)))+frame_cost)"
   ]
  },
  {
   "cell_type": "code",
   "execution_count": 7,
   "id": "aa4442a2",
   "metadata": {},
   "outputs": [
    {
     "name": "stdout",
     "output_type": "stream",
     "text": [
      "90\n",
      "80\n",
      "70\n",
      "60\n",
      "50\n",
      "40\n",
      "30\n",
      "20\n",
      "10\n",
      "0\n"
     ]
    }
   ],
   "source": [
    "# assume agents commit to a decision at the last timepoint\n",
    "pcorrect_df.loc[pcorrect_df['frame'] == num_frames-1, 'updated_utility'] = pcorrect_df.loc[pcorrect_df['frame'] == num_frames-1, 'utility']\n",
    "pcorrect_df.loc[pcorrect_df['frame'] == num_frames-1, 'stop_decision'] = 1\n",
    "\n",
    "#iterate back and update the expected utility per LLR\n",
    "for frame in reversed(range(num_frames-1)):\n",
    "    if frame%10==0:\n",
    "        print(frame)\n",
    "    current_frame_df = pcorrect_df[pcorrect_df['frame'] == frame]\n",
    "\n",
    "    for index, row in current_frame_df.iterrows():\n",
    "        current_utility = row['utility']\n",
    "\n",
    "        expected_future_utility = compute_future_utility(row)\n",
    "\n",
    "        stop_decision=1 if current_utility > expected_future_utility else 0\n",
    "\n",
    "        updated_utility = max(current_utility, expected_future_utility)\n",
    "\n",
    "        pcorrect_df.at[index, 'stop_decision'] = stop_decision\n",
    "        pcorrect_df.at[index, 'updated_utility'] = updated_utility"
   ]
  },
  {
   "cell_type": "code",
   "execution_count": 8,
   "id": "dc23ba67",
   "metadata": {},
   "outputs": [
    {
     "name": "stderr",
     "output_type": "stream",
     "text": [
      "C:\\Users\\tanzor\\AppData\\Local\\Temp/ipykernel_21552/2481450934.py:14: FutureWarning: In a future version of pandas all arguments of DataFrame.pivot will be keyword-only.\n",
      "  pivot_table = df.pivot(\"LLR\", \"frame\",\"stop_decision\")\n"
     ]
    },
    {
     "data": {
      "image/png": "[encoded data removed]",
      "text/plain": [
       "<Figure size 432x288 with 1 Axes>"
      ]
     },
     "metadata": {
      "needs_background": "light"
     },
     "output_type": "display_data"
    },
    {
     "data": {
      "image/png": "[encoded data removed]",
      "text/plain": [
       "<Figure size 432x288 with 1 Axes>"
      ]
     },
     "metadata": {
      "needs_background": "light"
     },
     "output_type": "display_data"
    },
    {
     "data": {
      "image/png": "[encoded data removed]",
      "text/plain": [
       "<Figure size 432x288 with 1 Axes>"
      ]
     },
     "metadata": {
      "needs_background": "light"
     },
     "output_type": "display_data"
    }
   ],
   "source": [
    "# plot the decision boundaries per scaling\n",
    "\n",
    "df = pcorrect_df\n",
    "# Separate data for occluded_rows 2 and 6\n",
    "df_occluded_1 = df[df['scaling'] == 1]\n",
    "df_occluded_085 = df[df['scaling'] == 0.85]\n",
    "df_occluded_07 = df[df['scaling'] == 0.7]\n",
    "# df_occluded_05 = df[df['scaling'] == 0.5]\n",
    "# df_occluded_03 = df[df['scaling'] == 0.25]\n",
    "\n",
    "\n",
    "# Function to create heatmap\n",
    "def create_heatmap(df, title):\n",
    "    pivot_table = df.pivot(\"LLR\", \"frame\",\"stop_decision\")\n",
    "    ax=sns.heatmap(pivot_table, cmap=\"Blues\", cbar=False)\n",
    "    ax.invert_yaxis()  # Reverse the y-axis\n",
    "    plt.title(title)\n",
    "    plt.xlabel(\"Frame number\")\n",
    "    plt.ylabel(\"LLR\")\n",
    "    plt.show()\n",
    "\n",
    "# Create heatmaps\n",
    "create_heatmap(df_occluded_1, \"Stop Decision for scaling=1\")\n",
    "create_heatmap(df_occluded_085, \"Stop Decision for scaling=0.85\")\n",
    "create_heatmap(df_occluded_07, \"Stop Decision for scaling=0.7\")\n",
    "# create_heatmap(df_occluded_05, \"Stop Decision for scaling=0.5\")\n",
    "# create_heatmap(df_occluded_03, \"Stop Decision for scaling=0.25\")\n"
   ]
  },
  {
   "cell_type": "markdown",
   "id": "aa1be99b",
   "metadata": {},
   "source": [
    "## Get thresholds\n",
    "\n",
    "The thresholds are the lowest positive stopping point and the highest negative stopping point, at time point 0."
   ]
  },
  {
   "cell_type": "code",
   "execution_count": 9,
   "id": "dc3eb4df",
   "metadata": {},
   "outputs": [],
   "source": [
    "thresholds = {}\n",
    "\n",
    "for scaling in scalings:\n",
    "    relevant_df = pcorrect_df[(pcorrect_df.frame==0) & (pcorrect_df.scaling==scaling)]\n",
    "    upper_threshold = relevant_df[(relevant_df.LLR>0) & (relevant_df.stop_decision==1)].iloc[0].LLR\n",
    "    lower_threshold = relevant_df[(relevant_df.LLR<0) & (relevant_df.stop_decision==1)].iloc[-1].LLR\n",
    "    thresholds[scaling] = (lower_threshold,upper_threshold)"
   ]
  },
  {
   "cell_type": "code",
   "execution_count": 10,
   "id": "b9c4eaaa",
   "metadata": {},
   "outputs": [
    {
     "data": {
      "text/plain": [
       "[11.638039044966842, 12.73617734018294, 14.75749373944349]"
      ]
     },
     "execution_count": 10,
     "metadata": {},
     "output_type": "execute_result"
    }
   ],
   "source": [
    "#the expected number of time points until \"target absent\" decision, assuming a series of zeros\n",
    "[thresholds[scaling][0]/LLRs[0,scaling] for scaling in scalings]"
   ]
  },
  {
   "cell_type": "code",
   "execution_count": 11,
   "id": "0a6b0d81",
   "metadata": {},
   "outputs": [
    {
     "data": {
      "text/plain": [
       "{1: (-2.0000000000000426, 1.8799999999998747),\n",
       " 0.85: (-1.8200000000000465, 1.6999999999998785),\n",
       " 0.7: (-1.700000000000049, 1.4599999999998836)}"
      ]
     },
     "execution_count": 11,
     "metadata": {},
     "output_type": "execute_result"
    }
   ],
   "source": [
    "thresholds"
   ]
  },
  {
   "cell_type": "markdown",
   "id": "8fa54447",
   "metadata": {},
   "source": [
    "Simulate the decision-making process"
   ]
  },
  {
   "cell_type": "code",
   "execution_count": 12,
   "id": "198f1e79",
   "metadata": {},
   "outputs": [],
   "source": [
    "def run_trial(present,scaling, scaling_mapping):\n",
    "    \n",
    "    ## scaling mapping is a mapping from the scaling factor\n",
    "    ## to participants' beliefs about the scaling factor\n",
    "    \n",
    "    decision = np.nan\n",
    "    frame = 0\n",
    "    LLR = 0\n",
    "    num_ones = 0\n",
    "    \n",
    "    \n",
    "    # the thresholds are a function of the agent's belief about the scaling,\n",
    "    # not of the scaling itself\n",
    "    trial_thresholds = thresholds[scaling_mapping[scaling]]\n",
    "    \n",
    "    while np.isnan(decision):\n",
    "        \n",
    "        #evidence is sampled according to the true distribution\n",
    "        evidence = sample_evidence(present,scaling)\n",
    "        \n",
    "        num_ones += evidence;\n",
    "        \n",
    "        #beliefs are updated according to the agent's beliefs about the distribution\n",
    "        LLR += log_likelihood_ratio(evidence,scaling_mapping[scaling])\n",
    "        \n",
    "        if LLR>=trial_thresholds[1]:\n",
    "            decision=1\n",
    "        elif LLR<=trial_thresholds[0]:\n",
    "            decision=0\n",
    "        frame += 1\n",
    "        \n",
    "    #post decisional evidence before extracting confidence            \n",
    "    for _ in range(0):\n",
    "        evidence = sample_evidence(present, scaling)\n",
    "        LLR += log_likelihood_ratio(evidence, scaling_mapping[scaling])\n",
    "        \n",
    "    if decision==1:\n",
    "        confidence = np.exp(LLR)/(1+np.exp(LLR))\n",
    "    elif decision==0:\n",
    "        confidence = 1/(1+np.exp(LLR))\n",
    "\n",
    "        \n",
    "    return((decision,frame,confidence,num_ones))\n",
    "\n"
   ]
  },
  {
   "cell_type": "code",
   "execution_count": 13,
   "id": "fa5b1e58",
   "metadata": {},
   "outputs": [
    {
     "data": {
      "text/plain": [
       "(0, 41, 0.8481345100876303, 2)"
      ]
     },
     "execution_count": 13,
     "metadata": {},
     "output_type": "execute_result"
    }
   ],
   "source": [
    "scaling_mapping_accurate = {1:1, 0.7:0.7}\n",
    "scaling_mapping_fault1 = {1:0.85, 0.7:0.85}\n",
    "scaling_mapping_fault2 = {1:1, 0.7:0.5}\n",
    "\n",
    "run_trial(0,0.7,scaling_mapping_accurate)"
   ]
  },
  {
   "cell_type": "code",
   "execution_count": 14,
   "id": "81d1f5cc",
   "metadata": {},
   "outputs": [],
   "source": [
    "simulated_trials_accurate_df = pd.DataFrame(columns=['present','occluded_rows','trial','decision','RT','confidence','num_ones'])\n",
    "\n",
    "num_trials = 2000\n",
    "\n",
    "random.seed(1)\n",
    "\n",
    "for target_present in [1,0]:\n",
    "    for scaling in [1,0.7]:\n",
    "        for trial in range(num_trials):\n",
    "            occluded_rows = {1:2,0.7:6}[scaling]\n",
    "            (decision,frame,confidence,num_ones) = run_trial(target_present,scaling, scaling_mapping_accurate)\n",
    "            simulated_trials_accurate_df.loc[len(simulated_trials_accurate_df)] = [target_present, \n",
    "                                occluded_rows, \n",
    "                                trial,\n",
    "                                decision,\n",
    "                                frame,\n",
    "                                confidence,\n",
    "                                num_ones]\n",
    "            \n",
    "simulated_trials_accurate_df.to_csv('simulated_data/accum_bernoulli_occlusion.csv', index=False)\n"
   ]
  },
  {
   "cell_type": "markdown",
   "id": "a69f7e6c",
   "metadata": {},
   "source": [
    "## Faulty agent 1\n",
    "\n",
    "the first metacognitive fault is one where beliefs about stimulus visibility are the same for the two occlusion levels (scaling=0.85 for both)."
   ]
  },
  {
   "cell_type": "code",
   "execution_count": 15,
   "id": "7a151295",
   "metadata": {},
   "outputs": [],
   "source": [
    "simulated_trials_fault1_df = pd.DataFrame(columns=['present','occluded_rows','trial','decision','RT','confidence', 'num_ones'])\n",
    "\n",
    "num_trials = 2000\n",
    "\n",
    "random.seed(1)\n",
    "\n",
    "for target_present in [1,0]:\n",
    "    for scaling in [1,0.7]:\n",
    "        for trial in range(num_trials):\n",
    "            occluded_rows = {1:2,0.7:6}[scaling]\n",
    "            (decision,frame,confidence,num_ones) = run_trial(target_present,scaling, scaling_mapping_fault1)\n",
    "            simulated_trials_fault1_df.loc[len(simulated_trials_fault1_df)] = [target_present, \n",
    "                                occluded_rows, \n",
    "                                trial,\n",
    "                                decision,\n",
    "                                frame,\n",
    "                                confidence,\n",
    "                                num_ones]\n",
    "            \n",
    "simulated_trials_fault1_df.to_csv('simulated_data/accum_bernoulli_occlusion_fault1.csv', index=False)"
   ]
  },
  {
   "cell_type": "markdown",
   "id": "961c6470",
   "metadata": {},
   "source": [
    "## Faulty agent 2\n",
    "\n",
    "The second metacognitive fault is one where beliefs about the effects of occlusion on visibility are exaggerated: participants overestimate the effect of high occlusion to be a scaling of 0.5, rather than 0.7 as it really is."
   ]
  },
  {
   "cell_type": "code",
   "execution_count": null,
   "id": "748b9b6f",
   "metadata": {},
   "outputs": [],
   "source": [
    "simulated_trials_fault2_df = pd.DataFrame(columns=['present','occluded_rows','trial','decision','RT','confidence','num_ones'])\n",
    "\n",
    "num_trials = 1000\n",
    "\n",
    "random.seed(1)\n",
    "\n",
    "for target_present in [1,0]:\n",
    "    for scaling in [1,0.7]:\n",
    "        for trial in range(num_trials):\n",
    "            occluded_rows = {1:2,0.7:6}[scaling]\n",
    "            (decision,frame,confidence,num_ones) = run_trial(target_present,scaling, scaling_mapping_fault2)\n",
    "            simulated_trials_fault2_df.loc[len(simulated_trials_fault2_df)] = [target_present, \n",
    "                                occluded_rows, \n",
    "                                trial,\n",
    "                                decision,\n",
    "                                frame,\n",
    "                                confidence,\n",
    "                                num_ones]\n",
    "            \n",
    "simulated_trials_fault2_df.to_csv('simulated_data/accum_bernoulli_occlusion_fault2.csv', index=False)"
   ]
  }
 ],
 "metadata": {
  "kernelspec": {
   "display_name": "Python 3 (ipykernel)",
   "language": "python",
   "name": "python3"
  },
  "language_info": {
   "codemirror_mode": {
    "name": "ipython",
    "version": 3
   },
   "file_extension": ".py",
   "mimetype": "text/x-python",
   "name": "python",
   "nbconvert_exporter": "python",
   "pygments_lexer": "ipython3",
   "version": "3.9.7"
  }
 },
 "nbformat": 4,
 "nbformat_minor": 5
}
