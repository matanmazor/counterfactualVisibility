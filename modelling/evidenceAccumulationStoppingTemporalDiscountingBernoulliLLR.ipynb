{
 "cells": [
  {
   "cell_type": "markdown",
   "id": "c4726dc9",
   "metadata": {},
   "source": [
    "We represent single frames as scalars, according to the correlation between pixel luminance and the target letter. These values are positive when a target is present, and negative when it is absent. When a target is present, but not when it is absent, correlation values are closer to zero when more of the display is occluded."
   ]
  },
  {
   "cell_type": "code",
   "execution_count": 1,
   "id": "14609adc",
   "metadata": {},
   "outputs": [],
   "source": [
    "import numpy as np\n",
    "import pandas as pd\n",
    "import matplotlib.pyplot as plt\n",
    "import seaborn as sns\n",
    "from scipy.stats import norm\n",
    "from scipy.stats import bernoulli\n",
    "from scipy.stats import rv_discrete\n",
    "from scipy.stats import gaussian_kde\n",
    "import imageio\n",
    "import random\n",
    "from os import path as path\n",
    "from itertools import islice\n"
   ]
  },
  {
   "cell_type": "code",
   "execution_count": 130,
   "id": "b970202b",
   "metadata": {},
   "outputs": [],
   "source": [
    "biases = {0:0.01,1:0.1}\n",
    "scalings = [1,0.85,0.7,0.5]\n",
    "\n",
    "def sample_evidence(present,scaling):\n",
    "    return bernoulli(biases[present]*scaling).rvs()\n",
    "\n",
    "def log_likelihood_ratio(sample,scaling):\n",
    "    if sample==1:\n",
    "        return np.log((biases[1]*scaling)/(biases[0]*scaling))\n",
    "    else:\n",
    "        return np.log((1-(biases[1]*scaling))/(1-(biases[0]*scaling)))\n",
    "\n",
    "LLRs={(key,scaling):log_likelihood_ratio(key,scaling) for key,value in biases.items() for scaling in scalings}"
   ]
  },
  {
   "cell_type": "code",
   "execution_count": 131,
   "id": "1e9645a6",
   "metadata": {},
   "outputs": [
    {
     "data": {
      "text/plain": [
       "{(0, 1): -0.09531017980432477,\n",
       " (0, 0.85): -0.08029488268432933,\n",
       " (0, 0.7): -0.06554607789787088,\n",
       " (0, 0.5): -0.04628075256400634,\n",
       " (1, 1): 2.302585092994046,\n",
       " (1, 0.85): 2.302585092994046,\n",
       " (1, 0.7): 2.302585092994046,\n",
       " (1, 0.5): 2.302585092994046}"
      ]
     },
     "execution_count": 131,
     "metadata": {},
     "output_type": "execute_result"
    }
   ],
   "source": [
    "LLRs"
   ]
  },
  {
   "cell_type": "markdown",
   "id": "9a00383c",
   "metadata": {},
   "source": [
    "In this version, agents commit to a decision when the expected utility from making a decision is higher than the expected utility from continuing to the next timepoint. First, we extract the expected utility per timepoint and evidence value, if participants are committing to a decision. "
   ]
  },
  {
   "cell_type": "code",
   "execution_count": 133,
   "id": "49e3f486",
   "metadata": {},
   "outputs": [],
   "source": [
    "frame_cost = 0\n",
    "\n",
    "dx = 0.01\n",
    "considered_range = list(np.arange(-2,2,dx))\n",
    "\n",
    "pcorrect_df = pd.DataFrame(columns=['LLR','posterior_present','posterior_absent',\n",
    "                                    'pcorrect','utility'])\n",
    "num_frames = 100\n",
    "\n",
    "for LLR in considered_range:\n",
    "    posterior_present = np.exp(LLR)/(1+np.exp(LLR))\n",
    "    posterior_absent = 1-posterior_present\n",
    "    pcorrect = max(posterior_present,posterior_absent)\n",
    "    utility = pcorrect\n",
    "    pcorrect_df.loc[len(pcorrect_df)] = [LLR,\n",
    "                        posterior_present,\n",
    "                        posterior_absent,\n",
    "                        pcorrect,\n",
    "                        utility]\n",
    "\n",
    "frames = []  \n",
    "\n",
    "for scaling in scalings:\n",
    "    for i in range(num_frames):\n",
    "        temp_df = pcorrect_df.copy()  # Make a copy of your DataFrame\n",
    "        temp_df['scaling'] = scaling  # Create the 'frame' column with the repetition number\n",
    "        temp_df['frame'] = i  # Create the 'frame' column with the repetition number\n",
    "        frames.append(temp_df)  # Append the modified DataFrame to the list\n",
    "\n",
    "# Concatenate all DataFrames in the list\n",
    "pcorrect_df = pd.concat(frames, ignore_index=True)"
   ]
  },
  {
   "cell_type": "code",
   "execution_count": 134,
   "id": "f36a4c21",
   "metadata": {},
   "outputs": [],
   "source": [
    "temporal_discounting = 0.99\n",
    "\n",
    "\n",
    "def compute_future_utility(row):\n",
    "    \n",
    "    ppresent = row['posterior_present']\n",
    "    pabsent = row['posterior_absent']\n",
    "    scaling = row['scaling']\n",
    "    frame = row['frame']\n",
    "    LLR = row['LLR']\n",
    "    \n",
    "    # probability of evidence values in the next frames\n",
    "    expected_LLR = np.zeros(len(considered_range))\n",
    "    \n",
    "    fail_LLR = LLR + LLRs[(0,scaling)]\n",
    "    index_of_closest = np.argmin(np.abs(np.array(considered_range) - fail_LLR))\n",
    "    expected_LLR[index_of_closest] = ppresent*(1-biases[1]*scaling)+pabsent*(1-biases[0]*scaling)\n",
    "\n",
    "    success_LLR = LLR + LLRs[(1,scaling)]\n",
    "    index_of_closest = np.argmin(np.abs(np.array(considered_range) - success_LLR))\n",
    "    expected_LLR[index_of_closest] = ppresent*biases[1]*scaling+pabsent*biases[0]*scaling\n",
    "    \n",
    "    next_utility_values = pcorrect_df[(pcorrect_df['frame']==frame+1) & (pcorrect_df['scaling']==scaling)]['updated_utility']\n",
    "\n",
    "    return(temporal_discounting*(np.nansum(expected_LLR*next_utility_values)+(1-np.nansum(expected_LLR)))+frame_cost)"
   ]
  },
  {
   "cell_type": "code",
   "execution_count": 135,
   "id": "aa4442a2",
   "metadata": {},
   "outputs": [
    {
     "name": "stdout",
     "output_type": "stream",
     "text": [
      "98\n",
      "97\n",
      "96\n",
      "95\n",
      "94\n",
      "93\n",
      "92\n",
      "91\n",
      "90\n",
      "89\n",
      "88\n",
      "87\n",
      "86\n",
      "85\n",
      "84\n",
      "83\n",
      "82\n",
      "81\n",
      "80\n",
      "79\n",
      "78\n",
      "77\n",
      "76\n",
      "75\n",
      "74\n",
      "73\n",
      "72\n",
      "71\n",
      "70\n",
      "69\n",
      "68\n",
      "67\n",
      "66\n",
      "65\n",
      "64\n",
      "63\n",
      "62\n",
      "61\n",
      "60\n",
      "59\n",
      "58\n",
      "57\n",
      "56\n",
      "55\n",
      "54\n",
      "53\n",
      "52\n",
      "51\n",
      "50\n",
      "49\n",
      "48\n",
      "47\n",
      "46\n",
      "45\n",
      "44\n",
      "43\n",
      "42\n",
      "41\n",
      "40\n",
      "39\n",
      "38\n",
      "37\n",
      "36\n",
      "35\n",
      "34\n",
      "33\n",
      "32\n",
      "31\n",
      "30\n",
      "29\n",
      "28\n",
      "27\n",
      "26\n",
      "25\n",
      "24\n",
      "23\n",
      "22\n",
      "21\n",
      "20\n",
      "19\n",
      "18\n",
      "17\n",
      "16\n",
      "15\n",
      "14\n",
      "13\n",
      "12\n",
      "11\n",
      "10\n",
      "9\n",
      "8\n",
      "7\n",
      "6\n",
      "5\n",
      "4\n",
      "3\n",
      "2\n",
      "1\n",
      "0\n"
     ]
    }
   ],
   "source": [
    "pcorrect_df.loc[pcorrect_df['frame'] == num_frames-1, 'updated_utility'] = pcorrect_df.loc[pcorrect_df['frame'] == num_frames-1, 'utility']\n",
    "pcorrect_df.loc[pcorrect_df['frame'] == num_frames-1, 'stop_decision'] = 1\n",
    "\n",
    "for frame in reversed(range(num_frames-1)):\n",
    "    print(frame)\n",
    "    current_frame_df = pcorrect_df[pcorrect_df['frame'] == frame]\n",
    "\n",
    "    for index, row in current_frame_df.iterrows():\n",
    "        current_utility = row['utility']\n",
    "\n",
    "        expected_future_utility = compute_future_utility(row)\n",
    "\n",
    "        stop_decision=1 if current_utility > expected_future_utility else 0\n",
    "\n",
    "        updated_utility = max(current_utility, expected_future_utility)\n",
    "\n",
    "        pcorrect_df.at[index, 'stop_decision'] = stop_decision\n",
    "        pcorrect_df.at[index, 'updated_utility'] = updated_utility"
   ]
  },
  {
   "cell_type": "code",
   "execution_count": 136,
   "id": "dc23ba67",
   "metadata": {},
   "outputs": [
    {
     "name": "stderr",
     "output_type": "stream",
     "text": [
      "C:\\Users\\tanzor\\AppData\\Local\\Temp/ipykernel_19960/1208361059.py:10: FutureWarning: In a future version of pandas all arguments of DataFrame.pivot will be keyword-only.\n",
      "  pivot_table = df.pivot(\"LLR\", \"frame\",\"stop_decision\")\n"
     ]
    },
    {
     "data": {
      "image/png": "[encoded data removed]",
      "text/plain": [
       "<Figure size 432x288 with 1 Axes>"
      ]
     },
     "metadata": {
      "needs_background": "light"
     },
     "output_type": "display_data"
    },
    {
     "data": {
      "image/png": "[encoded data removed]",
      "text/plain": [
       "<Figure size 432x288 with 1 Axes>"
      ]
     },
     "metadata": {
      "needs_background": "light"
     },
     "output_type": "display_data"
    },
    {
     "data": {
      "image/png": "[encoded data removed]",
      "text/plain": [
       "<Figure size 432x288 with 1 Axes>"
      ]
     },
     "metadata": {
      "needs_background": "light"
     },
     "output_type": "display_data"
    },
    {
     "data": {
      "image/png": "[encoded data removed]",
      "text/plain": [
       "<Figure size 432x288 with 1 Axes>"
      ]
     },
     "metadata": {
      "needs_background": "light"
     },
     "output_type": "display_data"
    }
   ],
   "source": [
    "df = pcorrect_df\n",
    "# Separate data for occluded_rows 2 and 6\n",
    "df_occluded_1 = df[df['scaling'] == 1]\n",
    "df_occluded_085 = df[df['scaling'] == 0.85]\n",
    "df_occluded_07 = df[df['scaling'] == 0.7]\n",
    "df_occluded_05 = df[df['scaling'] == 0.5]\n",
    "\n",
    "# Function to create heatmap\n",
    "def create_heatmap(df, title):\n",
    "    pivot_table = df.pivot(\"LLR\", \"frame\",\"stop_decision\")\n",
    "    ax=sns.heatmap(pivot_table, cmap=\"Blues\", cbar=False)\n",
    "    ax.invert_yaxis()  # Reverse the y-axis\n",
    "    plt.title(title)\n",
    "    plt.xlabel(\"Frame number\")\n",
    "    plt.ylabel(\"LLR\")\n",
    "    plt.show()\n",
    "\n",
    "# Create heatmaps\n",
    "create_heatmap(df_occluded_1, \"Stop Decision for scaling=1\")\n",
    "create_heatmap(df_occluded_085, \"Stop Decision for scaling=0.85\")\n",
    "create_heatmap(df_occluded_07, \"Stop Decision for scaling=0.7\")\n",
    "create_heatmap(df_occluded_05, \"Stop Decision for scaling=0.5\")\n",
    "\n"
   ]
  },
  {
   "cell_type": "markdown",
   "id": "8fa54447",
   "metadata": {},
   "source": [
    "Simulate the decision-making process"
   ]
  },
  {
   "cell_type": "code",
   "execution_count": 137,
   "id": "198f1e79",
   "metadata": {},
   "outputs": [],
   "source": [
    "def run_trial(present,scaling, scaling_mapping):\n",
    "    \n",
    "    ## scaling mapping is a mapping from the scaling factor\n",
    "    ## to participants' beliefs about the scaling factor\n",
    "    \n",
    "    decision = np.nan\n",
    "    frame = 0\n",
    "    LLR = 0\n",
    "    \n",
    "    while np.isnan(decision):\n",
    "        \n",
    "        evidence = sample_evidence(present,scaling)\n",
    "        LLR += log_likelihood_ratio(evidence,scaling_mapping[scaling])\n",
    "        # Find index of closest value\n",
    "        index_of_closest = np.argmin(np.abs(np.array(considered_range) - LLR))\n",
    "        # Get the closest value\n",
    "        closest_value = considered_range[index_of_closest]\n",
    "        relevant_row = pcorrect_df[(pcorrect_df['frame']==0) & (pcorrect_df['scaling']==scaling_mapping[scaling]) & \n",
    "                                   (pcorrect_df['LLR']==closest_value)].iloc[0]\n",
    "        \n",
    "        if relevant_row.stop_decision==1:\n",
    "            if relevant_row.posterior_present>relevant_row.posterior_absent:\n",
    "                decision=1\n",
    "            else:\n",
    "                decision=0\n",
    "        frame += 1\n",
    "                \n",
    "    for _ in range(2):\n",
    "        evidence = sample_evidence(present, scaling)\n",
    "        LLR += log_likelihood_ratio(evidence, scaling_mapping[scaling])\n",
    "    if relevant_row.stop_decision==1:\n",
    "        if decision==1:\n",
    "            confidence = np.exp(LLR)/(1+np.exp(LLR))\n",
    "        else:\n",
    "            confidence = 1/(1+np.exp(LLR))\n",
    "\n",
    "        \n",
    "    return((decision,frame,confidence))\n",
    "\n"
   ]
  },
  {
   "cell_type": "code",
   "execution_count": 202,
   "id": "fa5b1e58",
   "metadata": {},
   "outputs": [
    {
     "data": {
      "text/plain": [
       "(1, 38, 0.7277790315281611)"
      ]
     },
     "execution_count": 202,
     "metadata": {},
     "output_type": "execute_result"
    }
   ],
   "source": [
    "scaling_mapping_accurate = {1:1, 0.7:0.7}\n",
    "scaling_mapping_fault1 = {1:0.85, 0.7:0.85}\n",
    "scaling_mapping_fault2 = {1:1, 0.7:0.5}\n",
    "\n",
    "run_trial(0,1,scaling_mapping_fault2)"
   ]
  },
  {
   "cell_type": "code",
   "execution_count": 204,
   "id": "81d1f5cc",
   "metadata": {},
   "outputs": [],
   "source": [
    "simulated_trials_accurate_df = pd.DataFrame(columns=['present','occluded_rows','trial','decision','RT','confidence'])\n",
    "\n",
    "num_trials = 1000\n",
    "\n",
    "for target_present in [1,0]:\n",
    "    for scaling in [1,0.7]:\n",
    "        for trial in range(num_trials):\n",
    "            occluded_rows = {1:2,0.7:6}[scaling]\n",
    "            (decision,frame,confidence) = run_trial(target_present,scaling, scaling_mapping_accurate)\n",
    "            simulated_trials_df.loc[len(simulated_trials_df)] = [target_present, \n",
    "                                occluded_rows, \n",
    "                                trial,\n",
    "                                decision,\n",
    "                                frame,\n",
    "                                confidence]\n",
    "            \n",
    "simulated_trials_df.to_csv('simulated_data/accum_bernoulli_occlusion.csv', index=False)\n"
   ]
  },
  {
   "cell_type": "markdown",
   "id": "4b00ab75",
   "metadata": {},
   "source": [
    "## Faulty agent 1\n",
    "\n",
    "the first metacognitive fault is one where beliefs about stimulus visibility are the same for the two occlusion levels (scaling=0.85 for both)."
   ]
  },
  {
   "cell_type": "code",
   "execution_count": null,
   "id": "b793d281",
   "metadata": {
    "collapsed": true
   },
   "outputs": [],
   "source": [
    "simulated_trials_fault1_df = pd.DataFrame(columns=['present','occluded_rows','trial','decision','RT','confidence'])\n",
    "\n",
    "num_trials = 1000\n",
    "\n",
    "for target_present in [1,0]:\n",
    "    for scaling in [1,0.7]:\n",
    "        for trial in range(num_trials):\n",
    "            occluded_rows = {1:2,0.7:6}[scaling]\n",
    "            (decision,frame,confidence) = run_trial(target_present,scaling, scaling_mapping_fault1)\n",
    "            simulated_trials_fault1_df.loc[len(simulated_trials_fault1_df)] = [target_present, \n",
    "                                occluded_rows, \n",
    "                                trial,\n",
    "                                decision,\n",
    "                                frame,\n",
    "                                confidence]\n",
    "            \n",
    "simulated_trials_fault1_df.to_csv('simulated_data/accum_bernoulli_occlusion_fault1.csv', index=False)"
   ]
  },
  {
   "cell_type": "markdown",
   "id": "71281ef6",
   "metadata": {},
   "source": [
    "## Faulty agent 2\n",
    "\n",
    "The second metacognitive fault is one where beliefs about the effects of occlusion on visibility are exaggerated: participants overestimate the effect of high occlusion to be a scaling of 0.5, rather than 0.7 as it really is."
   ]
  },
  {
   "cell_type": "code",
   "execution_count": 209,
   "id": "953a147d",
   "metadata": {},
   "outputs": [],
   "source": [
    "simulated_trials_fault2_df = pd.DataFrame(columns=['present','occluded_rows','trial','decision','RT','confidence'])\n",
    "\n",
    "num_trials = 1000\n",
    "\n",
    "for target_present in [1,0]:\n",
    "    for scaling in [1,0.7]:\n",
    "        for trial in range(num_trials):\n",
    "            occluded_rows = {1:2,0.7:6}[scaling]\n",
    "            (decision,frame,confidence) = run_trial(target_present,scaling, scaling_mapping_fault2)\n",
    "            simulated_trials_fault1_df.loc[len(simulated_trials_fault2_df)] = [target_present, \n",
    "                                occluded_rows, \n",
    "                                trial,\n",
    "                                decision,\n",
    "                                frame,\n",
    "                                confidence]\n",
    "            \n",
    "simulated_trials_fault2_df.to_csv('simulated_data/accum_bernoulli_occlusion_fault2.csv', index=False)"
   ]
  }
 ],
 "metadata": {
  "kernelspec": {
   "display_name": "Python 3 (ipykernel)",
   "language": "python",
   "name": "python3"
  },
  "language_info": {
   "codemirror_mode": {
    "name": "ipython",
    "version": 3
   },
   "file_extension": ".py",
   "mimetype": "text/x-python",
   "name": "python",
   "nbconvert_exporter": "python",
   "pygments_lexer": "ipython3",
   "version": "3.9.7"
  }
 },
 "nbformat": 4,
 "nbformat_minor": 5
}
